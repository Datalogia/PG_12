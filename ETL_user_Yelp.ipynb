{
  "nbformat": 4,
  "nbformat_minor": 0,
  "metadata": {
    "colab": {
      "provenance": []
    },
    "kernelspec": {
      "name": "python3",
      "display_name": "Python 3"
    },
    "language_info": {
      "name": "python"
    }
  },
  "cells": [
    {
      "cell_type": "markdown",
      "source": [
        "# **ETL Reviews usuarios de Yelp**"
      ],
      "metadata": {
        "id": "4XRCtlmaxfvP"
      }
    },
    {
      "cell_type": "code",
      "source": [
        "import numpy as np\n",
        "import pandas as pd\n",
        "import os\n",
        "import seaborn as sns\n",
        "import missingno as msno\n",
        "import matplotlib.pyplot as plt\n",
        "from datetime import datetime\n",
        "import statsmodels.api as sm"
      ],
      "metadata": {
        "id": "KGrSL0i6rTNn"
      },
      "execution_count": 1,
      "outputs": []
    },
    {
      "cell_type": "markdown",
      "source": [
        "## **Extraccion de los datos(desde la fuente)**"
      ],
      "metadata": {
        "id": "Kh0HuN_tyZ4w"
      }
    },
    {
      "cell_type": "code",
      "source": [
        "df_y1=pd.read_parquet('/content/drive/MyDrive/P_F_H/user.parquet')\n",
        "df_y1.head(2)"
      ],
      "metadata": {
        "colab": {
          "base_uri": "https://localhost:8080/",
          "height": 258
        },
        "id": "dawpfvIJyYGM",
        "outputId": "f8bc1c03-665e-4281-f9fa-c880aa1ffe38"
      },
      "execution_count": 2,
      "outputs": [
        {
          "output_type": "execute_result",
          "data": {
            "text/plain": [
              "                  user_id    name  review_count        yelping_since  useful  \\\n",
              "0  qVc8ODYU5SZjKXVBgXdI7w  Walker           585  2007-01-25 16:47:26    7217   \n",
              "1  j14WgRoU_-2ZE1aw1dXrJg  Daniel          4333  2009-01-25 04:35:42   43091   \n",
              "\n",
              "   funny   cool                                              elite  \\\n",
              "0   1259   5994                                               2007   \n",
              "1  13066  27281  2009,2010,2011,2012,2013,2014,2015,2016,2017,2...   \n",
              "\n",
              "                                             friends  fans  ...  \\\n",
              "0  NSCy54eWehBJyZdG2iE84w, pe42u7DcCH2QmI81NX-8qA...   267  ...   \n",
              "1  ueRPE0CX75ePGMqOFVj6IQ, 52oH4DrRvzzl8wh5UXyU0A...  3138  ...   \n",
              "\n",
              "   compliment_more  compliment_profile  compliment_cute  compliment_list  \\\n",
              "0               65                  55               56               18   \n",
              "1              264                 184              157              251   \n",
              "\n",
              "   compliment_note  compliment_plain  compliment_cool  compliment_funny  \\\n",
              "0              232               844              467               467   \n",
              "1             1847              7054             3131              3131   \n",
              "\n",
              "   compliment_writer  compliment_photos  \n",
              "0                239                180  \n",
              "1               1521               1946  \n",
              "\n",
              "[2 rows x 22 columns]"
            ],
            "text/html": [
              "\n",
              "\n",
              "  <div id=\"df-4aca7217-9b2e-4663-bd35-e05b3bd08e29\">\n",
              "    <div class=\"colab-df-container\">\n",
              "      <div>\n",
              "<style scoped>\n",
              "    .dataframe tbody tr th:only-of-type {\n",
              "        vertical-align: middle;\n",
              "    }\n",
              "\n",
              "    .dataframe tbody tr th {\n",
              "        vertical-align: top;\n",
              "    }\n",
              "\n",
              "    .dataframe thead th {\n",
              "        text-align: right;\n",
              "    }\n",
              "</style>\n",
              "<table border=\"1\" class=\"dataframe\">\n",
              "  <thead>\n",
              "    <tr style=\"text-align: right;\">\n",
              "      <th></th>\n",
              "      <th>user_id</th>\n",
              "      <th>name</th>\n",
              "      <th>review_count</th>\n",
              "      <th>yelping_since</th>\n",
              "      <th>useful</th>\n",
              "      <th>funny</th>\n",
              "      <th>cool</th>\n",
              "      <th>elite</th>\n",
              "      <th>friends</th>\n",
              "      <th>fans</th>\n",
              "      <th>...</th>\n",
              "      <th>compliment_more</th>\n",
              "      <th>compliment_profile</th>\n",
              "      <th>compliment_cute</th>\n",
              "      <th>compliment_list</th>\n",
              "      <th>compliment_note</th>\n",
              "      <th>compliment_plain</th>\n",
              "      <th>compliment_cool</th>\n",
              "      <th>compliment_funny</th>\n",
              "      <th>compliment_writer</th>\n",
              "      <th>compliment_photos</th>\n",
              "    </tr>\n",
              "  </thead>\n",
              "  <tbody>\n",
              "    <tr>\n",
              "      <th>0</th>\n",
              "      <td>qVc8ODYU5SZjKXVBgXdI7w</td>\n",
              "      <td>Walker</td>\n",
              "      <td>585</td>\n",
              "      <td>2007-01-25 16:47:26</td>\n",
              "      <td>7217</td>\n",
              "      <td>1259</td>\n",
              "      <td>5994</td>\n",
              "      <td>2007</td>\n",
              "      <td>NSCy54eWehBJyZdG2iE84w, pe42u7DcCH2QmI81NX-8qA...</td>\n",
              "      <td>267</td>\n",
              "      <td>...</td>\n",
              "      <td>65</td>\n",
              "      <td>55</td>\n",
              "      <td>56</td>\n",
              "      <td>18</td>\n",
              "      <td>232</td>\n",
              "      <td>844</td>\n",
              "      <td>467</td>\n",
              "      <td>467</td>\n",
              "      <td>239</td>\n",
              "      <td>180</td>\n",
              "    </tr>\n",
              "    <tr>\n",
              "      <th>1</th>\n",
              "      <td>j14WgRoU_-2ZE1aw1dXrJg</td>\n",
              "      <td>Daniel</td>\n",
              "      <td>4333</td>\n",
              "      <td>2009-01-25 04:35:42</td>\n",
              "      <td>43091</td>\n",
              "      <td>13066</td>\n",
              "      <td>27281</td>\n",
              "      <td>2009,2010,2011,2012,2013,2014,2015,2016,2017,2...</td>\n",
              "      <td>ueRPE0CX75ePGMqOFVj6IQ, 52oH4DrRvzzl8wh5UXyU0A...</td>\n",
              "      <td>3138</td>\n",
              "      <td>...</td>\n",
              "      <td>264</td>\n",
              "      <td>184</td>\n",
              "      <td>157</td>\n",
              "      <td>251</td>\n",
              "      <td>1847</td>\n",
              "      <td>7054</td>\n",
              "      <td>3131</td>\n",
              "      <td>3131</td>\n",
              "      <td>1521</td>\n",
              "      <td>1946</td>\n",
              "    </tr>\n",
              "  </tbody>\n",
              "</table>\n",
              "<p>2 rows × 22 columns</p>\n",
              "</div>\n",
              "      <button class=\"colab-df-convert\" onclick=\"convertToInteractive('df-4aca7217-9b2e-4663-bd35-e05b3bd08e29')\"\n",
              "              title=\"Convert this dataframe to an interactive table.\"\n",
              "              style=\"display:none;\">\n",
              "\n",
              "  <svg xmlns=\"http://www.w3.org/2000/svg\" height=\"24px\"viewBox=\"0 0 24 24\"\n",
              "       width=\"24px\">\n",
              "    <path d=\"M0 0h24v24H0V0z\" fill=\"none\"/>\n",
              "    <path d=\"M18.56 5.44l.94 2.06.94-2.06 2.06-.94-2.06-.94-.94-2.06-.94 2.06-2.06.94zm-11 1L8.5 8.5l.94-2.06 2.06-.94-2.06-.94L8.5 2.5l-.94 2.06-2.06.94zm10 10l.94 2.06.94-2.06 2.06-.94-2.06-.94-.94-2.06-.94 2.06-2.06.94z\"/><path d=\"M17.41 7.96l-1.37-1.37c-.4-.4-.92-.59-1.43-.59-.52 0-1.04.2-1.43.59L10.3 9.45l-7.72 7.72c-.78.78-.78 2.05 0 2.83L4 21.41c.39.39.9.59 1.41.59.51 0 1.02-.2 1.41-.59l7.78-7.78 2.81-2.81c.8-.78.8-2.07 0-2.86zM5.41 20L4 18.59l7.72-7.72 1.47 1.35L5.41 20z\"/>\n",
              "  </svg>\n",
              "      </button>\n",
              "\n",
              "\n",
              "\n",
              "    <div id=\"df-544e8dfa-854c-4f91-9cac-0e6008f6a732\">\n",
              "      <button class=\"colab-df-quickchart\" onclick=\"quickchart('df-544e8dfa-854c-4f91-9cac-0e6008f6a732')\"\n",
              "              title=\"Suggest charts.\"\n",
              "              style=\"display:none;\">\n",
              "\n",
              "<svg xmlns=\"http://www.w3.org/2000/svg\" height=\"24px\"viewBox=\"0 0 24 24\"\n",
              "     width=\"24px\">\n",
              "    <g>\n",
              "        <path d=\"M19 3H5c-1.1 0-2 .9-2 2v14c0 1.1.9 2 2 2h14c1.1 0 2-.9 2-2V5c0-1.1-.9-2-2-2zM9 17H7v-7h2v7zm4 0h-2V7h2v10zm4 0h-2v-4h2v4z\"/>\n",
              "    </g>\n",
              "</svg>\n",
              "      </button>\n",
              "    </div>\n",
              "\n",
              "<style>\n",
              "  .colab-df-quickchart {\n",
              "    background-color: #E8F0FE;\n",
              "    border: none;\n",
              "    border-radius: 50%;\n",
              "    cursor: pointer;\n",
              "    display: none;\n",
              "    fill: #1967D2;\n",
              "    height: 32px;\n",
              "    padding: 0 0 0 0;\n",
              "    width: 32px;\n",
              "  }\n",
              "\n",
              "  .colab-df-quickchart:hover {\n",
              "    background-color: #E2EBFA;\n",
              "    box-shadow: 0px 1px 2px rgba(60, 64, 67, 0.3), 0px 1px 3px 1px rgba(60, 64, 67, 0.15);\n",
              "    fill: #174EA6;\n",
              "  }\n",
              "\n",
              "  [theme=dark] .colab-df-quickchart {\n",
              "    background-color: #3B4455;\n",
              "    fill: #D2E3FC;\n",
              "  }\n",
              "\n",
              "  [theme=dark] .colab-df-quickchart:hover {\n",
              "    background-color: #434B5C;\n",
              "    box-shadow: 0px 1px 3px 1px rgba(0, 0, 0, 0.15);\n",
              "    filter: drop-shadow(0px 1px 2px rgba(0, 0, 0, 0.3));\n",
              "    fill: #FFFFFF;\n",
              "  }\n",
              "</style>\n",
              "\n",
              "    <script>\n",
              "      async function quickchart(key) {\n",
              "        const containerElement = document.querySelector('#' + key);\n",
              "        const charts = await google.colab.kernel.invokeFunction(\n",
              "            'suggestCharts', [key], {});\n",
              "      }\n",
              "    </script>\n",
              "\n",
              "      <script>\n",
              "\n",
              "function displayQuickchartButton(domScope) {\n",
              "  let quickchartButtonEl =\n",
              "    domScope.querySelector('#df-544e8dfa-854c-4f91-9cac-0e6008f6a732 button.colab-df-quickchart');\n",
              "  quickchartButtonEl.style.display =\n",
              "    google.colab.kernel.accessAllowed ? 'block' : 'none';\n",
              "}\n",
              "\n",
              "        displayQuickchartButton(document);\n",
              "      </script>\n",
              "      <style>\n",
              "    .colab-df-container {\n",
              "      display:flex;\n",
              "      flex-wrap:wrap;\n",
              "      gap: 12px;\n",
              "    }\n",
              "\n",
              "    .colab-df-convert {\n",
              "      background-color: #E8F0FE;\n",
              "      border: none;\n",
              "      border-radius: 50%;\n",
              "      cursor: pointer;\n",
              "      display: none;\n",
              "      fill: #1967D2;\n",
              "      height: 32px;\n",
              "      padding: 0 0 0 0;\n",
              "      width: 32px;\n",
              "    }\n",
              "\n",
              "    .colab-df-convert:hover {\n",
              "      background-color: #E2EBFA;\n",
              "      box-shadow: 0px 1px 2px rgba(60, 64, 67, 0.3), 0px 1px 3px 1px rgba(60, 64, 67, 0.15);\n",
              "      fill: #174EA6;\n",
              "    }\n",
              "\n",
              "    [theme=dark] .colab-df-convert {\n",
              "      background-color: #3B4455;\n",
              "      fill: #D2E3FC;\n",
              "    }\n",
              "\n",
              "    [theme=dark] .colab-df-convert:hover {\n",
              "      background-color: #434B5C;\n",
              "      box-shadow: 0px 1px 3px 1px rgba(0, 0, 0, 0.15);\n",
              "      filter: drop-shadow(0px 1px 2px rgba(0, 0, 0, 0.3));\n",
              "      fill: #FFFFFF;\n",
              "    }\n",
              "  </style>\n",
              "\n",
              "      <script>\n",
              "        const buttonEl =\n",
              "          document.querySelector('#df-4aca7217-9b2e-4663-bd35-e05b3bd08e29 button.colab-df-convert');\n",
              "        buttonEl.style.display =\n",
              "          google.colab.kernel.accessAllowed ? 'block' : 'none';\n",
              "\n",
              "        async function convertToInteractive(key) {\n",
              "          const element = document.querySelector('#df-4aca7217-9b2e-4663-bd35-e05b3bd08e29');\n",
              "          const dataTable =\n",
              "            await google.colab.kernel.invokeFunction('convertToInteractive',\n",
              "                                                     [key], {});\n",
              "          if (!dataTable) return;\n",
              "\n",
              "          const docLinkHtml = 'Like what you see? Visit the ' +\n",
              "            '<a target=\"_blank\" href=https://colab.research.google.com/notebooks/data_table.ipynb>data table notebook</a>'\n",
              "            + ' to learn more about interactive tables.';\n",
              "          element.innerHTML = '';\n",
              "          dataTable['output_type'] = 'display_data';\n",
              "          await google.colab.output.renderOutput(dataTable, element);\n",
              "          const docLink = document.createElement('div');\n",
              "          docLink.innerHTML = docLinkHtml;\n",
              "          element.appendChild(docLink);\n",
              "        }\n",
              "      </script>\n",
              "    </div>\n",
              "  </div>\n"
            ]
          },
          "metadata": {},
          "execution_count": 2
        }
      ]
    },
    {
      "cell_type": "code",
      "source": [
        "df_y1.info()"
      ],
      "metadata": {
        "colab": {
          "base_uri": "https://localhost:8080/"
        },
        "id": "rS3en5Ji-ajX",
        "outputId": "f334b351-9159-4fd0-849c-cac98c41a2f5"
      },
      "execution_count": 3,
      "outputs": [
        {
          "output_type": "stream",
          "name": "stdout",
          "text": [
            "<class 'pandas.core.frame.DataFrame'>\n",
            "RangeIndex: 2105597 entries, 0 to 2105596\n",
            "Data columns (total 22 columns):\n",
            " #   Column              Dtype  \n",
            "---  ------              -----  \n",
            " 0   user_id             object \n",
            " 1   name                object \n",
            " 2   review_count        int64  \n",
            " 3   yelping_since       object \n",
            " 4   useful              int64  \n",
            " 5   funny               int64  \n",
            " 6   cool                int64  \n",
            " 7   elite               object \n",
            " 8   friends             object \n",
            " 9   fans                int64  \n",
            " 10  average_stars       float64\n",
            " 11  compliment_hot      int64  \n",
            " 12  compliment_more     int64  \n",
            " 13  compliment_profile  int64  \n",
            " 14  compliment_cute     int64  \n",
            " 15  compliment_list     int64  \n",
            " 16  compliment_note     int64  \n",
            " 17  compliment_plain    int64  \n",
            " 18  compliment_cool     int64  \n",
            " 19  compliment_funny    int64  \n",
            " 20  compliment_writer   int64  \n",
            " 21  compliment_photos   int64  \n",
            "dtypes: float64(1), int64(16), object(5)\n",
            "memory usage: 353.4+ MB\n"
          ]
        }
      ]
    },
    {
      "cell_type": "markdown",
      "source": [
        "## **Tranformacion de los datos**"
      ],
      "metadata": {
        "id": "EboWbGUviKW6"
      }
    },
    {
      "cell_type": "code",
      "source": [
        "df_y1.drop(['name','compliment_hot','compliment_more','compliment_profile','compliment_cute','compliment_list','compliment_note','compliment_plain','compliment_cool','compliment_funny','compliment_writer','compliment_photos'], axis=1,inplace=True)"
      ],
      "metadata": {
        "id": "8Hjjk-o_Arsu"
      },
      "execution_count": 4,
      "outputs": []
    },
    {
      "cell_type": "code",
      "source": [
        "df_y1.info()"
      ],
      "metadata": {
        "colab": {
          "base_uri": "https://localhost:8080/"
        },
        "id": "ONYaD0QcEtht",
        "outputId": "372cfeb3-8572-4f6c-ba17-fa551a12ae76"
      },
      "execution_count": 5,
      "outputs": [
        {
          "output_type": "stream",
          "name": "stdout",
          "text": [
            "<class 'pandas.core.frame.DataFrame'>\n",
            "RangeIndex: 2105597 entries, 0 to 2105596\n",
            "Data columns (total 10 columns):\n",
            " #   Column         Dtype  \n",
            "---  ------         -----  \n",
            " 0   user_id        object \n",
            " 1   review_count   int64  \n",
            " 2   yelping_since  object \n",
            " 3   useful         int64  \n",
            " 4   funny          int64  \n",
            " 5   cool           int64  \n",
            " 6   elite          object \n",
            " 7   friends        object \n",
            " 8   fans           int64  \n",
            " 9   average_stars  float64\n",
            "dtypes: float64(1), int64(5), object(4)\n",
            "memory usage: 160.6+ MB\n"
          ]
        }
      ]
    },
    {
      "cell_type": "code",
      "source": [
        "df_y1.drop(['useful','funny','cool'], axis=1,inplace=True)"
      ],
      "metadata": {
        "id": "epGGCdrhVfS4"
      },
      "execution_count": 6,
      "outputs": []
    },
    {
      "cell_type": "code",
      "source": [
        "df_y1.info()"
      ],
      "metadata": {
        "colab": {
          "base_uri": "https://localhost:8080/"
        },
        "outputId": "c396c859-4bbc-4b50-e47c-f1ad6f1b44f7",
        "id": "EQmHv80sWFXK"
      },
      "execution_count": 7,
      "outputs": [
        {
          "output_type": "stream",
          "name": "stdout",
          "text": [
            "<class 'pandas.core.frame.DataFrame'>\n",
            "RangeIndex: 2105597 entries, 0 to 2105596\n",
            "Data columns (total 7 columns):\n",
            " #   Column         Dtype  \n",
            "---  ------         -----  \n",
            " 0   user_id        object \n",
            " 1   review_count   int64  \n",
            " 2   yelping_since  object \n",
            " 3   elite          object \n",
            " 4   friends        object \n",
            " 5   fans           int64  \n",
            " 6   average_stars  float64\n",
            "dtypes: float64(1), int64(2), object(4)\n",
            "memory usage: 112.5+ MB\n"
          ]
        }
      ]
    },
    {
      "cell_type": "markdown",
      "source": [
        "### **Busqueda de valores nulos**"
      ],
      "metadata": {
        "id": "neguvMLsfzVv"
      }
    },
    {
      "cell_type": "code",
      "source": [
        "df_y1.isnull().sum()"
      ],
      "metadata": {
        "colab": {
          "base_uri": "https://localhost:8080/"
        },
        "id": "VU8o3d-N6yY1",
        "outputId": "7b3b99f9-0c31-43a4-cbd3-5f7d65bd985d"
      },
      "execution_count": 8,
      "outputs": [
        {
          "output_type": "execute_result",
          "data": {
            "text/plain": [
              "user_id          0\n",
              "review_count     0\n",
              "yelping_since    0\n",
              "elite            0\n",
              "friends          0\n",
              "fans             0\n",
              "average_stars    0\n",
              "dtype: int64"
            ]
          },
          "metadata": {},
          "execution_count": 8
        }
      ]
    },
    {
      "cell_type": "code",
      "source": [
        "df_y1.head(5)"
      ],
      "metadata": {
        "colab": {
          "base_uri": "https://localhost:8080/",
          "height": 357
        },
        "outputId": "9ec653d1-cf3f-46f5-940f-e1e5851f83bb",
        "id": "jZQRaeO_WRvE"
      },
      "execution_count": 11,
      "outputs": [
        {
          "output_type": "execute_result",
          "data": {
            "text/plain": [
              "                  user_id  review_count        yelping_since  \\\n",
              "0  qVc8ODYU5SZjKXVBgXdI7w           585  2007-01-25 16:47:26   \n",
              "1  j14WgRoU_-2ZE1aw1dXrJg          4333  2009-01-25 04:35:42   \n",
              "2  2WnXYQFK0hXEoTxPtV2zvg           665  2008-07-25 10:41:00   \n",
              "3  SZDeASXq7o05mMNLshsdIA           224  2005-11-29 04:38:33   \n",
              "4  hA5lMy-EnncsH4JoR-hFGQ            79  2007-01-05 19:40:59   \n",
              "\n",
              "                                               elite  \\\n",
              "0                                               2007   \n",
              "1  2009,2010,2011,2012,2013,2014,2015,2016,2017,2...   \n",
              "2                           2009,2010,2011,2012,2013   \n",
              "3                                     2009,2010,2011   \n",
              "4                                                      \n",
              "\n",
              "                                             friends  fans  average_stars  \n",
              "0  NSCy54eWehBJyZdG2iE84w, pe42u7DcCH2QmI81NX-8qA...   267           3.91  \n",
              "1  ueRPE0CX75ePGMqOFVj6IQ, 52oH4DrRvzzl8wh5UXyU0A...  3138           3.74  \n",
              "2  LuO3Bn4f3rlhyHIaNfTlnA, j9B4XdHUhDfTKVecyWQgyA...    52           3.32  \n",
              "3  enx1vVPnfdNUdPho6PH_wg, 4wOcvMLtU6a9Lslggq74Vg...    28           4.27  \n",
              "4  PBK4q9KEEBHhFvSXCUirIw, 3FWPpM7KU1gXeOM_ZbYMbA...     1           3.54  "
            ],
            "text/html": [
              "\n",
              "\n",
              "  <div id=\"df-90b6133d-c824-4af1-9cd7-abe378cb8743\">\n",
              "    <div class=\"colab-df-container\">\n",
              "      <div>\n",
              "<style scoped>\n",
              "    .dataframe tbody tr th:only-of-type {\n",
              "        vertical-align: middle;\n",
              "    }\n",
              "\n",
              "    .dataframe tbody tr th {\n",
              "        vertical-align: top;\n",
              "    }\n",
              "\n",
              "    .dataframe thead th {\n",
              "        text-align: right;\n",
              "    }\n",
              "</style>\n",
              "<table border=\"1\" class=\"dataframe\">\n",
              "  <thead>\n",
              "    <tr style=\"text-align: right;\">\n",
              "      <th></th>\n",
              "      <th>user_id</th>\n",
              "      <th>review_count</th>\n",
              "      <th>yelping_since</th>\n",
              "      <th>elite</th>\n",
              "      <th>friends</th>\n",
              "      <th>fans</th>\n",
              "      <th>average_stars</th>\n",
              "    </tr>\n",
              "  </thead>\n",
              "  <tbody>\n",
              "    <tr>\n",
              "      <th>0</th>\n",
              "      <td>qVc8ODYU5SZjKXVBgXdI7w</td>\n",
              "      <td>585</td>\n",
              "      <td>2007-01-25 16:47:26</td>\n",
              "      <td>2007</td>\n",
              "      <td>NSCy54eWehBJyZdG2iE84w, pe42u7DcCH2QmI81NX-8qA...</td>\n",
              "      <td>267</td>\n",
              "      <td>3.91</td>\n",
              "    </tr>\n",
              "    <tr>\n",
              "      <th>1</th>\n",
              "      <td>j14WgRoU_-2ZE1aw1dXrJg</td>\n",
              "      <td>4333</td>\n",
              "      <td>2009-01-25 04:35:42</td>\n",
              "      <td>2009,2010,2011,2012,2013,2014,2015,2016,2017,2...</td>\n",
              "      <td>ueRPE0CX75ePGMqOFVj6IQ, 52oH4DrRvzzl8wh5UXyU0A...</td>\n",
              "      <td>3138</td>\n",
              "      <td>3.74</td>\n",
              "    </tr>\n",
              "    <tr>\n",
              "      <th>2</th>\n",
              "      <td>2WnXYQFK0hXEoTxPtV2zvg</td>\n",
              "      <td>665</td>\n",
              "      <td>2008-07-25 10:41:00</td>\n",
              "      <td>2009,2010,2011,2012,2013</td>\n",
              "      <td>LuO3Bn4f3rlhyHIaNfTlnA, j9B4XdHUhDfTKVecyWQgyA...</td>\n",
              "      <td>52</td>\n",
              "      <td>3.32</td>\n",
              "    </tr>\n",
              "    <tr>\n",
              "      <th>3</th>\n",
              "      <td>SZDeASXq7o05mMNLshsdIA</td>\n",
              "      <td>224</td>\n",
              "      <td>2005-11-29 04:38:33</td>\n",
              "      <td>2009,2010,2011</td>\n",
              "      <td>enx1vVPnfdNUdPho6PH_wg, 4wOcvMLtU6a9Lslggq74Vg...</td>\n",
              "      <td>28</td>\n",
              "      <td>4.27</td>\n",
              "    </tr>\n",
              "    <tr>\n",
              "      <th>4</th>\n",
              "      <td>hA5lMy-EnncsH4JoR-hFGQ</td>\n",
              "      <td>79</td>\n",
              "      <td>2007-01-05 19:40:59</td>\n",
              "      <td></td>\n",
              "      <td>PBK4q9KEEBHhFvSXCUirIw, 3FWPpM7KU1gXeOM_ZbYMbA...</td>\n",
              "      <td>1</td>\n",
              "      <td>3.54</td>\n",
              "    </tr>\n",
              "  </tbody>\n",
              "</table>\n",
              "</div>\n",
              "      <button class=\"colab-df-convert\" onclick=\"convertToInteractive('df-90b6133d-c824-4af1-9cd7-abe378cb8743')\"\n",
              "              title=\"Convert this dataframe to an interactive table.\"\n",
              "              style=\"display:none;\">\n",
              "\n",
              "  <svg xmlns=\"http://www.w3.org/2000/svg\" height=\"24px\"viewBox=\"0 0 24 24\"\n",
              "       width=\"24px\">\n",
              "    <path d=\"M0 0h24v24H0V0z\" fill=\"none\"/>\n",
              "    <path d=\"M18.56 5.44l.94 2.06.94-2.06 2.06-.94-2.06-.94-.94-2.06-.94 2.06-2.06.94zm-11 1L8.5 8.5l.94-2.06 2.06-.94-2.06-.94L8.5 2.5l-.94 2.06-2.06.94zm10 10l.94 2.06.94-2.06 2.06-.94-2.06-.94-.94-2.06-.94 2.06-2.06.94z\"/><path d=\"M17.41 7.96l-1.37-1.37c-.4-.4-.92-.59-1.43-.59-.52 0-1.04.2-1.43.59L10.3 9.45l-7.72 7.72c-.78.78-.78 2.05 0 2.83L4 21.41c.39.39.9.59 1.41.59.51 0 1.02-.2 1.41-.59l7.78-7.78 2.81-2.81c.8-.78.8-2.07 0-2.86zM5.41 20L4 18.59l7.72-7.72 1.47 1.35L5.41 20z\"/>\n",
              "  </svg>\n",
              "      </button>\n",
              "\n",
              "\n",
              "\n",
              "    <div id=\"df-f3c5c266-887c-48bc-b425-549fd81b9e90\">\n",
              "      <button class=\"colab-df-quickchart\" onclick=\"quickchart('df-f3c5c266-887c-48bc-b425-549fd81b9e90')\"\n",
              "              title=\"Suggest charts.\"\n",
              "              style=\"display:none;\">\n",
              "\n",
              "<svg xmlns=\"http://www.w3.org/2000/svg\" height=\"24px\"viewBox=\"0 0 24 24\"\n",
              "     width=\"24px\">\n",
              "    <g>\n",
              "        <path d=\"M19 3H5c-1.1 0-2 .9-2 2v14c0 1.1.9 2 2 2h14c1.1 0 2-.9 2-2V5c0-1.1-.9-2-2-2zM9 17H7v-7h2v7zm4 0h-2V7h2v10zm4 0h-2v-4h2v4z\"/>\n",
              "    </g>\n",
              "</svg>\n",
              "      </button>\n",
              "    </div>\n",
              "\n",
              "<style>\n",
              "  .colab-df-quickchart {\n",
              "    background-color: #E8F0FE;\n",
              "    border: none;\n",
              "    border-radius: 50%;\n",
              "    cursor: pointer;\n",
              "    display: none;\n",
              "    fill: #1967D2;\n",
              "    height: 32px;\n",
              "    padding: 0 0 0 0;\n",
              "    width: 32px;\n",
              "  }\n",
              "\n",
              "  .colab-df-quickchart:hover {\n",
              "    background-color: #E2EBFA;\n",
              "    box-shadow: 0px 1px 2px rgba(60, 64, 67, 0.3), 0px 1px 3px 1px rgba(60, 64, 67, 0.15);\n",
              "    fill: #174EA6;\n",
              "  }\n",
              "\n",
              "  [theme=dark] .colab-df-quickchart {\n",
              "    background-color: #3B4455;\n",
              "    fill: #D2E3FC;\n",
              "  }\n",
              "\n",
              "  [theme=dark] .colab-df-quickchart:hover {\n",
              "    background-color: #434B5C;\n",
              "    box-shadow: 0px 1px 3px 1px rgba(0, 0, 0, 0.15);\n",
              "    filter: drop-shadow(0px 1px 2px rgba(0, 0, 0, 0.3));\n",
              "    fill: #FFFFFF;\n",
              "  }\n",
              "</style>\n",
              "\n",
              "    <script>\n",
              "      async function quickchart(key) {\n",
              "        const containerElement = document.querySelector('#' + key);\n",
              "        const charts = await google.colab.kernel.invokeFunction(\n",
              "            'suggestCharts', [key], {});\n",
              "      }\n",
              "    </script>\n",
              "\n",
              "      <script>\n",
              "\n",
              "function displayQuickchartButton(domScope) {\n",
              "  let quickchartButtonEl =\n",
              "    domScope.querySelector('#df-f3c5c266-887c-48bc-b425-549fd81b9e90 button.colab-df-quickchart');\n",
              "  quickchartButtonEl.style.display =\n",
              "    google.colab.kernel.accessAllowed ? 'block' : 'none';\n",
              "}\n",
              "\n",
              "        displayQuickchartButton(document);\n",
              "      </script>\n",
              "      <style>\n",
              "    .colab-df-container {\n",
              "      display:flex;\n",
              "      flex-wrap:wrap;\n",
              "      gap: 12px;\n",
              "    }\n",
              "\n",
              "    .colab-df-convert {\n",
              "      background-color: #E8F0FE;\n",
              "      border: none;\n",
              "      border-radius: 50%;\n",
              "      cursor: pointer;\n",
              "      display: none;\n",
              "      fill: #1967D2;\n",
              "      height: 32px;\n",
              "      padding: 0 0 0 0;\n",
              "      width: 32px;\n",
              "    }\n",
              "\n",
              "    .colab-df-convert:hover {\n",
              "      background-color: #E2EBFA;\n",
              "      box-shadow: 0px 1px 2px rgba(60, 64, 67, 0.3), 0px 1px 3px 1px rgba(60, 64, 67, 0.15);\n",
              "      fill: #174EA6;\n",
              "    }\n",
              "\n",
              "    [theme=dark] .colab-df-convert {\n",
              "      background-color: #3B4455;\n",
              "      fill: #D2E3FC;\n",
              "    }\n",
              "\n",
              "    [theme=dark] .colab-df-convert:hover {\n",
              "      background-color: #434B5C;\n",
              "      box-shadow: 0px 1px 3px 1px rgba(0, 0, 0, 0.15);\n",
              "      filter: drop-shadow(0px 1px 2px rgba(0, 0, 0, 0.3));\n",
              "      fill: #FFFFFF;\n",
              "    }\n",
              "  </style>\n",
              "\n",
              "      <script>\n",
              "        const buttonEl =\n",
              "          document.querySelector('#df-90b6133d-c824-4af1-9cd7-abe378cb8743 button.colab-df-convert');\n",
              "        buttonEl.style.display =\n",
              "          google.colab.kernel.accessAllowed ? 'block' : 'none';\n",
              "\n",
              "        async function convertToInteractive(key) {\n",
              "          const element = document.querySelector('#df-90b6133d-c824-4af1-9cd7-abe378cb8743');\n",
              "          const dataTable =\n",
              "            await google.colab.kernel.invokeFunction('convertToInteractive',\n",
              "                                                     [key], {});\n",
              "          if (!dataTable) return;\n",
              "\n",
              "          const docLinkHtml = 'Like what you see? Visit the ' +\n",
              "            '<a target=\"_blank\" href=https://colab.research.google.com/notebooks/data_table.ipynb>data table notebook</a>'\n",
              "            + ' to learn more about interactive tables.';\n",
              "          element.innerHTML = '';\n",
              "          dataTable['output_type'] = 'display_data';\n",
              "          await google.colab.output.renderOutput(dataTable, element);\n",
              "          const docLink = document.createElement('div');\n",
              "          docLink.innerHTML = docLinkHtml;\n",
              "          element.appendChild(docLink);\n",
              "        }\n",
              "      </script>\n",
              "    </div>\n",
              "  </div>\n"
            ]
          },
          "metadata": {},
          "execution_count": 11
        }
      ]
    },
    {
      "cell_type": "code",
      "source": [
        "df_y1.loc[1000000].friends"
      ],
      "metadata": {
        "colab": {
          "base_uri": "https://localhost:8080/",
          "height": 53
        },
        "id": "BtyZyKu-Yb4W",
        "outputId": "471e5233-63dd-45ac-db73-a3f5ae9e0a13"
      },
      "execution_count": 23,
      "outputs": [
        {
          "output_type": "execute_result",
          "data": {
            "text/plain": [
              "'hLSxHbq2uuSGC7pMaPVcXw, LMsLF2Y1-wcU6jKk6oOZ8Q, hJl1jx20MCgN7QFRPvoAQg, qVgvQxU-QbWnj9mU6l-qxw, n45pqe8LP7NaPKiXBBiM8w'"
            ],
            "application/vnd.google.colaboratory.intrinsic+json": {
              "type": "string"
            }
          },
          "metadata": {},
          "execution_count": 23
        }
      ]
    },
    {
      "cell_type": "code",
      "source": [
        "df_y1.loc[1].elite\n",
        "#Posible error al cargar año 2020"
      ],
      "metadata": {
        "colab": {
          "base_uri": "https://localhost:8080/",
          "height": 35
        },
        "id": "j7xja5xrZUw9",
        "outputId": "c1577ca0-121c-4e17-fb9a-492430cd0110"
      },
      "execution_count": 28,
      "outputs": [
        {
          "output_type": "execute_result",
          "data": {
            "text/plain": [
              "'2009,2010,2011,2012,2013,2014,2015,2016,2017,2018,2019,20,20,2021'"
            ],
            "application/vnd.google.colaboratory.intrinsic+json": {
              "type": "string"
            }
          },
          "metadata": {},
          "execution_count": 28
        }
      ]
    },
    {
      "cell_type": "markdown",
      "source": [
        "### **Busqueda de filas (valores) duplicados**"
      ],
      "metadata": {
        "id": "-ualygXCZ3Cr"
      }
    },
    {
      "cell_type": "markdown",
      "source": [
        "Realizo un conteo las filas duplicadas"
      ],
      "metadata": {
        "id": "_3xYeDhxhFxD"
      }
    },
    {
      "cell_type": "code",
      "source": [
        "df_y1.duplicated().sum()"
      ],
      "metadata": {
        "colab": {
          "base_uri": "https://localhost:8080/"
        },
        "id": "6GJRj9czZquH",
        "outputId": "411cac6c-a81d-4687-918e-d06af4dc0934"
      },
      "execution_count": 26,
      "outputs": [
        {
          "output_type": "execute_result",
          "data": {
            "text/plain": [
              "117700"
            ]
          },
          "metadata": {},
          "execution_count": 26
        }
      ]
    },
    {
      "cell_type": "markdown",
      "source": [
        "Visualiso las filas duplicadas"
      ],
      "metadata": {
        "id": "m765WlFFhASf"
      }
    },
    {
      "cell_type": "code",
      "source": [
        "df_y1[df_y1.duplicated()]"
      ],
      "metadata": {
        "colab": {
          "base_uri": "https://localhost:8080/",
          "height": 661
        },
        "id": "Tu1pllw4aGK1",
        "outputId": "0759ccf2-68b0-49b1-c9cd-ad802e5102b6"
      },
      "execution_count": 27,
      "outputs": [
        {
          "output_type": "execute_result",
          "data": {
            "text/plain": [
              "                        user_id  review_count        yelping_since  \\\n",
              "1987897  qVc8ODYU5SZjKXVBgXdI7w           585  2007-01-25 16:47:26   \n",
              "1987898  j14WgRoU_-2ZE1aw1dXrJg          4333  2009-01-25 04:35:42   \n",
              "1987899  2WnXYQFK0hXEoTxPtV2zvg           665  2008-07-25 10:41:00   \n",
              "1987900  SZDeASXq7o05mMNLshsdIA           224  2005-11-29 04:38:33   \n",
              "1987901  hA5lMy-EnncsH4JoR-hFGQ            79  2007-01-05 19:40:59   \n",
              "...                         ...           ...                  ...   \n",
              "2105592  4QGxxakRZeOlg_qDuxmTeQ            38  2012-01-19 23:33:02   \n",
              "2105593  tmelBbVBGAzXBVfH2u_R6g            19  2009-06-09 16:34:54   \n",
              "2105594  tpBznnD6uJN3m_pJubj09w            26  2013-08-13 23:18:11   \n",
              "2105595  Kst_srPw7GdYydMFYdCtzw            25  2015-01-10 00:06:25   \n",
              "2105596  mZl-mH3ZIWLRSd_FfvrXFg            30  2015-11-30 21:10:17   \n",
              "\n",
              "                                                     elite  \\\n",
              "1987897                                               2007   \n",
              "1987898  2009,2010,2011,2012,2013,2014,2015,2016,2017,2...   \n",
              "1987899                           2009,2010,2011,2012,2013   \n",
              "1987900                                     2009,2010,2011   \n",
              "1987901                                                      \n",
              "...                                                    ...   \n",
              "2105592                                                      \n",
              "2105593                                                      \n",
              "2105594                                                      \n",
              "2105595                                                      \n",
              "2105596                                                      \n",
              "\n",
              "                                                   friends  fans  \\\n",
              "1987897  NSCy54eWehBJyZdG2iE84w, pe42u7DcCH2QmI81NX-8qA...   267   \n",
              "1987898  ueRPE0CX75ePGMqOFVj6IQ, 52oH4DrRvzzl8wh5UXyU0A...  3138   \n",
              "1987899  LuO3Bn4f3rlhyHIaNfTlnA, j9B4XdHUhDfTKVecyWQgyA...    52   \n",
              "1987900  enx1vVPnfdNUdPho6PH_wg, 4wOcvMLtU6a9Lslggq74Vg...    28   \n",
              "1987901  PBK4q9KEEBHhFvSXCUirIw, 3FWPpM7KU1gXeOM_ZbYMbA...     1   \n",
              "...                                                    ...   ...   \n",
              "2105592                             kmwNG5LZSHFmveg6wYYdrw     0   \n",
              "2105593  BFYdCAMFyjYHDwesndEXEg, _9fTIqfSJc7g3V_o76XRVg...     1   \n",
              "2105594  bKV3ly2MuK-K1cptMrFknQ, liel18zRoSB4tEkUP7i6Cg...     0   \n",
              "2105595  dzHTk52vbGtbktRm_B-wEg, fOfFLV7IbBDN6lzARaLqdg...     0   \n",
              "2105596  pou3BbKsIozfH50rxmnMew, JT3rDC7-hprCSObnihMeHw...     3   \n",
              "\n",
              "         average_stars  \n",
              "1987897           3.91  \n",
              "1987898           3.74  \n",
              "1987899           3.32  \n",
              "1987900           4.27  \n",
              "1987901           3.54  \n",
              "...                ...  \n",
              "2105592           2.98  \n",
              "2105593           3.68  \n",
              "2105594           3.85  \n",
              "2105595           2.85  \n",
              "2105596           4.13  \n",
              "\n",
              "[117700 rows x 7 columns]"
            ],
            "text/html": [
              "\n",
              "\n",
              "  <div id=\"df-bb6bf347-c100-4117-9898-df1d86ac7b78\">\n",
              "    <div class=\"colab-df-container\">\n",
              "      <div>\n",
              "<style scoped>\n",
              "    .dataframe tbody tr th:only-of-type {\n",
              "        vertical-align: middle;\n",
              "    }\n",
              "\n",
              "    .dataframe tbody tr th {\n",
              "        vertical-align: top;\n",
              "    }\n",
              "\n",
              "    .dataframe thead th {\n",
              "        text-align: right;\n",
              "    }\n",
              "</style>\n",
              "<table border=\"1\" class=\"dataframe\">\n",
              "  <thead>\n",
              "    <tr style=\"text-align: right;\">\n",
              "      <th></th>\n",
              "      <th>user_id</th>\n",
              "      <th>review_count</th>\n",
              "      <th>yelping_since</th>\n",
              "      <th>elite</th>\n",
              "      <th>friends</th>\n",
              "      <th>fans</th>\n",
              "      <th>average_stars</th>\n",
              "    </tr>\n",
              "  </thead>\n",
              "  <tbody>\n",
              "    <tr>\n",
              "      <th>1987897</th>\n",
              "      <td>qVc8ODYU5SZjKXVBgXdI7w</td>\n",
              "      <td>585</td>\n",
              "      <td>2007-01-25 16:47:26</td>\n",
              "      <td>2007</td>\n",
              "      <td>NSCy54eWehBJyZdG2iE84w, pe42u7DcCH2QmI81NX-8qA...</td>\n",
              "      <td>267</td>\n",
              "      <td>3.91</td>\n",
              "    </tr>\n",
              "    <tr>\n",
              "      <th>1987898</th>\n",
              "      <td>j14WgRoU_-2ZE1aw1dXrJg</td>\n",
              "      <td>4333</td>\n",
              "      <td>2009-01-25 04:35:42</td>\n",
              "      <td>2009,2010,2011,2012,2013,2014,2015,2016,2017,2...</td>\n",
              "      <td>ueRPE0CX75ePGMqOFVj6IQ, 52oH4DrRvzzl8wh5UXyU0A...</td>\n",
              "      <td>3138</td>\n",
              "      <td>3.74</td>\n",
              "    </tr>\n",
              "    <tr>\n",
              "      <th>1987899</th>\n",
              "      <td>2WnXYQFK0hXEoTxPtV2zvg</td>\n",
              "      <td>665</td>\n",
              "      <td>2008-07-25 10:41:00</td>\n",
              "      <td>2009,2010,2011,2012,2013</td>\n",
              "      <td>LuO3Bn4f3rlhyHIaNfTlnA, j9B4XdHUhDfTKVecyWQgyA...</td>\n",
              "      <td>52</td>\n",
              "      <td>3.32</td>\n",
              "    </tr>\n",
              "    <tr>\n",
              "      <th>1987900</th>\n",
              "      <td>SZDeASXq7o05mMNLshsdIA</td>\n",
              "      <td>224</td>\n",
              "      <td>2005-11-29 04:38:33</td>\n",
              "      <td>2009,2010,2011</td>\n",
              "      <td>enx1vVPnfdNUdPho6PH_wg, 4wOcvMLtU6a9Lslggq74Vg...</td>\n",
              "      <td>28</td>\n",
              "      <td>4.27</td>\n",
              "    </tr>\n",
              "    <tr>\n",
              "      <th>1987901</th>\n",
              "      <td>hA5lMy-EnncsH4JoR-hFGQ</td>\n",
              "      <td>79</td>\n",
              "      <td>2007-01-05 19:40:59</td>\n",
              "      <td></td>\n",
              "      <td>PBK4q9KEEBHhFvSXCUirIw, 3FWPpM7KU1gXeOM_ZbYMbA...</td>\n",
              "      <td>1</td>\n",
              "      <td>3.54</td>\n",
              "    </tr>\n",
              "    <tr>\n",
              "      <th>...</th>\n",
              "      <td>...</td>\n",
              "      <td>...</td>\n",
              "      <td>...</td>\n",
              "      <td>...</td>\n",
              "      <td>...</td>\n",
              "      <td>...</td>\n",
              "      <td>...</td>\n",
              "    </tr>\n",
              "    <tr>\n",
              "      <th>2105592</th>\n",
              "      <td>4QGxxakRZeOlg_qDuxmTeQ</td>\n",
              "      <td>38</td>\n",
              "      <td>2012-01-19 23:33:02</td>\n",
              "      <td></td>\n",
              "      <td>kmwNG5LZSHFmveg6wYYdrw</td>\n",
              "      <td>0</td>\n",
              "      <td>2.98</td>\n",
              "    </tr>\n",
              "    <tr>\n",
              "      <th>2105593</th>\n",
              "      <td>tmelBbVBGAzXBVfH2u_R6g</td>\n",
              "      <td>19</td>\n",
              "      <td>2009-06-09 16:34:54</td>\n",
              "      <td></td>\n",
              "      <td>BFYdCAMFyjYHDwesndEXEg, _9fTIqfSJc7g3V_o76XRVg...</td>\n",
              "      <td>1</td>\n",
              "      <td>3.68</td>\n",
              "    </tr>\n",
              "    <tr>\n",
              "      <th>2105594</th>\n",
              "      <td>tpBznnD6uJN3m_pJubj09w</td>\n",
              "      <td>26</td>\n",
              "      <td>2013-08-13 23:18:11</td>\n",
              "      <td></td>\n",
              "      <td>bKV3ly2MuK-K1cptMrFknQ, liel18zRoSB4tEkUP7i6Cg...</td>\n",
              "      <td>0</td>\n",
              "      <td>3.85</td>\n",
              "    </tr>\n",
              "    <tr>\n",
              "      <th>2105595</th>\n",
              "      <td>Kst_srPw7GdYydMFYdCtzw</td>\n",
              "      <td>25</td>\n",
              "      <td>2015-01-10 00:06:25</td>\n",
              "      <td></td>\n",
              "      <td>dzHTk52vbGtbktRm_B-wEg, fOfFLV7IbBDN6lzARaLqdg...</td>\n",
              "      <td>0</td>\n",
              "      <td>2.85</td>\n",
              "    </tr>\n",
              "    <tr>\n",
              "      <th>2105596</th>\n",
              "      <td>mZl-mH3ZIWLRSd_FfvrXFg</td>\n",
              "      <td>30</td>\n",
              "      <td>2015-11-30 21:10:17</td>\n",
              "      <td></td>\n",
              "      <td>pou3BbKsIozfH50rxmnMew, JT3rDC7-hprCSObnihMeHw...</td>\n",
              "      <td>3</td>\n",
              "      <td>4.13</td>\n",
              "    </tr>\n",
              "  </tbody>\n",
              "</table>\n",
              "<p>117700 rows × 7 columns</p>\n",
              "</div>\n",
              "      <button class=\"colab-df-convert\" onclick=\"convertToInteractive('df-bb6bf347-c100-4117-9898-df1d86ac7b78')\"\n",
              "              title=\"Convert this dataframe to an interactive table.\"\n",
              "              style=\"display:none;\">\n",
              "\n",
              "  <svg xmlns=\"http://www.w3.org/2000/svg\" height=\"24px\"viewBox=\"0 0 24 24\"\n",
              "       width=\"24px\">\n",
              "    <path d=\"M0 0h24v24H0V0z\" fill=\"none\"/>\n",
              "    <path d=\"M18.56 5.44l.94 2.06.94-2.06 2.06-.94-2.06-.94-.94-2.06-.94 2.06-2.06.94zm-11 1L8.5 8.5l.94-2.06 2.06-.94-2.06-.94L8.5 2.5l-.94 2.06-2.06.94zm10 10l.94 2.06.94-2.06 2.06-.94-2.06-.94-.94-2.06-.94 2.06-2.06.94z\"/><path d=\"M17.41 7.96l-1.37-1.37c-.4-.4-.92-.59-1.43-.59-.52 0-1.04.2-1.43.59L10.3 9.45l-7.72 7.72c-.78.78-.78 2.05 0 2.83L4 21.41c.39.39.9.59 1.41.59.51 0 1.02-.2 1.41-.59l7.78-7.78 2.81-2.81c.8-.78.8-2.07 0-2.86zM5.41 20L4 18.59l7.72-7.72 1.47 1.35L5.41 20z\"/>\n",
              "  </svg>\n",
              "      </button>\n",
              "\n",
              "\n",
              "\n",
              "    <div id=\"df-d87e00d2-9ba5-4330-8dd9-e4f620d3cefb\">\n",
              "      <button class=\"colab-df-quickchart\" onclick=\"quickchart('df-d87e00d2-9ba5-4330-8dd9-e4f620d3cefb')\"\n",
              "              title=\"Suggest charts.\"\n",
              "              style=\"display:none;\">\n",
              "\n",
              "<svg xmlns=\"http://www.w3.org/2000/svg\" height=\"24px\"viewBox=\"0 0 24 24\"\n",
              "     width=\"24px\">\n",
              "    <g>\n",
              "        <path d=\"M19 3H5c-1.1 0-2 .9-2 2v14c0 1.1.9 2 2 2h14c1.1 0 2-.9 2-2V5c0-1.1-.9-2-2-2zM9 17H7v-7h2v7zm4 0h-2V7h2v10zm4 0h-2v-4h2v4z\"/>\n",
              "    </g>\n",
              "</svg>\n",
              "      </button>\n",
              "    </div>\n",
              "\n",
              "<style>\n",
              "  .colab-df-quickchart {\n",
              "    background-color: #E8F0FE;\n",
              "    border: none;\n",
              "    border-radius: 50%;\n",
              "    cursor: pointer;\n",
              "    display: none;\n",
              "    fill: #1967D2;\n",
              "    height: 32px;\n",
              "    padding: 0 0 0 0;\n",
              "    width: 32px;\n",
              "  }\n",
              "\n",
              "  .colab-df-quickchart:hover {\n",
              "    background-color: #E2EBFA;\n",
              "    box-shadow: 0px 1px 2px rgba(60, 64, 67, 0.3), 0px 1px 3px 1px rgba(60, 64, 67, 0.15);\n",
              "    fill: #174EA6;\n",
              "  }\n",
              "\n",
              "  [theme=dark] .colab-df-quickchart {\n",
              "    background-color: #3B4455;\n",
              "    fill: #D2E3FC;\n",
              "  }\n",
              "\n",
              "  [theme=dark] .colab-df-quickchart:hover {\n",
              "    background-color: #434B5C;\n",
              "    box-shadow: 0px 1px 3px 1px rgba(0, 0, 0, 0.15);\n",
              "    filter: drop-shadow(0px 1px 2px rgba(0, 0, 0, 0.3));\n",
              "    fill: #FFFFFF;\n",
              "  }\n",
              "</style>\n",
              "\n",
              "    <script>\n",
              "      async function quickchart(key) {\n",
              "        const containerElement = document.querySelector('#' + key);\n",
              "        const charts = await google.colab.kernel.invokeFunction(\n",
              "            'suggestCharts', [key], {});\n",
              "      }\n",
              "    </script>\n",
              "\n",
              "      <script>\n",
              "\n",
              "function displayQuickchartButton(domScope) {\n",
              "  let quickchartButtonEl =\n",
              "    domScope.querySelector('#df-d87e00d2-9ba5-4330-8dd9-e4f620d3cefb button.colab-df-quickchart');\n",
              "  quickchartButtonEl.style.display =\n",
              "    google.colab.kernel.accessAllowed ? 'block' : 'none';\n",
              "}\n",
              "\n",
              "        displayQuickchartButton(document);\n",
              "      </script>\n",
              "      <style>\n",
              "    .colab-df-container {\n",
              "      display:flex;\n",
              "      flex-wrap:wrap;\n",
              "      gap: 12px;\n",
              "    }\n",
              "\n",
              "    .colab-df-convert {\n",
              "      background-color: #E8F0FE;\n",
              "      border: none;\n",
              "      border-radius: 50%;\n",
              "      cursor: pointer;\n",
              "      display: none;\n",
              "      fill: #1967D2;\n",
              "      height: 32px;\n",
              "      padding: 0 0 0 0;\n",
              "      width: 32px;\n",
              "    }\n",
              "\n",
              "    .colab-df-convert:hover {\n",
              "      background-color: #E2EBFA;\n",
              "      box-shadow: 0px 1px 2px rgba(60, 64, 67, 0.3), 0px 1px 3px 1px rgba(60, 64, 67, 0.15);\n",
              "      fill: #174EA6;\n",
              "    }\n",
              "\n",
              "    [theme=dark] .colab-df-convert {\n",
              "      background-color: #3B4455;\n",
              "      fill: #D2E3FC;\n",
              "    }\n",
              "\n",
              "    [theme=dark] .colab-df-convert:hover {\n",
              "      background-color: #434B5C;\n",
              "      box-shadow: 0px 1px 3px 1px rgba(0, 0, 0, 0.15);\n",
              "      filter: drop-shadow(0px 1px 2px rgba(0, 0, 0, 0.3));\n",
              "      fill: #FFFFFF;\n",
              "    }\n",
              "  </style>\n",
              "\n",
              "      <script>\n",
              "        const buttonEl =\n",
              "          document.querySelector('#df-bb6bf347-c100-4117-9898-df1d86ac7b78 button.colab-df-convert');\n",
              "        buttonEl.style.display =\n",
              "          google.colab.kernel.accessAllowed ? 'block' : 'none';\n",
              "\n",
              "        async function convertToInteractive(key) {\n",
              "          const element = document.querySelector('#df-bb6bf347-c100-4117-9898-df1d86ac7b78');\n",
              "          const dataTable =\n",
              "            await google.colab.kernel.invokeFunction('convertToInteractive',\n",
              "                                                     [key], {});\n",
              "          if (!dataTable) return;\n",
              "\n",
              "          const docLinkHtml = 'Like what you see? Visit the ' +\n",
              "            '<a target=\"_blank\" href=https://colab.research.google.com/notebooks/data_table.ipynb>data table notebook</a>'\n",
              "            + ' to learn more about interactive tables.';\n",
              "          element.innerHTML = '';\n",
              "          dataTable['output_type'] = 'display_data';\n",
              "          await google.colab.output.renderOutput(dataTable, element);\n",
              "          const docLink = document.createElement('div');\n",
              "          docLink.innerHTML = docLinkHtml;\n",
              "          element.appendChild(docLink);\n",
              "        }\n",
              "      </script>\n",
              "    </div>\n",
              "  </div>\n"
            ]
          },
          "metadata": {},
          "execution_count": 27
        }
      ]
    },
    {
      "cell_type": "markdown",
      "source": [
        "Por usuario"
      ],
      "metadata": {
        "id": "wyZYQVxjhQvv"
      }
    },
    {
      "cell_type": "code",
      "source": [
        "df_y1['user_id'].value_counts()"
      ],
      "metadata": {
        "colab": {
          "base_uri": "https://localhost:8080/"
        },
        "id": "koGKgQVKa5Yj",
        "outputId": "3a9d7a90-9fae-460f-b612-1b89588d418e"
      },
      "execution_count": 29,
      "outputs": [
        {
          "output_type": "execute_result",
          "data": {
            "text/plain": [
              "T5gvmAML_EAA9invlLymJg    5\n",
              "-J_wra_v8PaPfy2r4_LHiw    5\n",
              "a25SLDRY8NLhISUucSBZJg    5\n",
              "zWeCH5pffPS1adw57xzaWA    5\n",
              "vRYjn0Ip0Zu7SnJYQp9P3Q    5\n",
              "                         ..\n",
              "0SGduwsWeTWeL9Sj6pGfyw    1\n",
              "ManF7sVLflO-i9qWh-oD5g    1\n",
              "8WCxUvUu8ECp4779Sj5AkA    1\n",
              "wmSh-O8JDehKBc4QsVUFuw    1\n",
              "wL5jPrLRVCK_Pmo4lM1zpA    1\n",
              "Name: user_id, Length: 1987897, dtype: int64"
            ]
          },
          "metadata": {},
          "execution_count": 29
        }
      ]
    },
    {
      "cell_type": "markdown",
      "source": [
        "Por determinado usuario"
      ],
      "metadata": {
        "id": "yQE5bD7UheW3"
      }
    },
    {
      "cell_type": "code",
      "source": [
        "filtro=df_y1['user_id']=='-J_wra_v8PaPfy2r4_LHiw'\n",
        "df_y1[filtro]"
      ],
      "metadata": {
        "colab": {
          "base_uri": "https://localhost:8080/",
          "height": 357
        },
        "id": "EMZTNNSlcze1",
        "outputId": "ccbb0af3-a71c-440a-9fdc-93e6690f8671"
      },
      "execution_count": 30,
      "outputs": [
        {
          "output_type": "execute_result",
          "data": {
            "text/plain": [
              "                        user_id  review_count        yelping_since  \\\n",
              "27028    -J_wra_v8PaPfy2r4_LHiw           114  2011-06-02 23:09:27   \n",
              "2017125  -J_wra_v8PaPfy2r4_LHiw           114  2011-06-02 23:09:27   \n",
              "2038225  -J_wra_v8PaPfy2r4_LHiw           114  2011-06-02 23:09:27   \n",
              "2059325  -J_wra_v8PaPfy2r4_LHiw           114  2011-06-02 23:09:27   \n",
              "2080425  -J_wra_v8PaPfy2r4_LHiw           114  2011-06-02 23:09:27   \n",
              "\n",
              "                       elite  \\\n",
              "27028    2015,2016,2017,2018   \n",
              "2017125  2015,2016,2017,2018   \n",
              "2038225  2015,2016,2017,2018   \n",
              "2059325  2015,2016,2017,2018   \n",
              "2080425  2015,2016,2017,2018   \n",
              "\n",
              "                                                   friends  fans  \\\n",
              "27028    QbNwdxYV--rt5eyuC4BGXg, LFzMFzyWTDeMhnB1rCh7Yw...     6   \n",
              "2017125  QbNwdxYV--rt5eyuC4BGXg, LFzMFzyWTDeMhnB1rCh7Yw...     6   \n",
              "2038225  QbNwdxYV--rt5eyuC4BGXg, LFzMFzyWTDeMhnB1rCh7Yw...     6   \n",
              "2059325  QbNwdxYV--rt5eyuC4BGXg, LFzMFzyWTDeMhnB1rCh7Yw...     6   \n",
              "2080425  QbNwdxYV--rt5eyuC4BGXg, LFzMFzyWTDeMhnB1rCh7Yw...     6   \n",
              "\n",
              "         average_stars  \n",
              "27028             3.69  \n",
              "2017125           3.69  \n",
              "2038225           3.69  \n",
              "2059325           3.69  \n",
              "2080425           3.69  "
            ],
            "text/html": [
              "\n",
              "\n",
              "  <div id=\"df-eff2fe64-eea0-425a-bc26-bd3455ce910c\">\n",
              "    <div class=\"colab-df-container\">\n",
              "      <div>\n",
              "<style scoped>\n",
              "    .dataframe tbody tr th:only-of-type {\n",
              "        vertical-align: middle;\n",
              "    }\n",
              "\n",
              "    .dataframe tbody tr th {\n",
              "        vertical-align: top;\n",
              "    }\n",
              "\n",
              "    .dataframe thead th {\n",
              "        text-align: right;\n",
              "    }\n",
              "</style>\n",
              "<table border=\"1\" class=\"dataframe\">\n",
              "  <thead>\n",
              "    <tr style=\"text-align: right;\">\n",
              "      <th></th>\n",
              "      <th>user_id</th>\n",
              "      <th>review_count</th>\n",
              "      <th>yelping_since</th>\n",
              "      <th>elite</th>\n",
              "      <th>friends</th>\n",
              "      <th>fans</th>\n",
              "      <th>average_stars</th>\n",
              "    </tr>\n",
              "  </thead>\n",
              "  <tbody>\n",
              "    <tr>\n",
              "      <th>27028</th>\n",
              "      <td>-J_wra_v8PaPfy2r4_LHiw</td>\n",
              "      <td>114</td>\n",
              "      <td>2011-06-02 23:09:27</td>\n",
              "      <td>2015,2016,2017,2018</td>\n",
              "      <td>QbNwdxYV--rt5eyuC4BGXg, LFzMFzyWTDeMhnB1rCh7Yw...</td>\n",
              "      <td>6</td>\n",
              "      <td>3.69</td>\n",
              "    </tr>\n",
              "    <tr>\n",
              "      <th>2017125</th>\n",
              "      <td>-J_wra_v8PaPfy2r4_LHiw</td>\n",
              "      <td>114</td>\n",
              "      <td>2011-06-02 23:09:27</td>\n",
              "      <td>2015,2016,2017,2018</td>\n",
              "      <td>QbNwdxYV--rt5eyuC4BGXg, LFzMFzyWTDeMhnB1rCh7Yw...</td>\n",
              "      <td>6</td>\n",
              "      <td>3.69</td>\n",
              "    </tr>\n",
              "    <tr>\n",
              "      <th>2038225</th>\n",
              "      <td>-J_wra_v8PaPfy2r4_LHiw</td>\n",
              "      <td>114</td>\n",
              "      <td>2011-06-02 23:09:27</td>\n",
              "      <td>2015,2016,2017,2018</td>\n",
              "      <td>QbNwdxYV--rt5eyuC4BGXg, LFzMFzyWTDeMhnB1rCh7Yw...</td>\n",
              "      <td>6</td>\n",
              "      <td>3.69</td>\n",
              "    </tr>\n",
              "    <tr>\n",
              "      <th>2059325</th>\n",
              "      <td>-J_wra_v8PaPfy2r4_LHiw</td>\n",
              "      <td>114</td>\n",
              "      <td>2011-06-02 23:09:27</td>\n",
              "      <td>2015,2016,2017,2018</td>\n",
              "      <td>QbNwdxYV--rt5eyuC4BGXg, LFzMFzyWTDeMhnB1rCh7Yw...</td>\n",
              "      <td>6</td>\n",
              "      <td>3.69</td>\n",
              "    </tr>\n",
              "    <tr>\n",
              "      <th>2080425</th>\n",
              "      <td>-J_wra_v8PaPfy2r4_LHiw</td>\n",
              "      <td>114</td>\n",
              "      <td>2011-06-02 23:09:27</td>\n",
              "      <td>2015,2016,2017,2018</td>\n",
              "      <td>QbNwdxYV--rt5eyuC4BGXg, LFzMFzyWTDeMhnB1rCh7Yw...</td>\n",
              "      <td>6</td>\n",
              "      <td>3.69</td>\n",
              "    </tr>\n",
              "  </tbody>\n",
              "</table>\n",
              "</div>\n",
              "      <button class=\"colab-df-convert\" onclick=\"convertToInteractive('df-eff2fe64-eea0-425a-bc26-bd3455ce910c')\"\n",
              "              title=\"Convert this dataframe to an interactive table.\"\n",
              "              style=\"display:none;\">\n",
              "\n",
              "  <svg xmlns=\"http://www.w3.org/2000/svg\" height=\"24px\"viewBox=\"0 0 24 24\"\n",
              "       width=\"24px\">\n",
              "    <path d=\"M0 0h24v24H0V0z\" fill=\"none\"/>\n",
              "    <path d=\"M18.56 5.44l.94 2.06.94-2.06 2.06-.94-2.06-.94-.94-2.06-.94 2.06-2.06.94zm-11 1L8.5 8.5l.94-2.06 2.06-.94-2.06-.94L8.5 2.5l-.94 2.06-2.06.94zm10 10l.94 2.06.94-2.06 2.06-.94-2.06-.94-.94-2.06-.94 2.06-2.06.94z\"/><path d=\"M17.41 7.96l-1.37-1.37c-.4-.4-.92-.59-1.43-.59-.52 0-1.04.2-1.43.59L10.3 9.45l-7.72 7.72c-.78.78-.78 2.05 0 2.83L4 21.41c.39.39.9.59 1.41.59.51 0 1.02-.2 1.41-.59l7.78-7.78 2.81-2.81c.8-.78.8-2.07 0-2.86zM5.41 20L4 18.59l7.72-7.72 1.47 1.35L5.41 20z\"/>\n",
              "  </svg>\n",
              "      </button>\n",
              "\n",
              "\n",
              "\n",
              "    <div id=\"df-763b5ea5-df9f-4228-9761-56c5b544ed32\">\n",
              "      <button class=\"colab-df-quickchart\" onclick=\"quickchart('df-763b5ea5-df9f-4228-9761-56c5b544ed32')\"\n",
              "              title=\"Suggest charts.\"\n",
              "              style=\"display:none;\">\n",
              "\n",
              "<svg xmlns=\"http://www.w3.org/2000/svg\" height=\"24px\"viewBox=\"0 0 24 24\"\n",
              "     width=\"24px\">\n",
              "    <g>\n",
              "        <path d=\"M19 3H5c-1.1 0-2 .9-2 2v14c0 1.1.9 2 2 2h14c1.1 0 2-.9 2-2V5c0-1.1-.9-2-2-2zM9 17H7v-7h2v7zm4 0h-2V7h2v10zm4 0h-2v-4h2v4z\"/>\n",
              "    </g>\n",
              "</svg>\n",
              "      </button>\n",
              "    </div>\n",
              "\n",
              "<style>\n",
              "  .colab-df-quickchart {\n",
              "    background-color: #E8F0FE;\n",
              "    border: none;\n",
              "    border-radius: 50%;\n",
              "    cursor: pointer;\n",
              "    display: none;\n",
              "    fill: #1967D2;\n",
              "    height: 32px;\n",
              "    padding: 0 0 0 0;\n",
              "    width: 32px;\n",
              "  }\n",
              "\n",
              "  .colab-df-quickchart:hover {\n",
              "    background-color: #E2EBFA;\n",
              "    box-shadow: 0px 1px 2px rgba(60, 64, 67, 0.3), 0px 1px 3px 1px rgba(60, 64, 67, 0.15);\n",
              "    fill: #174EA6;\n",
              "  }\n",
              "\n",
              "  [theme=dark] .colab-df-quickchart {\n",
              "    background-color: #3B4455;\n",
              "    fill: #D2E3FC;\n",
              "  }\n",
              "\n",
              "  [theme=dark] .colab-df-quickchart:hover {\n",
              "    background-color: #434B5C;\n",
              "    box-shadow: 0px 1px 3px 1px rgba(0, 0, 0, 0.15);\n",
              "    filter: drop-shadow(0px 1px 2px rgba(0, 0, 0, 0.3));\n",
              "    fill: #FFFFFF;\n",
              "  }\n",
              "</style>\n",
              "\n",
              "    <script>\n",
              "      async function quickchart(key) {\n",
              "        const containerElement = document.querySelector('#' + key);\n",
              "        const charts = await google.colab.kernel.invokeFunction(\n",
              "            'suggestCharts', [key], {});\n",
              "      }\n",
              "    </script>\n",
              "\n",
              "      <script>\n",
              "\n",
              "function displayQuickchartButton(domScope) {\n",
              "  let quickchartButtonEl =\n",
              "    domScope.querySelector('#df-763b5ea5-df9f-4228-9761-56c5b544ed32 button.colab-df-quickchart');\n",
              "  quickchartButtonEl.style.display =\n",
              "    google.colab.kernel.accessAllowed ? 'block' : 'none';\n",
              "}\n",
              "\n",
              "        displayQuickchartButton(document);\n",
              "      </script>\n",
              "      <style>\n",
              "    .colab-df-container {\n",
              "      display:flex;\n",
              "      flex-wrap:wrap;\n",
              "      gap: 12px;\n",
              "    }\n",
              "\n",
              "    .colab-df-convert {\n",
              "      background-color: #E8F0FE;\n",
              "      border: none;\n",
              "      border-radius: 50%;\n",
              "      cursor: pointer;\n",
              "      display: none;\n",
              "      fill: #1967D2;\n",
              "      height: 32px;\n",
              "      padding: 0 0 0 0;\n",
              "      width: 32px;\n",
              "    }\n",
              "\n",
              "    .colab-df-convert:hover {\n",
              "      background-color: #E2EBFA;\n",
              "      box-shadow: 0px 1px 2px rgba(60, 64, 67, 0.3), 0px 1px 3px 1px rgba(60, 64, 67, 0.15);\n",
              "      fill: #174EA6;\n",
              "    }\n",
              "\n",
              "    [theme=dark] .colab-df-convert {\n",
              "      background-color: #3B4455;\n",
              "      fill: #D2E3FC;\n",
              "    }\n",
              "\n",
              "    [theme=dark] .colab-df-convert:hover {\n",
              "      background-color: #434B5C;\n",
              "      box-shadow: 0px 1px 3px 1px rgba(0, 0, 0, 0.15);\n",
              "      filter: drop-shadow(0px 1px 2px rgba(0, 0, 0, 0.3));\n",
              "      fill: #FFFFFF;\n",
              "    }\n",
              "  </style>\n",
              "\n",
              "      <script>\n",
              "        const buttonEl =\n",
              "          document.querySelector('#df-eff2fe64-eea0-425a-bc26-bd3455ce910c button.colab-df-convert');\n",
              "        buttonEl.style.display =\n",
              "          google.colab.kernel.accessAllowed ? 'block' : 'none';\n",
              "\n",
              "        async function convertToInteractive(key) {\n",
              "          const element = document.querySelector('#df-eff2fe64-eea0-425a-bc26-bd3455ce910c');\n",
              "          const dataTable =\n",
              "            await google.colab.kernel.invokeFunction('convertToInteractive',\n",
              "                                                     [key], {});\n",
              "          if (!dataTable) return;\n",
              "\n",
              "          const docLinkHtml = 'Like what you see? Visit the ' +\n",
              "            '<a target=\"_blank\" href=https://colab.research.google.com/notebooks/data_table.ipynb>data table notebook</a>'\n",
              "            + ' to learn more about interactive tables.';\n",
              "          element.innerHTML = '';\n",
              "          dataTable['output_type'] = 'display_data';\n",
              "          await google.colab.output.renderOutput(dataTable, element);\n",
              "          const docLink = document.createElement('div');\n",
              "          docLink.innerHTML = docLinkHtml;\n",
              "          element.appendChild(docLink);\n",
              "        }\n",
              "      </script>\n",
              "    </div>\n",
              "  </div>\n"
            ]
          },
          "metadata": {},
          "execution_count": 30
        }
      ]
    },
    {
      "cell_type": "code",
      "source": [
        "value_counts = df_y1['user_id'].value_counts()\n",
        "value_counts[value_counts > 1].sum()"
      ],
      "metadata": {
        "colab": {
          "base_uri": "https://localhost:8080/"
        },
        "id": "pp_cRMpzdOhH",
        "outputId": "1d6fd27c-e626-4d81-fcc7-df3ae96adbf1"
      },
      "execution_count": 32,
      "outputs": [
        {
          "output_type": "execute_result",
          "data": {
            "text/plain": [
              "161000"
            ]
          },
          "metadata": {},
          "execution_count": 32
        }
      ]
    },
    {
      "cell_type": "code",
      "source": [
        "value_counts = df_y1['user_id'].value_counts()\n",
        "values_repeated_more_than_two = value_counts[value_counts > 1]\n",
        "df_y1_repeated_more_than_two = df_y1[df_y1['user_id'].isin(values_repeated_more_than_two.index)].index\n",
        "df_y1_user_unicos=df_y1.drop(df_y1_repeated_more_than_two)"
      ],
      "metadata": {
        "id": "olLlA8kC5OmX"
      },
      "execution_count": 36,
      "outputs": []
    },
    {
      "cell_type": "code",
      "source": [
        "df_y1_user_unicos['user_id'].value_counts()"
      ],
      "metadata": {
        "id": "zelrf0xp5XvO",
        "colab": {
          "base_uri": "https://localhost:8080/"
        },
        "outputId": "e4c09a13-5a40-4170-b23f-f3da3a674de9"
      },
      "execution_count": 37,
      "outputs": [
        {
          "output_type": "execute_result",
          "data": {
            "text/plain": [
              "LhfpZHG5fcsMtKzkR7cygQ    1\n",
              "9xvCtmJ9g3DbueDEPo2aUA    1\n",
              "Gho_Vyils5T1Ly4df89biA    1\n",
              "-uvWZEqmkzTkvB369iue7g    1\n",
              "JcKGEypmas9r1dIQD3Icxg    1\n",
              "                         ..\n",
              "0zQHKAOSDzejJz8g_f9icw    1\n",
              "0EOUDk8D5UOZevLyQuBQEA    1\n",
              "0SGduwsWeTWeL9Sj6pGfyw    1\n",
              "ManF7sVLflO-i9qWh-oD5g    1\n",
              "wL5jPrLRVCK_Pmo4lM1zpA    1\n",
              "Name: user_id, Length: 1944597, dtype: int64"
            ]
          },
          "metadata": {},
          "execution_count": 37
        }
      ]
    },
    {
      "cell_type": "code",
      "source": [
        "value_counts = df_y1['user_id'].value_counts()\n",
        "value_counts[value_counts > 1].sum()"
      ],
      "metadata": {
        "colab": {
          "base_uri": "https://localhost:8080/"
        },
        "id": "HsTLUfqceDH-",
        "outputId": "1293c396-0c86-4240-a3ce-aadfcd2bbdc8"
      },
      "execution_count": 35,
      "outputs": [
        {
          "output_type": "execute_result",
          "data": {
            "text/plain": [
              "161000"
            ]
          },
          "metadata": {},
          "execution_count": 35
        }
      ]
    },
    {
      "cell_type": "code",
      "source": [
        "df_y1.duplicated().sum()"
      ],
      "metadata": {
        "colab": {
          "base_uri": "https://localhost:8080/"
        },
        "id": "LeGUYookd3cE",
        "outputId": "36251843-29b7-477f-aadd-7bfa93ac4c4a"
      },
      "execution_count": 34,
      "outputs": [
        {
          "output_type": "execute_result",
          "data": {
            "text/plain": [
              "117700"
            ]
          },
          "metadata": {},
          "execution_count": 34
        }
      ]
    },
    {
      "cell_type": "markdown",
      "source": [
        "Elimino las filas duplicadas"
      ],
      "metadata": {
        "id": "oxz_gsfyhxlP"
      }
    },
    {
      "cell_type": "code",
      "source": [
        "df_y1.drop_duplicates(inplace=True)"
      ],
      "metadata": {
        "id": "0pNp-9zUfn4s"
      },
      "execution_count": 41,
      "outputs": []
    },
    {
      "cell_type": "code",
      "source": [
        "df_y1.duplicated().sum()"
      ],
      "metadata": {
        "colab": {
          "base_uri": "https://localhost:8080/"
        },
        "id": "BIYRyVo6gI-l",
        "outputId": "d6bcfedb-9cba-48ab-ffe6-e46ccf75660a"
      },
      "execution_count": 42,
      "outputs": [
        {
          "output_type": "execute_result",
          "data": {
            "text/plain": [
              "0"
            ]
          },
          "metadata": {},
          "execution_count": 42
        }
      ]
    },
    {
      "cell_type": "code",
      "source": [
        "value_counts = df_y1['user_id'].value_counts()\n",
        "value_counts[value_counts > 1].sum()"
      ],
      "metadata": {
        "colab": {
          "base_uri": "https://localhost:8080/"
        },
        "id": "2sF-skb7g41_",
        "outputId": "4671f672-03c6-4157-b278-345ce07bdece"
      },
      "execution_count": 44,
      "outputs": [
        {
          "output_type": "execute_result",
          "data": {
            "text/plain": [
              "0"
            ]
          },
          "metadata": {},
          "execution_count": 44
        }
      ]
    },
    {
      "cell_type": "code",
      "source": [
        "df_y1.info()"
      ],
      "metadata": {
        "colab": {
          "base_uri": "https://localhost:8080/"
        },
        "outputId": "b9652b39-82ae-4208-995f-a56a2b719bb0",
        "id": "ymOx9hIvgDW_"
      },
      "execution_count": 43,
      "outputs": [
        {
          "output_type": "stream",
          "name": "stdout",
          "text": [
            "<class 'pandas.core.frame.DataFrame'>\n",
            "Int64Index: 1987897 entries, 0 to 1987896\n",
            "Data columns (total 7 columns):\n",
            " #   Column         Dtype  \n",
            "---  ------         -----  \n",
            " 0   user_id        object \n",
            " 1   review_count   int64  \n",
            " 2   yelping_since  object \n",
            " 3   elite          object \n",
            " 4   friends        object \n",
            " 5   fans           int64  \n",
            " 6   average_stars  float64\n",
            "dtypes: float64(1), int64(2), object(4)\n",
            "memory usage: 121.3+ MB\n"
          ]
        }
      ]
    },
    {
      "cell_type": "markdown",
      "source": [
        "## **Carga de los datos resultantes**"
      ],
      "metadata": {
        "id": "XlsHuJk9h8ts"
      }
    },
    {
      "cell_type": "code",
      "source": [
        "df_y1.to_parquet('user_y.parquet', index=False, compression='gzip')"
      ],
      "metadata": {
        "id": "ENuzMNFR6nWC"
      },
      "execution_count": 45,
      "outputs": []
    }
  ]
}