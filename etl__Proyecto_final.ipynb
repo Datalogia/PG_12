{
  "nbformat": 4,
  "nbformat_minor": 0,
  "metadata": {
    "colab": {
      "provenance": []
    },
    "kernelspec": {
      "name": "python3",
      "display_name": "Python 3"
    },
    "language_info": {
      "name": "python"
    }
  },
  "cells": [
    {
      "cell_type": "code",
      "source": [
        "import numpy as np\n",
        "import pandas as pd\n",
        "import os\n",
        "import seaborn as sns\n",
        "import missingno as msno\n",
        "import matplotlib.pyplot as plt\n",
        "from datetime import datetime\n",
        "import statsmodels.api as sm\n"
      ],
      "metadata": {
        "id": "OL2ArjX7AOKc"
      },
      "execution_count": 2,
      "outputs": []
    },
    {
      "cell_type": "code",
      "execution_count": 3,
      "metadata": {
        "colab": {
          "base_uri": "https://localhost:8080/",
          "height": 1000
        },
        "id": "oF6WDZCp6OHX",
        "outputId": "09f3d3d8-78a7-49a1-f92f-3129fec64abb"
      },
      "outputs": [
        {
          "output_type": "execute_result",
          "data": {
            "text/plain": [
              "                                   name  \\\n",
              "0                       Porter Pharmacy   \n",
              "1                          City Textile   \n",
              "2                          San Soo Dang   \n",
              "3                          Nova Fabrics   \n",
              "4                      Nobel Textile Co   \n",
              "...                                 ...   \n",
              "274996                     Maven Realty   \n",
              "274997               Stone Castle Fence   \n",
              "274998  Health Insurance Solutions Team   \n",
              "274999          Bernard Building Center   \n",
              "275000    HMR Motor Works and Auto Care   \n",
              "\n",
              "                                                  address  \\\n",
              "0       Porter Pharmacy, 129 N Second St, Cochran, GA ...   \n",
              "1       City Textile, 3001 E Pico Blvd, Los Angeles, C...   \n",
              "2       San Soo Dang, 761 S Vermont Ave, Los Angeles, ...   \n",
              "3       Nova Fabrics, 2200 E 11th St, Los Angeles, CA ...   \n",
              "4       Nobel Textile Co, 719 E 9th St, Los Angeles, C...   \n",
              "...                                                   ...   \n",
              "274996  Maven Realty, 2180 McMillan Ave #71672, North ...   \n",
              "274997  Stone Castle Fence, 124 Cypress Gardens Rd, Mo...   \n",
              "274998  Health Insurance Solutions Team, 6650 Rivers A...   \n",
              "274999  Bernard Building Center, 27300 M-32, M-32, Hil...   \n",
              "275000       HMR Motor Works and Auto Care, Mio, MI 48647   \n",
              "\n",
              "                                      gmap_id description   latitude  \\\n",
              "0       0x88f16e41928ff687:0x883dad4fd048e8f8        None  32.388300   \n",
              "1       0x80c2c98c0e3c16fd:0x29ec8a728764fdf9        None  34.018891   \n",
              "2       0x80c2c778e3b73d33:0xbdc58662a4a97d49        None  34.058092   \n",
              "3        0x80c2c89923b27a41:0x32041559418d447        None  34.023669   \n",
              "4       0x80c2c632f933b073:0xc31785961fe826a6        None  34.036694   \n",
              "...                                       ...         ...        ...   \n",
              "274996  0x88fe64e7daceaaab:0x101c046dcadcc9c3        None  32.857737   \n",
              "274997  0x88fe59f4602c95fd:0x57e2b1904d9e6949        None  33.089951   \n",
              "274998  0x88fe71f9617c15e1:0x89518c1d251706bf        None  32.918858   \n",
              "274999  0x4d34c7517d6e6e29:0x7fe553ee2f090cf0        None  45.056691   \n",
              "275000  0x88208f4360c053ab:0xe3d6883f19601a01        None  44.649195   \n",
              "\n",
              "         longitude                                           category  \\\n",
              "0       -83.357100                                         [Pharmacy]   \n",
              "1      -118.215290                                 [Textile exporter]   \n",
              "2      -118.292130                                [Korean restaurant]   \n",
              "3      -118.232930                                     [Fabric store]   \n",
              "4      -118.249421                                     [Fabric store]   \n",
              "...            ...                                                ...   \n",
              "274996  -79.985839                               [Real estate agency]   \n",
              "274997  -80.078021  [Fence contractor, Construction company, Contr...   \n",
              "274998  -80.027952                          [Health insurance agency]   \n",
              "274999  -83.894423  [Building materials store, Electrical supply s...   \n",
              "275000  -84.130324                                 [Auto repair shop]   \n",
              "\n",
              "        avg_rating  num_of_reviews price  \\\n",
              "0              4.9              16  None   \n",
              "1              4.5               6  None   \n",
              "2              4.4              18  None   \n",
              "3              3.3               6  None   \n",
              "4              4.3               7  None   \n",
              "...            ...             ...   ...   \n",
              "274996         4.9              15  None   \n",
              "274997         4.0              18  None   \n",
              "274998         5.0              18  None   \n",
              "274999         4.7              25  None   \n",
              "275000         4.4              13  None   \n",
              "\n",
              "                                                    hours  \\\n",
              "0       [[Friday, 8AM–6PM], [Saturday, 8AM–12PM], [Sun...   \n",
              "1                                                    None   \n",
              "2       [[Thursday, 6:30AM–6PM], [Friday, 6:30AM–6PM],...   \n",
              "3       [[Thursday, 9AM–5PM], [Friday, 9AM–5PM], [Satu...   \n",
              "4       [[Thursday, 9AM–5PM], [Friday, 9AM–5PM], [Satu...   \n",
              "...                                                   ...   \n",
              "274996  [[Saturday, Open 24 hours], [Sunday, Open 24 h...   \n",
              "274997  [[Saturday, Closed], [Sunday, Closed], [Monday...   \n",
              "274998  [[Saturday, Closed], [Sunday, Closed], [Monday...   \n",
              "274999  [[Saturday, 8AM–3PM], [Sunday, Closed], [Monda...   \n",
              "275000  [[Saturday, 9AM–5:30PM], [Sunday, Closed], [Mo...   \n",
              "\n",
              "                                                     MISC  \\\n",
              "0       {'Service options': ['In-store shopping', 'Sam...   \n",
              "1                                                    None   \n",
              "2       {'Service options': ['Takeout', 'Dine-in', 'De...   \n",
              "3       {'Service options': ['In-store shopping'], 'Pa...   \n",
              "4                {'Service options': ['In-store pickup']}   \n",
              "...                                                   ...   \n",
              "274996                                               None   \n",
              "274997                                               None   \n",
              "274998  {'Service options': ['Online appointments'], '...   \n",
              "274999  {'Service options': ['Curbside pickup', 'Deliv...   \n",
              "275000  {'Accessibility': ['Wheelchair accessible entr...   \n",
              "\n",
              "                            state  \\\n",
              "0               Open ⋅ Closes 6PM   \n",
              "1                        Open now   \n",
              "2               Open ⋅ Closes 6PM   \n",
              "3               Open ⋅ Closes 5PM   \n",
              "4               Open ⋅ Closes 5PM   \n",
              "...                           ...   \n",
              "274996              Open 24 hours   \n",
              "274997     Closed ⋅ Opens 7AM Mon   \n",
              "274998     Closed ⋅ Opens 8AM Mon   \n",
              "274999  Closed ⋅ Opens 7:30AM Mon   \n",
              "275000       Open ⋅ Closes 5:30PM   \n",
              "\n",
              "                                         relative_results  \\\n",
              "0       [0x88f16e41929435cf:0x5b2532a2885e9ef6, 0x88f1...   \n",
              "1       [0x80c2c624136ea88b:0xb0315367ed448771, 0x80c2...   \n",
              "2       [0x80c2c78249aba68f:0x35bf16ce61be751d, 0x80c2...   \n",
              "3       [0x80c2c8811477253f:0x23a8a492df1918f7, 0x80c2...   \n",
              "4       [0x80c2c62c496083d1:0xdefa11317fe870a1, 0x80c2...   \n",
              "...                                                   ...   \n",
              "274996  [0x88fe657160ccc965:0xc675c849dc6d96ba, 0x88fe...   \n",
              "274997  [0x88fe8d1444299bbb:0x91daa2e82c59ea94, 0x88fe...   \n",
              "274998  [0x88fe6fe45b8d3f15:0x41d4b940a40b246a, 0x88fe...   \n",
              "274999  [0x4d335f6408d395d9:0xc20dea80d4c100d8, 0x4d34...   \n",
              "275000  [0x88208e43a516e3ab:0xbb20b293f8e97ab2, 0x8820...   \n",
              "\n",
              "                                                      url  \n",
              "0       https://www.google.com/maps/place//data=!4m2!3...  \n",
              "1       https://www.google.com/maps/place//data=!4m2!3...  \n",
              "2       https://www.google.com/maps/place//data=!4m2!3...  \n",
              "3       https://www.google.com/maps/place//data=!4m2!3...  \n",
              "4       https://www.google.com/maps/place//data=!4m2!3...  \n",
              "...                                                   ...  \n",
              "274996  https://www.google.com/maps/place//data=!4m2!3...  \n",
              "274997  https://www.google.com/maps/place//data=!4m2!3...  \n",
              "274998  https://www.google.com/maps/place//data=!4m2!3...  \n",
              "274999  https://www.google.com/maps/place//data=!4m2!3...  \n",
              "275000  https://www.google.com/maps/place//data=!4m2!3...  \n",
              "\n",
              "[275001 rows x 15 columns]"
            ],
            "text/html": [
              "\n",
              "\n",
              "  <div id=\"df-14f760a6-e9fa-4fa7-b420-e7948ce81d83\">\n",
              "    <div class=\"colab-df-container\">\n",
              "      <div>\n",
              "<style scoped>\n",
              "    .dataframe tbody tr th:only-of-type {\n",
              "        vertical-align: middle;\n",
              "    }\n",
              "\n",
              "    .dataframe tbody tr th {\n",
              "        vertical-align: top;\n",
              "    }\n",
              "\n",
              "    .dataframe thead th {\n",
              "        text-align: right;\n",
              "    }\n",
              "</style>\n",
              "<table border=\"1\" class=\"dataframe\">\n",
              "  <thead>\n",
              "    <tr style=\"text-align: right;\">\n",
              "      <th></th>\n",
              "      <th>name</th>\n",
              "      <th>address</th>\n",
              "      <th>gmap_id</th>\n",
              "      <th>description</th>\n",
              "      <th>latitude</th>\n",
              "      <th>longitude</th>\n",
              "      <th>category</th>\n",
              "      <th>avg_rating</th>\n",
              "      <th>num_of_reviews</th>\n",
              "      <th>price</th>\n",
              "      <th>hours</th>\n",
              "      <th>MISC</th>\n",
              "      <th>state</th>\n",
              "      <th>relative_results</th>\n",
              "      <th>url</th>\n",
              "    </tr>\n",
              "  </thead>\n",
              "  <tbody>\n",
              "    <tr>\n",
              "      <th>0</th>\n",
              "      <td>Porter Pharmacy</td>\n",
              "      <td>Porter Pharmacy, 129 N Second St, Cochran, GA ...</td>\n",
              "      <td>0x88f16e41928ff687:0x883dad4fd048e8f8</td>\n",
              "      <td>None</td>\n",
              "      <td>32.388300</td>\n",
              "      <td>-83.357100</td>\n",
              "      <td>[Pharmacy]</td>\n",
              "      <td>4.9</td>\n",
              "      <td>16</td>\n",
              "      <td>None</td>\n",
              "      <td>[[Friday, 8AM–6PM], [Saturday, 8AM–12PM], [Sun...</td>\n",
              "      <td>{'Service options': ['In-store shopping', 'Sam...</td>\n",
              "      <td>Open ⋅ Closes 6PM</td>\n",
              "      <td>[0x88f16e41929435cf:0x5b2532a2885e9ef6, 0x88f1...</td>\n",
              "      <td>https://www.google.com/maps/place//data=!4m2!3...</td>\n",
              "    </tr>\n",
              "    <tr>\n",
              "      <th>1</th>\n",
              "      <td>City Textile</td>\n",
              "      <td>City Textile, 3001 E Pico Blvd, Los Angeles, C...</td>\n",
              "      <td>0x80c2c98c0e3c16fd:0x29ec8a728764fdf9</td>\n",
              "      <td>None</td>\n",
              "      <td>34.018891</td>\n",
              "      <td>-118.215290</td>\n",
              "      <td>[Textile exporter]</td>\n",
              "      <td>4.5</td>\n",
              "      <td>6</td>\n",
              "      <td>None</td>\n",
              "      <td>None</td>\n",
              "      <td>None</td>\n",
              "      <td>Open now</td>\n",
              "      <td>[0x80c2c624136ea88b:0xb0315367ed448771, 0x80c2...</td>\n",
              "      <td>https://www.google.com/maps/place//data=!4m2!3...</td>\n",
              "    </tr>\n",
              "    <tr>\n",
              "      <th>2</th>\n",
              "      <td>San Soo Dang</td>\n",
              "      <td>San Soo Dang, 761 S Vermont Ave, Los Angeles, ...</td>\n",
              "      <td>0x80c2c778e3b73d33:0xbdc58662a4a97d49</td>\n",
              "      <td>None</td>\n",
              "      <td>34.058092</td>\n",
              "      <td>-118.292130</td>\n",
              "      <td>[Korean restaurant]</td>\n",
              "      <td>4.4</td>\n",
              "      <td>18</td>\n",
              "      <td>None</td>\n",
              "      <td>[[Thursday, 6:30AM–6PM], [Friday, 6:30AM–6PM],...</td>\n",
              "      <td>{'Service options': ['Takeout', 'Dine-in', 'De...</td>\n",
              "      <td>Open ⋅ Closes 6PM</td>\n",
              "      <td>[0x80c2c78249aba68f:0x35bf16ce61be751d, 0x80c2...</td>\n",
              "      <td>https://www.google.com/maps/place//data=!4m2!3...</td>\n",
              "    </tr>\n",
              "    <tr>\n",
              "      <th>3</th>\n",
              "      <td>Nova Fabrics</td>\n",
              "      <td>Nova Fabrics, 2200 E 11th St, Los Angeles, CA ...</td>\n",
              "      <td>0x80c2c89923b27a41:0x32041559418d447</td>\n",
              "      <td>None</td>\n",
              "      <td>34.023669</td>\n",
              "      <td>-118.232930</td>\n",
              "      <td>[Fabric store]</td>\n",
              "      <td>3.3</td>\n",
              "      <td>6</td>\n",
              "      <td>None</td>\n",
              "      <td>[[Thursday, 9AM–5PM], [Friday, 9AM–5PM], [Satu...</td>\n",
              "      <td>{'Service options': ['In-store shopping'], 'Pa...</td>\n",
              "      <td>Open ⋅ Closes 5PM</td>\n",
              "      <td>[0x80c2c8811477253f:0x23a8a492df1918f7, 0x80c2...</td>\n",
              "      <td>https://www.google.com/maps/place//data=!4m2!3...</td>\n",
              "    </tr>\n",
              "    <tr>\n",
              "      <th>4</th>\n",
              "      <td>Nobel Textile Co</td>\n",
              "      <td>Nobel Textile Co, 719 E 9th St, Los Angeles, C...</td>\n",
              "      <td>0x80c2c632f933b073:0xc31785961fe826a6</td>\n",
              "      <td>None</td>\n",
              "      <td>34.036694</td>\n",
              "      <td>-118.249421</td>\n",
              "      <td>[Fabric store]</td>\n",
              "      <td>4.3</td>\n",
              "      <td>7</td>\n",
              "      <td>None</td>\n",
              "      <td>[[Thursday, 9AM–5PM], [Friday, 9AM–5PM], [Satu...</td>\n",
              "      <td>{'Service options': ['In-store pickup']}</td>\n",
              "      <td>Open ⋅ Closes 5PM</td>\n",
              "      <td>[0x80c2c62c496083d1:0xdefa11317fe870a1, 0x80c2...</td>\n",
              "      <td>https://www.google.com/maps/place//data=!4m2!3...</td>\n",
              "    </tr>\n",
              "    <tr>\n",
              "      <th>...</th>\n",
              "      <td>...</td>\n",
              "      <td>...</td>\n",
              "      <td>...</td>\n",
              "      <td>...</td>\n",
              "      <td>...</td>\n",
              "      <td>...</td>\n",
              "      <td>...</td>\n",
              "      <td>...</td>\n",
              "      <td>...</td>\n",
              "      <td>...</td>\n",
              "      <td>...</td>\n",
              "      <td>...</td>\n",
              "      <td>...</td>\n",
              "      <td>...</td>\n",
              "      <td>...</td>\n",
              "    </tr>\n",
              "    <tr>\n",
              "      <th>274996</th>\n",
              "      <td>Maven Realty</td>\n",
              "      <td>Maven Realty, 2180 McMillan Ave #71672, North ...</td>\n",
              "      <td>0x88fe64e7daceaaab:0x101c046dcadcc9c3</td>\n",
              "      <td>None</td>\n",
              "      <td>32.857737</td>\n",
              "      <td>-79.985839</td>\n",
              "      <td>[Real estate agency]</td>\n",
              "      <td>4.9</td>\n",
              "      <td>15</td>\n",
              "      <td>None</td>\n",
              "      <td>[[Saturday, Open 24 hours], [Sunday, Open 24 h...</td>\n",
              "      <td>None</td>\n",
              "      <td>Open 24 hours</td>\n",
              "      <td>[0x88fe657160ccc965:0xc675c849dc6d96ba, 0x88fe...</td>\n",
              "      <td>https://www.google.com/maps/place//data=!4m2!3...</td>\n",
              "    </tr>\n",
              "    <tr>\n",
              "      <th>274997</th>\n",
              "      <td>Stone Castle Fence</td>\n",
              "      <td>Stone Castle Fence, 124 Cypress Gardens Rd, Mo...</td>\n",
              "      <td>0x88fe59f4602c95fd:0x57e2b1904d9e6949</td>\n",
              "      <td>None</td>\n",
              "      <td>33.089951</td>\n",
              "      <td>-80.078021</td>\n",
              "      <td>[Fence contractor, Construction company, Contr...</td>\n",
              "      <td>4.0</td>\n",
              "      <td>18</td>\n",
              "      <td>None</td>\n",
              "      <td>[[Saturday, Closed], [Sunday, Closed], [Monday...</td>\n",
              "      <td>None</td>\n",
              "      <td>Closed ⋅ Opens 7AM Mon</td>\n",
              "      <td>[0x88fe8d1444299bbb:0x91daa2e82c59ea94, 0x88fe...</td>\n",
              "      <td>https://www.google.com/maps/place//data=!4m2!3...</td>\n",
              "    </tr>\n",
              "    <tr>\n",
              "      <th>274998</th>\n",
              "      <td>Health Insurance Solutions Team</td>\n",
              "      <td>Health Insurance Solutions Team, 6650 Rivers A...</td>\n",
              "      <td>0x88fe71f9617c15e1:0x89518c1d251706bf</td>\n",
              "      <td>None</td>\n",
              "      <td>32.918858</td>\n",
              "      <td>-80.027952</td>\n",
              "      <td>[Health insurance agency]</td>\n",
              "      <td>5.0</td>\n",
              "      <td>18</td>\n",
              "      <td>None</td>\n",
              "      <td>[[Saturday, Closed], [Sunday, Closed], [Monday...</td>\n",
              "      <td>{'Service options': ['Online appointments'], '...</td>\n",
              "      <td>Closed ⋅ Opens 8AM Mon</td>\n",
              "      <td>[0x88fe6fe45b8d3f15:0x41d4b940a40b246a, 0x88fe...</td>\n",
              "      <td>https://www.google.com/maps/place//data=!4m2!3...</td>\n",
              "    </tr>\n",
              "    <tr>\n",
              "      <th>274999</th>\n",
              "      <td>Bernard Building Center</td>\n",
              "      <td>Bernard Building Center, 27300 M-32, M-32, Hil...</td>\n",
              "      <td>0x4d34c7517d6e6e29:0x7fe553ee2f090cf0</td>\n",
              "      <td>None</td>\n",
              "      <td>45.056691</td>\n",
              "      <td>-83.894423</td>\n",
              "      <td>[Building materials store, Electrical supply s...</td>\n",
              "      <td>4.7</td>\n",
              "      <td>25</td>\n",
              "      <td>None</td>\n",
              "      <td>[[Saturday, 8AM–3PM], [Sunday, Closed], [Monda...</td>\n",
              "      <td>{'Service options': ['Curbside pickup', 'Deliv...</td>\n",
              "      <td>Closed ⋅ Opens 7:30AM Mon</td>\n",
              "      <td>[0x4d335f6408d395d9:0xc20dea80d4c100d8, 0x4d34...</td>\n",
              "      <td>https://www.google.com/maps/place//data=!4m2!3...</td>\n",
              "    </tr>\n",
              "    <tr>\n",
              "      <th>275000</th>\n",
              "      <td>HMR Motor Works and Auto Care</td>\n",
              "      <td>HMR Motor Works and Auto Care, Mio, MI 48647</td>\n",
              "      <td>0x88208f4360c053ab:0xe3d6883f19601a01</td>\n",
              "      <td>None</td>\n",
              "      <td>44.649195</td>\n",
              "      <td>-84.130324</td>\n",
              "      <td>[Auto repair shop]</td>\n",
              "      <td>4.4</td>\n",
              "      <td>13</td>\n",
              "      <td>None</td>\n",
              "      <td>[[Saturday, 9AM–5:30PM], [Sunday, Closed], [Mo...</td>\n",
              "      <td>{'Accessibility': ['Wheelchair accessible entr...</td>\n",
              "      <td>Open ⋅ Closes 5:30PM</td>\n",
              "      <td>[0x88208e43a516e3ab:0xbb20b293f8e97ab2, 0x8820...</td>\n",
              "      <td>https://www.google.com/maps/place//data=!4m2!3...</td>\n",
              "    </tr>\n",
              "  </tbody>\n",
              "</table>\n",
              "<p>275001 rows × 15 columns</p>\n",
              "</div>\n",
              "      <button class=\"colab-df-convert\" onclick=\"convertToInteractive('df-14f760a6-e9fa-4fa7-b420-e7948ce81d83')\"\n",
              "              title=\"Convert this dataframe to an interactive table.\"\n",
              "              style=\"display:none;\">\n",
              "\n",
              "  <svg xmlns=\"http://www.w3.org/2000/svg\" height=\"24px\"viewBox=\"0 0 24 24\"\n",
              "       width=\"24px\">\n",
              "    <path d=\"M0 0h24v24H0V0z\" fill=\"none\"/>\n",
              "    <path d=\"M18.56 5.44l.94 2.06.94-2.06 2.06-.94-2.06-.94-.94-2.06-.94 2.06-2.06.94zm-11 1L8.5 8.5l.94-2.06 2.06-.94-2.06-.94L8.5 2.5l-.94 2.06-2.06.94zm10 10l.94 2.06.94-2.06 2.06-.94-2.06-.94-.94-2.06-.94 2.06-2.06.94z\"/><path d=\"M17.41 7.96l-1.37-1.37c-.4-.4-.92-.59-1.43-.59-.52 0-1.04.2-1.43.59L10.3 9.45l-7.72 7.72c-.78.78-.78 2.05 0 2.83L4 21.41c.39.39.9.59 1.41.59.51 0 1.02-.2 1.41-.59l7.78-7.78 2.81-2.81c.8-.78.8-2.07 0-2.86zM5.41 20L4 18.59l7.72-7.72 1.47 1.35L5.41 20z\"/>\n",
              "  </svg>\n",
              "      </button>\n",
              "\n",
              "\n",
              "\n",
              "    <div id=\"df-e9204b0f-df14-4071-8d26-2641e8d9294a\">\n",
              "      <button class=\"colab-df-quickchart\" onclick=\"quickchart('df-e9204b0f-df14-4071-8d26-2641e8d9294a')\"\n",
              "              title=\"Suggest charts.\"\n",
              "              style=\"display:none;\">\n",
              "\n",
              "<svg xmlns=\"http://www.w3.org/2000/svg\" height=\"24px\"viewBox=\"0 0 24 24\"\n",
              "     width=\"24px\">\n",
              "    <g>\n",
              "        <path d=\"M19 3H5c-1.1 0-2 .9-2 2v14c0 1.1.9 2 2 2h14c1.1 0 2-.9 2-2V5c0-1.1-.9-2-2-2zM9 17H7v-7h2v7zm4 0h-2V7h2v10zm4 0h-2v-4h2v4z\"/>\n",
              "    </g>\n",
              "</svg>\n",
              "      </button>\n",
              "    </div>\n",
              "\n",
              "<style>\n",
              "  .colab-df-quickchart {\n",
              "    background-color: #E8F0FE;\n",
              "    border: none;\n",
              "    border-radius: 50%;\n",
              "    cursor: pointer;\n",
              "    display: none;\n",
              "    fill: #1967D2;\n",
              "    height: 32px;\n",
              "    padding: 0 0 0 0;\n",
              "    width: 32px;\n",
              "  }\n",
              "\n",
              "  .colab-df-quickchart:hover {\n",
              "    background-color: #E2EBFA;\n",
              "    box-shadow: 0px 1px 2px rgba(60, 64, 67, 0.3), 0px 1px 3px 1px rgba(60, 64, 67, 0.15);\n",
              "    fill: #174EA6;\n",
              "  }\n",
              "\n",
              "  [theme=dark] .colab-df-quickchart {\n",
              "    background-color: #3B4455;\n",
              "    fill: #D2E3FC;\n",
              "  }\n",
              "\n",
              "  [theme=dark] .colab-df-quickchart:hover {\n",
              "    background-color: #434B5C;\n",
              "    box-shadow: 0px 1px 3px 1px rgba(0, 0, 0, 0.15);\n",
              "    filter: drop-shadow(0px 1px 2px rgba(0, 0, 0, 0.3));\n",
              "    fill: #FFFFFF;\n",
              "  }\n",
              "</style>\n",
              "\n",
              "    <script>\n",
              "      async function quickchart(key) {\n",
              "        const containerElement = document.querySelector('#' + key);\n",
              "        const charts = await google.colab.kernel.invokeFunction(\n",
              "            'suggestCharts', [key], {});\n",
              "      }\n",
              "    </script>\n",
              "\n",
              "      <script>\n",
              "\n",
              "function displayQuickchartButton(domScope) {\n",
              "  let quickchartButtonEl =\n",
              "    domScope.querySelector('#df-e9204b0f-df14-4071-8d26-2641e8d9294a button.colab-df-quickchart');\n",
              "  quickchartButtonEl.style.display =\n",
              "    google.colab.kernel.accessAllowed ? 'block' : 'none';\n",
              "}\n",
              "\n",
              "        displayQuickchartButton(document);\n",
              "      </script>\n",
              "      <style>\n",
              "    .colab-df-container {\n",
              "      display:flex;\n",
              "      flex-wrap:wrap;\n",
              "      gap: 12px;\n",
              "    }\n",
              "\n",
              "    .colab-df-convert {\n",
              "      background-color: #E8F0FE;\n",
              "      border: none;\n",
              "      border-radius: 50%;\n",
              "      cursor: pointer;\n",
              "      display: none;\n",
              "      fill: #1967D2;\n",
              "      height: 32px;\n",
              "      padding: 0 0 0 0;\n",
              "      width: 32px;\n",
              "    }\n",
              "\n",
              "    .colab-df-convert:hover {\n",
              "      background-color: #E2EBFA;\n",
              "      box-shadow: 0px 1px 2px rgba(60, 64, 67, 0.3), 0px 1px 3px 1px rgba(60, 64, 67, 0.15);\n",
              "      fill: #174EA6;\n",
              "    }\n",
              "\n",
              "    [theme=dark] .colab-df-convert {\n",
              "      background-color: #3B4455;\n",
              "      fill: #D2E3FC;\n",
              "    }\n",
              "\n",
              "    [theme=dark] .colab-df-convert:hover {\n",
              "      background-color: #434B5C;\n",
              "      box-shadow: 0px 1px 3px 1px rgba(0, 0, 0, 0.15);\n",
              "      filter: drop-shadow(0px 1px 2px rgba(0, 0, 0, 0.3));\n",
              "      fill: #FFFFFF;\n",
              "    }\n",
              "  </style>\n",
              "\n",
              "      <script>\n",
              "        const buttonEl =\n",
              "          document.querySelector('#df-14f760a6-e9fa-4fa7-b420-e7948ce81d83 button.colab-df-convert');\n",
              "        buttonEl.style.display =\n",
              "          google.colab.kernel.accessAllowed ? 'block' : 'none';\n",
              "\n",
              "        async function convertToInteractive(key) {\n",
              "          const element = document.querySelector('#df-14f760a6-e9fa-4fa7-b420-e7948ce81d83');\n",
              "          const dataTable =\n",
              "            await google.colab.kernel.invokeFunction('convertToInteractive',\n",
              "                                                     [key], {});\n",
              "          if (!dataTable) return;\n",
              "\n",
              "          const docLinkHtml = 'Like what you see? Visit the ' +\n",
              "            '<a target=\"_blank\" href=https://colab.research.google.com/notebooks/data_table.ipynb>data table notebook</a>'\n",
              "            + ' to learn more about interactive tables.';\n",
              "          element.innerHTML = '';\n",
              "          dataTable['output_type'] = 'display_data';\n",
              "          await google.colab.output.renderOutput(dataTable, element);\n",
              "          const docLink = document.createElement('div');\n",
              "          docLink.innerHTML = docLinkHtml;\n",
              "          element.appendChild(docLink);\n",
              "        }\n",
              "      </script>\n",
              "    </div>\n",
              "  </div>\n"
            ]
          },
          "metadata": {},
          "execution_count": 3
        }
      ],
      "source": [
        "df_metdata=pd.read_json(r'/content/drive/MyDrive/P_F_H/1.json',lines=True)\n",
        "df_metdata"
      ]
    },
    {
      "cell_type": "code",
      "source": [
        "df_metdata.info()"
      ],
      "metadata": {
        "colab": {
          "base_uri": "https://localhost:8080/"
        },
        "id": "5LqRa1VRUPHv",
        "outputId": "1f007c0f-6394-4329-e748-0f4fd811ecb1"
      },
      "execution_count": 4,
      "outputs": [
        {
          "output_type": "stream",
          "name": "stdout",
          "text": [
            "<class 'pandas.core.frame.DataFrame'>\n",
            "RangeIndex: 275001 entries, 0 to 275000\n",
            "Data columns (total 15 columns):\n",
            " #   Column            Non-Null Count   Dtype  \n",
            "---  ------            --------------   -----  \n",
            " 0   name              274994 non-null  object \n",
            " 1   address           264939 non-null  object \n",
            " 2   gmap_id           275001 non-null  object \n",
            " 3   description       13155 non-null   object \n",
            " 4   latitude          275001 non-null  float64\n",
            " 5   longitude         275001 non-null  float64\n",
            " 6   category          272740 non-null  object \n",
            " 7   avg_rating        275001 non-null  float64\n",
            " 8   num_of_reviews    275001 non-null  int64  \n",
            " 9   price             13450 non-null   object \n",
            " 10  hours             192448 non-null  object \n",
            " 11  MISC              194972 non-null  object \n",
            " 12  state             195523 non-null  object \n",
            " 13  relative_results  238771 non-null  object \n",
            " 14  url               275001 non-null  object \n",
            "dtypes: float64(3), int64(1), object(11)\n",
            "memory usage: 31.5+ MB\n"
          ]
        }
      ]
    },
    {
      "cell_type": "code",
      "source": [
        "df_metdata.category"
      ],
      "metadata": {
        "colab": {
          "base_uri": "https://localhost:8080/"
        },
        "id": "NKhQlIOIS0Ay",
        "outputId": "1d2bd14b-bd15-4073-f6cb-8d4b7c05fb27"
      },
      "execution_count": 5,
      "outputs": [
        {
          "output_type": "execute_result",
          "data": {
            "text/plain": [
              "0                                                [Pharmacy]\n",
              "1                                        [Textile exporter]\n",
              "2                                       [Korean restaurant]\n",
              "3                                            [Fabric store]\n",
              "4                                            [Fabric store]\n",
              "                                ...                        \n",
              "274996                                 [Real estate agency]\n",
              "274997    [Fence contractor, Construction company, Contr...\n",
              "274998                            [Health insurance agency]\n",
              "274999    [Building materials store, Electrical supply s...\n",
              "275000                                   [Auto repair shop]\n",
              "Name: category, Length: 275001, dtype: object"
            ]
          },
          "metadata": {},
          "execution_count": 5
        }
      ]
    },
    {
      "cell_type": "code",
      "source": [
        "df_metdata.name.value_counts()"
      ],
      "metadata": {
        "colab": {
          "base_uri": "https://localhost:8080/"
        },
        "id": "5rEiJllDVBhP",
        "outputId": "c26bc418-3c25-4408-e4f5-605fb3a97646"
      },
      "execution_count": 6,
      "outputs": [
        {
          "output_type": "execute_result",
          "data": {
            "text/plain": [
              "United States Postal Service                   728\n",
              "Redbox                                         609\n",
              "U-Haul Neighborhood Dealer                     467\n",
              "7-Eleven                                       458\n",
              "Shell                                          399\n",
              "                                              ... \n",
              "Destiny Arts Center                              1\n",
              "Amazon Hub Counter (Harrison - Whole Foods)      1\n",
              "Center of Attention Hair Salon                   1\n",
              "La Clínica Dental                                1\n",
              "HMR Motor Works and Auto Care                    1\n",
              "Name: name, Length: 219822, dtype: int64"
            ]
          },
          "metadata": {},
          "execution_count": 6
        }
      ]
    },
    {
      "cell_type": "code",
      "source": [
        "df_metdata.url[0]\n"
      ],
      "metadata": {
        "colab": {
          "base_uri": "https://localhost:8080/",
          "height": 53
        },
        "id": "1p4f32V5T4FM",
        "outputId": "238d0408-85f2-4ce3-b683-42274584d710"
      },
      "execution_count": 7,
      "outputs": [
        {
          "output_type": "execute_result",
          "data": {
            "text/plain": [
              "'https://www.google.com/maps/place//data=!4m2!3m1!1s0x88f16e41928ff687:0x883dad4fd048e8f8?authuser=-1&hl=en&gl=us'"
            ],
            "application/vnd.google.colaboratory.intrinsic+json": {
              "type": "string"
            }
          },
          "metadata": {},
          "execution_count": 7
        }
      ]
    },
    {
      "cell_type": "code",
      "source": [
        "\n",
        "def categorias_estados( categoria: str ):\n",
        " cant=0\n",
        " for i  in range(len(df_metdata.category)):\n",
        "\n",
        "     if type(df_metdata.category[i])==list:\n",
        "         for j in df_metdata.category[i]:\n",
        "             if j==categoria:\n",
        "                 cant=cant+1\n",
        "     else:\n",
        "         if df_metdata.category[i]==categoria:\n",
        "             cant=cant+1\n",
        "\n",
        " if cant==0:\n",
        "     print('Ingreso incorrecto,recuerde escribir todo en minusculas')\n",
        " return{'En el estado elegido hay una cantidad':cant,'de la categoria':categoria}"
      ],
      "metadata": {
        "id": "L6xXghUIYkiW"
      },
      "execution_count": 29,
      "outputs": []
    },
    {
      "cell_type": "markdown",
      "source": [
        "**Realizo una busqueda en los datos usando terminos en la aplicacion Yelp usados tambien:**"
      ],
      "metadata": {
        "id": "vXLLyVkHKm9v"
      }
    },
    {
      "cell_type": "code",
      "source": [
        "categorias_estados('Pharmacy')"
      ],
      "metadata": {
        "colab": {
          "base_uri": "https://localhost:8080/"
        },
        "id": "dmHE5bCpC9h1",
        "outputId": "5746ec40-8aec-448c-eccb-ca570418df44"
      },
      "execution_count": 30,
      "outputs": [
        {
          "output_type": "execute_result",
          "data": {
            "text/plain": [
              "{'En el estado elegido hay una cantidad': 2225, 'de la categoria': 'Pharmacy'}"
            ]
          },
          "metadata": {},
          "execution_count": 30
        }
      ]
    },
    {
      "cell_type": "code",
      "source": [
        "categorias_estados('Food')"
      ],
      "metadata": {
        "colab": {
          "base_uri": "https://localhost:8080/"
        },
        "id": "ZWeGeOkZ-DTk",
        "outputId": "bc13c9c1-abbb-4317-bf34-ce2d2d80cf53"
      },
      "execution_count": 31,
      "outputs": [
        {
          "output_type": "execute_result",
          "data": {
            "text/plain": [
              "{'En el estado elegido hay una cantidad': 36, 'de la categoria': 'Food'}"
            ]
          },
          "metadata": {},
          "execution_count": 31
        }
      ]
    },
    {
      "cell_type": "code",
      "source": [
        "categorias_estados('Fast Food')"
      ],
      "metadata": {
        "colab": {
          "base_uri": "https://localhost:8080/"
        },
        "id": "tA2U9cYvC5jd",
        "outputId": "5dd8e358-f11a-490b-9794-0b0c83cf83af"
      },
      "execution_count": 32,
      "outputs": [
        {
          "output_type": "stream",
          "name": "stdout",
          "text": [
            "Ingreso incorrecto,recuerde escribir todo en minusculas\n"
          ]
        },
        {
          "output_type": "execute_result",
          "data": {
            "text/plain": [
              "{'En el estado elegido hay una cantidad': 0, 'de la categoria': 'Fast Food'}"
            ]
          },
          "metadata": {},
          "execution_count": 32
        }
      ]
    },
    {
      "cell_type": "code",
      "source": [
        "categorias_estados('Cafeteria')"
      ],
      "metadata": {
        "colab": {
          "base_uri": "https://localhost:8080/"
        },
        "id": "nRyb6Ef7DYq_",
        "outputId": "a538aad7-e3ec-42ef-d52c-83619e758469"
      },
      "execution_count": 19,
      "outputs": [
        {
          "output_type": "execute_result",
          "data": {
            "text/plain": [
              "{'cantidad': 46, 'de categorias en el estado ': 'Cafeteria'}"
            ]
          },
          "metadata": {},
          "execution_count": 19
        }
      ]
    },
    {
      "cell_type": "markdown",
      "source": [
        "**Muestro los nombres de los locales encontrados**"
      ],
      "metadata": {
        "id": "ySQrcE24LDAT"
      }
    },
    {
      "cell_type": "code",
      "source": [
        "\n",
        "def categorias_estados_l( categoria: str ):\n",
        " cant=0\n",
        " for i  in range(len(df_metdata.category)):\n",
        "\n",
        "     if type(df_metdata.category[i])==list:\n",
        "         for j in df_metdata.category[i]:\n",
        "             if j==categoria:\n",
        "                 cant=cant+1\n",
        "                 print('nombre',df_metdata.name[i])\n",
        "     else:\n",
        "         if df_metdata.category[i]==categoria:\n",
        "             cant=cant+1\n",
        "             print('nombre',df_metdata.name[i])\n",
        " if cant==0:\n",
        "     print('Ingreso incorrecto,recuerde escribir todo en minusculas')\n",
        "\n",
        " return{'En el estado elegido hay una cantidad':cant,'de categoria':categoria}"
      ],
      "metadata": {
        "id": "mKQNMsnJEMd1"
      },
      "execution_count": 35,
      "outputs": []
    },
    {
      "cell_type": "code",
      "source": [
        "categorias_estados_l('Food')"
      ],
      "metadata": {
        "colab": {
          "base_uri": "https://localhost:8080/"
        },
        "id": "P-TciyGWIWzM",
        "outputId": "e4648a57-5afc-456e-ec0a-298c66838c06"
      },
      "execution_count": 36,
      "outputs": [
        {
          "output_type": "stream",
          "name": "stdout",
          "text": [
            "nombre Alaska General Seafoods\n",
            "nombre Valbert Drive In Feed & Farm\n",
            "nombre La Jolla Food Distributors LLC\n",
            "nombre Lian Hwa Foods Inc\n",
            "nombre Alaska General Seafoods\n",
            "nombre Valbert Drive In Feed & Farm\n",
            "nombre La Jolla Food Distributors LLC\n",
            "nombre Lian Hwa Foods Inc\n",
            "nombre California Sweet Potato Growers\n",
            "nombre Eggman Family Honey\n",
            "nombre Global Produce Sales\n",
            "nombre Atlas Walnuts LLC\n",
            "nombre Super Botanica Del Sol\n",
            "nombre Orlando Foods Inc\n",
            "nombre Southeast-Atlantic Beverage\n",
            "nombre Prima Sausage Co\n",
            "nombre Sterling Hill Potatoes, remote storage\n",
            "nombre Brewsky's Bottle Shop\n",
            "nombre Caballero Grill\n",
            "nombre Maximo Boatyard\n",
            "nombre Fireside Winery in the Village\n",
            "nombre Paradise Koi Ponds\n",
            "nombre Best Bargain 99 Cent\n",
            "nombre Alabama Railcar Services\n",
            "nombre Trask Fish Hatchery\n",
            "nombre Jack & Jill Nut Shop\n",
            "nombre Wholesale USA\n",
            "nombre Reinhart Food Services\n",
            "nombre Wisconsin Distributors\n",
            "nombre Jackson Oven Supply\n",
            "nombre Illini Institutional Foods Inc\n",
            "nombre Shoals Flight Center\n",
            "nombre End Of The Vine Produce\n",
            "nombre Tortilleria Veleta\n",
            "nombre LK Foods Trading Inc\n",
            "nombre B & P Fruit Co\n"
          ]
        },
        {
          "output_type": "execute_result",
          "data": {
            "text/plain": [
              "{'En el estado elegido hay una cantidad': 36, 'de categoria': 'Food'}"
            ]
          },
          "metadata": {},
          "execution_count": 36
        }
      ]
    },
    {
      "cell_type": "code",
      "source": [
        "categorias_estados_l('Cafeteria')"
      ],
      "metadata": {
        "colab": {
          "base_uri": "https://localhost:8080/"
        },
        "id": "NrCfcKbkLRxx",
        "outputId": "206ac3bc-6573-4736-8571-fd270662d303"
      },
      "execution_count": 37,
      "outputs": [
        {
          "output_type": "stream",
          "name": "stdout",
          "text": [
            "nombre KHANA KHAZANA \"A Traditional Indian Cafe\"\n",
            "nombre Chefness Bakery\n",
            "nombre Sandburg Café\n",
            "nombre Cuatro Gato\n",
            "nombre MJ CAFE\n",
            "nombre EL DOLLAR MONEY STATION #2\n",
            "nombre KHANA KHAZANA \"A Traditional Indian Cafe\"\n",
            "nombre Chefness Bakery\n",
            "nombre Sandburg Café\n",
            "nombre Cuatro Gato\n",
            "nombre MJ CAFE\n",
            "nombre EL DOLLAR MONEY STATION #2\n",
            "nombre Nordstrom Ebar Artisan Coffee\n",
            "nombre Green Leaf's & Bananas\n",
            "nombre DOÑA CONCHA MEAT MARKET\n",
            "nombre Uz's Donuts\n",
            "nombre Papa Bambinos Pizza Pasta\n",
            "nombre Charlotte Cafe\n",
            "nombre IKEA Restaurant\n",
            "nombre Los Angelitos\n",
            "nombre Luby's\n",
            "nombre McCormick Dining Hall\n",
            "nombre Cafe Gallery & Market\n",
            "nombre Georgia Pines Dining Facility\n",
            "nombre Green Leaf's & Bananas\n",
            "nombre Charles White Dining Hall\n",
            "nombre Epicurean Feast\n",
            "nombre The Piazza Cafetaria\n",
            "nombre 2HELA2\n",
            "nombre Fair Oaks Express Cafe\n",
            "nombre Mezza Latin House\n",
            "nombre Patrick J McAtee Dining Center\n",
            "nombre North Servery\n",
            "nombre Empanadas and coffee\n",
            "nombre Stern Dining\n",
            "nombre Marketplace Cafe\n",
            "nombre Microsoft Cafe 26\n",
            "nombre Fort Myer Dining Facility\n",
            "nombre Dining Services, Utah State University\n",
            "nombre Dulles Cafe express & catering\n",
            "nombre El Gorila Raspados II\n",
            "nombre Learning Community Center of North Omaha\n",
            "nombre Aroma Buena Cafe\n",
            "nombre Gilbert Hall\n",
            "nombre Market Square\n",
            "nombre Showplace Cafeteria\n"
          ]
        },
        {
          "output_type": "execute_result",
          "data": {
            "text/plain": [
              "{'En el estado elegido hay una cantidad': 46, 'de categoria': 'Cafeteria'}"
            ]
          },
          "metadata": {},
          "execution_count": 37
        }
      ]
    }
  ]
}