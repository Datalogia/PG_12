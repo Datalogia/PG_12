{
  "cells": [
    {
      "cell_type": "code",
      "execution_count": null,
      "metadata": {
        "id": "BpfEJ9RW-SIp"
      },
      "outputs": [],
      "source": [
        "import os\n",
        "import pandas as pd\n",
        "import json\n",
        "import numpy as np\n",
        "import pickle\n",
        "import ast\n",
        "pd.set_option('display.max_columns', None)"
      ]
    },
    {
      "cell_type": "markdown",
      "metadata": {
        "id": "yjUg4uKL-SIw"
      },
      "source": [
        "# **ETL de Archivos YELP**\n",
        "---"
      ]
    },
    {
      "cell_type": "markdown",
      "metadata": {
        "id": "K40igboc-SIz"
      },
      "source": [
        "### **checkin.json**\n",
        "---"
      ]
    },
    {
      "cell_type": "markdown",
      "source": [
        "**Carga de lo datos**"
      ],
      "metadata": {
        "id": "i39CGAeszMbg"
      }
    },
    {
      "cell_type": "code",
      "source": [
        "df_checkin_yelp=pd.read_json(r'/content/drive/MyDrive/P_F_H/checkin.json',lines=True)\n",
        "df_checkin_yelp.head(2)\n",
        "# Archivo con datos que posiblemente no se usen"
      ],
      "metadata": {
        "colab": {
          "base_uri": "https://localhost:8080/",
          "height": 112
        },
        "id": "q6XXJKOjyWvU",
        "outputId": "3b0efcc9-618e-44c6-b112-71311ec3a434"
      },
      "execution_count": null,
      "outputs": [
        {
          "output_type": "execute_result",
          "data": {
            "text/plain": [
              "              business_id                                               date\n",
              "0  ---kPU91CF4Lq2-WlRu9Lw  2020-03-13 21:10:56, 2020-06-02 22:18:06, 2020...\n",
              "1  --0iUa4sNDFiZFrAdIWhZQ  2010-09-13 21:43:09, 2011-05-04 23:08:15, 2011..."
            ],
            "text/html": [
              "\n",
              "\n",
              "  <div id=\"df-458c1b2f-5b9e-4534-b0c1-8f029fb67785\">\n",
              "    <div class=\"colab-df-container\">\n",
              "      <div>\n",
              "<style scoped>\n",
              "    .dataframe tbody tr th:only-of-type {\n",
              "        vertical-align: middle;\n",
              "    }\n",
              "\n",
              "    .dataframe tbody tr th {\n",
              "        vertical-align: top;\n",
              "    }\n",
              "\n",
              "    .dataframe thead th {\n",
              "        text-align: right;\n",
              "    }\n",
              "</style>\n",
              "<table border=\"1\" class=\"dataframe\">\n",
              "  <thead>\n",
              "    <tr style=\"text-align: right;\">\n",
              "      <th></th>\n",
              "      <th>business_id</th>\n",
              "      <th>date</th>\n",
              "    </tr>\n",
              "  </thead>\n",
              "  <tbody>\n",
              "    <tr>\n",
              "      <th>0</th>\n",
              "      <td>---kPU91CF4Lq2-WlRu9Lw</td>\n",
              "      <td>2020-03-13 21:10:56, 2020-06-02 22:18:06, 2020...</td>\n",
              "    </tr>\n",
              "    <tr>\n",
              "      <th>1</th>\n",
              "      <td>--0iUa4sNDFiZFrAdIWhZQ</td>\n",
              "      <td>2010-09-13 21:43:09, 2011-05-04 23:08:15, 2011...</td>\n",
              "    </tr>\n",
              "  </tbody>\n",
              "</table>\n",
              "</div>\n",
              "      <button class=\"colab-df-convert\" onclick=\"convertToInteractive('df-458c1b2f-5b9e-4534-b0c1-8f029fb67785')\"\n",
              "              title=\"Convert this dataframe to an interactive table.\"\n",
              "              style=\"display:none;\">\n",
              "\n",
              "  <svg xmlns=\"http://www.w3.org/2000/svg\" height=\"24px\"viewBox=\"0 0 24 24\"\n",
              "       width=\"24px\">\n",
              "    <path d=\"M0 0h24v24H0V0z\" fill=\"none\"/>\n",
              "    <path d=\"M18.56 5.44l.94 2.06.94-2.06 2.06-.94-2.06-.94-.94-2.06-.94 2.06-2.06.94zm-11 1L8.5 8.5l.94-2.06 2.06-.94-2.06-.94L8.5 2.5l-.94 2.06-2.06.94zm10 10l.94 2.06.94-2.06 2.06-.94-2.06-.94-.94-2.06-.94 2.06-2.06.94z\"/><path d=\"M17.41 7.96l-1.37-1.37c-.4-.4-.92-.59-1.43-.59-.52 0-1.04.2-1.43.59L10.3 9.45l-7.72 7.72c-.78.78-.78 2.05 0 2.83L4 21.41c.39.39.9.59 1.41.59.51 0 1.02-.2 1.41-.59l7.78-7.78 2.81-2.81c.8-.78.8-2.07 0-2.86zM5.41 20L4 18.59l7.72-7.72 1.47 1.35L5.41 20z\"/>\n",
              "  </svg>\n",
              "      </button>\n",
              "\n",
              "\n",
              "\n",
              "    <div id=\"df-21b74117-80a8-4b7f-9396-365b62100aa3\">\n",
              "      <button class=\"colab-df-quickchart\" onclick=\"quickchart('df-21b74117-80a8-4b7f-9396-365b62100aa3')\"\n",
              "              title=\"Suggest charts.\"\n",
              "              style=\"display:none;\">\n",
              "\n",
              "<svg xmlns=\"http://www.w3.org/2000/svg\" height=\"24px\"viewBox=\"0 0 24 24\"\n",
              "     width=\"24px\">\n",
              "    <g>\n",
              "        <path d=\"M19 3H5c-1.1 0-2 .9-2 2v14c0 1.1.9 2 2 2h14c1.1 0 2-.9 2-2V5c0-1.1-.9-2-2-2zM9 17H7v-7h2v7zm4 0h-2V7h2v10zm4 0h-2v-4h2v4z\"/>\n",
              "    </g>\n",
              "</svg>\n",
              "      </button>\n",
              "    </div>\n",
              "\n",
              "<style>\n",
              "  .colab-df-quickchart {\n",
              "    background-color: #E8F0FE;\n",
              "    border: none;\n",
              "    border-radius: 50%;\n",
              "    cursor: pointer;\n",
              "    display: none;\n",
              "    fill: #1967D2;\n",
              "    height: 32px;\n",
              "    padding: 0 0 0 0;\n",
              "    width: 32px;\n",
              "  }\n",
              "\n",
              "  .colab-df-quickchart:hover {\n",
              "    background-color: #E2EBFA;\n",
              "    box-shadow: 0px 1px 2px rgba(60, 64, 67, 0.3), 0px 1px 3px 1px rgba(60, 64, 67, 0.15);\n",
              "    fill: #174EA6;\n",
              "  }\n",
              "\n",
              "  [theme=dark] .colab-df-quickchart {\n",
              "    background-color: #3B4455;\n",
              "    fill: #D2E3FC;\n",
              "  }\n",
              "\n",
              "  [theme=dark] .colab-df-quickchart:hover {\n",
              "    background-color: #434B5C;\n",
              "    box-shadow: 0px 1px 3px 1px rgba(0, 0, 0, 0.15);\n",
              "    filter: drop-shadow(0px 1px 2px rgba(0, 0, 0, 0.3));\n",
              "    fill: #FFFFFF;\n",
              "  }\n",
              "</style>\n",
              "\n",
              "    <script>\n",
              "      async function quickchart(key) {\n",
              "        const containerElement = document.querySelector('#' + key);\n",
              "        const charts = await google.colab.kernel.invokeFunction(\n",
              "            'suggestCharts', [key], {});\n",
              "      }\n",
              "    </script>\n",
              "\n",
              "      <script>\n",
              "\n",
              "function displayQuickchartButton(domScope) {\n",
              "  let quickchartButtonEl =\n",
              "    domScope.querySelector('#df-21b74117-80a8-4b7f-9396-365b62100aa3 button.colab-df-quickchart');\n",
              "  quickchartButtonEl.style.display =\n",
              "    google.colab.kernel.accessAllowed ? 'block' : 'none';\n",
              "}\n",
              "\n",
              "        displayQuickchartButton(document);\n",
              "      </script>\n",
              "      <style>\n",
              "    .colab-df-container {\n",
              "      display:flex;\n",
              "      flex-wrap:wrap;\n",
              "      gap: 12px;\n",
              "    }\n",
              "\n",
              "    .colab-df-convert {\n",
              "      background-color: #E8F0FE;\n",
              "      border: none;\n",
              "      border-radius: 50%;\n",
              "      cursor: pointer;\n",
              "      display: none;\n",
              "      fill: #1967D2;\n",
              "      height: 32px;\n",
              "      padding: 0 0 0 0;\n",
              "      width: 32px;\n",
              "    }\n",
              "\n",
              "    .colab-df-convert:hover {\n",
              "      background-color: #E2EBFA;\n",
              "      box-shadow: 0px 1px 2px rgba(60, 64, 67, 0.3), 0px 1px 3px 1px rgba(60, 64, 67, 0.15);\n",
              "      fill: #174EA6;\n",
              "    }\n",
              "\n",
              "    [theme=dark] .colab-df-convert {\n",
              "      background-color: #3B4455;\n",
              "      fill: #D2E3FC;\n",
              "    }\n",
              "\n",
              "    [theme=dark] .colab-df-convert:hover {\n",
              "      background-color: #434B5C;\n",
              "      box-shadow: 0px 1px 3px 1px rgba(0, 0, 0, 0.15);\n",
              "      filter: drop-shadow(0px 1px 2px rgba(0, 0, 0, 0.3));\n",
              "      fill: #FFFFFF;\n",
              "    }\n",
              "  </style>\n",
              "\n",
              "      <script>\n",
              "        const buttonEl =\n",
              "          document.querySelector('#df-458c1b2f-5b9e-4534-b0c1-8f029fb67785 button.colab-df-convert');\n",
              "        buttonEl.style.display =\n",
              "          google.colab.kernel.accessAllowed ? 'block' : 'none';\n",
              "\n",
              "        async function convertToInteractive(key) {\n",
              "          const element = document.querySelector('#df-458c1b2f-5b9e-4534-b0c1-8f029fb67785');\n",
              "          const dataTable =\n",
              "            await google.colab.kernel.invokeFunction('convertToInteractive',\n",
              "                                                     [key], {});\n",
              "          if (!dataTable) return;\n",
              "\n",
              "          const docLinkHtml = 'Like what you see? Visit the ' +\n",
              "            '<a target=\"_blank\" href=https://colab.research.google.com/notebooks/data_table.ipynb>data table notebook</a>'\n",
              "            + ' to learn more about interactive tables.';\n",
              "          element.innerHTML = '';\n",
              "          dataTable['output_type'] = 'display_data';\n",
              "          await google.colab.output.renderOutput(dataTable, element);\n",
              "          const docLink = document.createElement('div');\n",
              "          docLink.innerHTML = docLinkHtml;\n",
              "          element.appendChild(docLink);\n",
              "        }\n",
              "      </script>\n",
              "    </div>\n",
              "  </div>\n"
            ]
          },
          "metadata": {},
          "execution_count": 123
        }
      ]
    },
    {
      "cell_type": "markdown",
      "metadata": {
        "id": "6xJT0fE6-SJA"
      },
      "source": [
        "**Buscamos elementos nulos**"
      ]
    },
    {
      "cell_type": "code",
      "execution_count": null,
      "metadata": {
        "id": "FPlJ457a-SJC",
        "colab": {
          "base_uri": "https://localhost:8080/"
        },
        "outputId": "34bc4101-3994-411c-bc80-2a4e1e54b2dd"
      },
      "outputs": [
        {
          "output_type": "execute_result",
          "data": {
            "text/plain": [
              "business_id    0\n",
              "date           0\n",
              "dtype: int64"
            ]
          },
          "metadata": {},
          "execution_count": 124
        }
      ],
      "source": [
        "df_checkin_yelp.isnull().sum()"
      ]
    },
    {
      "cell_type": "markdown",
      "metadata": {
        "id": "wZVzwtUt-SJE"
      },
      "source": [
        "**Revisamos si tiene duplicados**"
      ]
    },
    {
      "cell_type": "code",
      "execution_count": null,
      "metadata": {
        "id": "REfA_uFJ-SJK",
        "colab": {
          "base_uri": "https://localhost:8080/"
        },
        "outputId": "403af09b-b6bf-446b-df52-93cac308ad5b"
      },
      "outputs": [
        {
          "output_type": "execute_result",
          "data": {
            "text/plain": [
              "0"
            ]
          },
          "metadata": {},
          "execution_count": 125
        }
      ],
      "source": [
        "df_checkin_yelp.duplicated().sum()"
      ]
    },
    {
      "cell_type": "markdown",
      "metadata": {
        "id": "TBu4WTUz-SJM"
      },
      "source": [
        "**Obtenemos Fecha y hora**"
      ]
    },
    {
      "cell_type": "code",
      "execution_count": null,
      "metadata": {
        "id": "fEdBT1C3-SJN"
      },
      "outputs": [],
      "source": [
        "desanidados = []\n",
        "\n",
        "for _, row in df_checkin_yelp.iterrows():\n",
        "    business_id = row['business_id']\n",
        "    dates = row['date'].split(', ')\n",
        "    for date in dates:\n",
        "        time, date = date.split(' ')\n",
        "        desanidados.append([business_id, time, date])\n",
        "\n",
        "df_desanidado = pd.DataFrame(desanidados, columns=['business_id', 'hour', 'fecha'])"
      ]
    },
    {
      "cell_type": "markdown",
      "metadata": {
        "id": "NTxwghMt-SJO"
      },
      "source": [
        "**Cargamos datos en tabla checking la cual se puede usar para una analisis alternativo**"
      ]
    },
    {
      "cell_type": "code",
      "execution_count": null,
      "metadata": {
        "id": "hfaL5x5d-SJQ"
      },
      "outputs": [],
      "source": [
        "df_desanidado.to_csv('checkin.csv', index=False)"
      ]
    },
    {
      "cell_type": "markdown",
      "metadata": {
        "id": "VTRpao3q-SJS"
      },
      "source": [
        "### **user.parquet**\n",
        "---"
      ]
    },
    {
      "cell_type": "markdown",
      "metadata": {
        "id": "4GswxuVM-SJT"
      },
      "source": [
        "**Extraccion de los datos(desde la fuente)**"
      ]
    },
    {
      "cell_type": "code",
      "source": [
        "df_y1=pd.read_parquet('/content/drive/MyDrive/P_F_H/user_y.parquet')\n",
        "df_y1.head(2)"
      ],
      "metadata": {
        "colab": {
          "base_uri": "https://localhost:8080/",
          "height": 211
        },
        "id": "kFaVfKSwRZXi",
        "outputId": "4aec73c1-d237-4083-a757-cb863107217d"
      },
      "execution_count": null,
      "outputs": [
        {
          "output_type": "execute_result",
          "data": {
            "text/plain": [
              "                  user_id  review_count        yelping_since  \\\n",
              "0  qVc8ODYU5SZjKXVBgXdI7w           585  2007-01-25 16:47:26   \n",
              "1  j14WgRoU_-2ZE1aw1dXrJg          4333  2009-01-25 04:35:42   \n",
              "\n",
              "                                               elite  average_stars  \n",
              "0                                               2007           3.91  \n",
              "1  2009,2010,2011,2012,2013,2014,2015,2016,2017,2...           3.74  "
            ],
            "text/html": [
              "\n",
              "\n",
              "  <div id=\"df-4e9b52b2-705c-4583-a7df-d4468ec9b784\">\n",
              "    <div class=\"colab-df-container\">\n",
              "      <div>\n",
              "<style scoped>\n",
              "    .dataframe tbody tr th:only-of-type {\n",
              "        vertical-align: middle;\n",
              "    }\n",
              "\n",
              "    .dataframe tbody tr th {\n",
              "        vertical-align: top;\n",
              "    }\n",
              "\n",
              "    .dataframe thead th {\n",
              "        text-align: right;\n",
              "    }\n",
              "</style>\n",
              "<table border=\"1\" class=\"dataframe\">\n",
              "  <thead>\n",
              "    <tr style=\"text-align: right;\">\n",
              "      <th></th>\n",
              "      <th>user_id</th>\n",
              "      <th>review_count</th>\n",
              "      <th>yelping_since</th>\n",
              "      <th>elite</th>\n",
              "      <th>average_stars</th>\n",
              "    </tr>\n",
              "  </thead>\n",
              "  <tbody>\n",
              "    <tr>\n",
              "      <th>0</th>\n",
              "      <td>qVc8ODYU5SZjKXVBgXdI7w</td>\n",
              "      <td>585</td>\n",
              "      <td>2007-01-25 16:47:26</td>\n",
              "      <td>2007</td>\n",
              "      <td>3.91</td>\n",
              "    </tr>\n",
              "    <tr>\n",
              "      <th>1</th>\n",
              "      <td>j14WgRoU_-2ZE1aw1dXrJg</td>\n",
              "      <td>4333</td>\n",
              "      <td>2009-01-25 04:35:42</td>\n",
              "      <td>2009,2010,2011,2012,2013,2014,2015,2016,2017,2...</td>\n",
              "      <td>3.74</td>\n",
              "    </tr>\n",
              "  </tbody>\n",
              "</table>\n",
              "</div>\n",
              "      <button class=\"colab-df-convert\" onclick=\"convertToInteractive('df-4e9b52b2-705c-4583-a7df-d4468ec9b784')\"\n",
              "              title=\"Convert this dataframe to an interactive table.\"\n",
              "              style=\"display:none;\">\n",
              "\n",
              "  <svg xmlns=\"http://www.w3.org/2000/svg\" height=\"24px\"viewBox=\"0 0 24 24\"\n",
              "       width=\"24px\">\n",
              "    <path d=\"M0 0h24v24H0V0z\" fill=\"none\"/>\n",
              "    <path d=\"M18.56 5.44l.94 2.06.94-2.06 2.06-.94-2.06-.94-.94-2.06-.94 2.06-2.06.94zm-11 1L8.5 8.5l.94-2.06 2.06-.94-2.06-.94L8.5 2.5l-.94 2.06-2.06.94zm10 10l.94 2.06.94-2.06 2.06-.94-2.06-.94-.94-2.06-.94 2.06-2.06.94z\"/><path d=\"M17.41 7.96l-1.37-1.37c-.4-.4-.92-.59-1.43-.59-.52 0-1.04.2-1.43.59L10.3 9.45l-7.72 7.72c-.78.78-.78 2.05 0 2.83L4 21.41c.39.39.9.59 1.41.59.51 0 1.02-.2 1.41-.59l7.78-7.78 2.81-2.81c.8-.78.8-2.07 0-2.86zM5.41 20L4 18.59l7.72-7.72 1.47 1.35L5.41 20z\"/>\n",
              "  </svg>\n",
              "      </button>\n",
              "\n",
              "\n",
              "\n",
              "    <div id=\"df-1da864e2-463b-4c03-86cb-d2e1f66b95b2\">\n",
              "      <button class=\"colab-df-quickchart\" onclick=\"quickchart('df-1da864e2-463b-4c03-86cb-d2e1f66b95b2')\"\n",
              "              title=\"Suggest charts.\"\n",
              "              style=\"display:none;\">\n",
              "\n",
              "<svg xmlns=\"http://www.w3.org/2000/svg\" height=\"24px\"viewBox=\"0 0 24 24\"\n",
              "     width=\"24px\">\n",
              "    <g>\n",
              "        <path d=\"M19 3H5c-1.1 0-2 .9-2 2v14c0 1.1.9 2 2 2h14c1.1 0 2-.9 2-2V5c0-1.1-.9-2-2-2zM9 17H7v-7h2v7zm4 0h-2V7h2v10zm4 0h-2v-4h2v4z\"/>\n",
              "    </g>\n",
              "</svg>\n",
              "      </button>\n",
              "    </div>\n",
              "\n",
              "<style>\n",
              "  .colab-df-quickchart {\n",
              "    background-color: #E8F0FE;\n",
              "    border: none;\n",
              "    border-radius: 50%;\n",
              "    cursor: pointer;\n",
              "    display: none;\n",
              "    fill: #1967D2;\n",
              "    height: 32px;\n",
              "    padding: 0 0 0 0;\n",
              "    width: 32px;\n",
              "  }\n",
              "\n",
              "  .colab-df-quickchart:hover {\n",
              "    background-color: #E2EBFA;\n",
              "    box-shadow: 0px 1px 2px rgba(60, 64, 67, 0.3), 0px 1px 3px 1px rgba(60, 64, 67, 0.15);\n",
              "    fill: #174EA6;\n",
              "  }\n",
              "\n",
              "  [theme=dark] .colab-df-quickchart {\n",
              "    background-color: #3B4455;\n",
              "    fill: #D2E3FC;\n",
              "  }\n",
              "\n",
              "  [theme=dark] .colab-df-quickchart:hover {\n",
              "    background-color: #434B5C;\n",
              "    box-shadow: 0px 1px 3px 1px rgba(0, 0, 0, 0.15);\n",
              "    filter: drop-shadow(0px 1px 2px rgba(0, 0, 0, 0.3));\n",
              "    fill: #FFFFFF;\n",
              "  }\n",
              "</style>\n",
              "\n",
              "    <script>\n",
              "      async function quickchart(key) {\n",
              "        const containerElement = document.querySelector('#' + key);\n",
              "        const charts = await google.colab.kernel.invokeFunction(\n",
              "            'suggestCharts', [key], {});\n",
              "      }\n",
              "    </script>\n",
              "\n",
              "      <script>\n",
              "\n",
              "function displayQuickchartButton(domScope) {\n",
              "  let quickchartButtonEl =\n",
              "    domScope.querySelector('#df-1da864e2-463b-4c03-86cb-d2e1f66b95b2 button.colab-df-quickchart');\n",
              "  quickchartButtonEl.style.display =\n",
              "    google.colab.kernel.accessAllowed ? 'block' : 'none';\n",
              "}\n",
              "\n",
              "        displayQuickchartButton(document);\n",
              "      </script>\n",
              "      <style>\n",
              "    .colab-df-container {\n",
              "      display:flex;\n",
              "      flex-wrap:wrap;\n",
              "      gap: 12px;\n",
              "    }\n",
              "\n",
              "    .colab-df-convert {\n",
              "      background-color: #E8F0FE;\n",
              "      border: none;\n",
              "      border-radius: 50%;\n",
              "      cursor: pointer;\n",
              "      display: none;\n",
              "      fill: #1967D2;\n",
              "      height: 32px;\n",
              "      padding: 0 0 0 0;\n",
              "      width: 32px;\n",
              "    }\n",
              "\n",
              "    .colab-df-convert:hover {\n",
              "      background-color: #E2EBFA;\n",
              "      box-shadow: 0px 1px 2px rgba(60, 64, 67, 0.3), 0px 1px 3px 1px rgba(60, 64, 67, 0.15);\n",
              "      fill: #174EA6;\n",
              "    }\n",
              "\n",
              "    [theme=dark] .colab-df-convert {\n",
              "      background-color: #3B4455;\n",
              "      fill: #D2E3FC;\n",
              "    }\n",
              "\n",
              "    [theme=dark] .colab-df-convert:hover {\n",
              "      background-color: #434B5C;\n",
              "      box-shadow: 0px 1px 3px 1px rgba(0, 0, 0, 0.15);\n",
              "      filter: drop-shadow(0px 1px 2px rgba(0, 0, 0, 0.3));\n",
              "      fill: #FFFFFF;\n",
              "    }\n",
              "  </style>\n",
              "\n",
              "      <script>\n",
              "        const buttonEl =\n",
              "          document.querySelector('#df-4e9b52b2-705c-4583-a7df-d4468ec9b784 button.colab-df-convert');\n",
              "        buttonEl.style.display =\n",
              "          google.colab.kernel.accessAllowed ? 'block' : 'none';\n",
              "\n",
              "        async function convertToInteractive(key) {\n",
              "          const element = document.querySelector('#df-4e9b52b2-705c-4583-a7df-d4468ec9b784');\n",
              "          const dataTable =\n",
              "            await google.colab.kernel.invokeFunction('convertToInteractive',\n",
              "                                                     [key], {});\n",
              "          if (!dataTable) return;\n",
              "\n",
              "          const docLinkHtml = 'Like what you see? Visit the ' +\n",
              "            '<a target=\"_blank\" href=https://colab.research.google.com/notebooks/data_table.ipynb>data table notebook</a>'\n",
              "            + ' to learn more about interactive tables.';\n",
              "          element.innerHTML = '';\n",
              "          dataTable['output_type'] = 'display_data';\n",
              "          await google.colab.output.renderOutput(dataTable, element);\n",
              "          const docLink = document.createElement('div');\n",
              "          docLink.innerHTML = docLinkHtml;\n",
              "          element.appendChild(docLink);\n",
              "        }\n",
              "      </script>\n",
              "    </div>\n",
              "  </div>\n"
            ]
          },
          "metadata": {},
          "execution_count": 5
        }
      ]
    },
    {
      "cell_type": "markdown",
      "source": [
        "**Transformacion de los datos**"
      ],
      "metadata": {
        "id": "Oj_yFDWa72Gt"
      }
    },
    {
      "cell_type": "markdown",
      "source": [
        "**Busqueda valores nulos**"
      ],
      "metadata": {
        "id": "mbxd-5L48in3"
      }
    },
    {
      "cell_type": "code",
      "source": [
        "df_y1.isnull().sum()"
      ],
      "metadata": {
        "id": "cjByAoPK8oei"
      },
      "execution_count": null,
      "outputs": []
    },
    {
      "cell_type": "markdown",
      "source": [
        "**Realizamos un filtro de los usuarios segun cantidad de reviews que realizaron  y si estas fueron consideradas utiles**"
      ],
      "metadata": {
        "id": "K6n9pL3j5FbX"
      }
    },
    {
      "cell_type": "code",
      "source": [
        "df_y1[(df_y1['review_count']>=10) & (df_y1['useful']>=10)]"
      ],
      "metadata": {
        "id": "df6YpuSo5DsJ"
      },
      "execution_count": null,
      "outputs": []
    },
    {
      "cell_type": "markdown",
      "metadata": {
        "id": "lIcC2y-s-SJY"
      },
      "source": [
        "**Eliminamos duplicados**"
      ]
    },
    {
      "cell_type": "code",
      "source": [
        "#Conteo de duplicados\n",
        "df_y1.duplicated().sum()"
      ],
      "metadata": {
        "id": "AQk9y-aj9QsB"
      },
      "execution_count": null,
      "outputs": []
    },
    {
      "cell_type": "code",
      "source": [
        "df_y1.drop_duplicates(inplace=True)"
      ],
      "metadata": {
        "id": "xFyxhNFX_ZuR"
      },
      "execution_count": null,
      "outputs": []
    },
    {
      "cell_type": "markdown",
      "source": [
        "**Eliminamos columnas que no se usaran**"
      ],
      "metadata": {
        "id": "i100jVwr7JFu"
      }
    },
    {
      "cell_type": "code",
      "source": [
        "df_y1.drop(['name','compliment_hot','compliment_more','compliment_profile','compliment_cute','compliment_list','compliment_note','compliment_plain','compliment_cool','compliment_funny','compliment_writer','compliment_photos'], axis=1,inplace=True)"
      ],
      "metadata": {
        "id": "wBV6NnrW7ZBQ"
      },
      "execution_count": null,
      "outputs": []
    },
    {
      "cell_type": "code",
      "source": [
        "df_y1.drop(['useful','funny','cool','fans','friends'], axis=1,inplace=True)"
      ],
      "metadata": {
        "id": "XxYOhnzJ7qt5"
      },
      "execution_count": null,
      "outputs": []
    },
    {
      "cell_type": "markdown",
      "metadata": {
        "id": "15JOrMeL-SKJ"
      },
      "source": [
        "**Aplicamos transformaciones a los tipos de datos**"
      ]
    },
    {
      "cell_type": "code",
      "execution_count": null,
      "metadata": {
        "id": "Ww76hScJ-SKL"
      },
      "outputs": [],
      "source": [
        "#cambiamos a tipo datetime la variable yelping_since\n",
        "df_y1['yelping_since'] = pd.to_datetime(df_y1['yelping_since'])\n",
        "\n",
        "#Creamos una columna año a partir de elite que devuelva una lista de años separado por comas\n",
        "df_y1['years'] = df_y1['elite'].str.split(',')"
      ]
    },
    {
      "cell_type": "code",
      "source": [
        "#reemplazamos valores vacios por np.nan en years\n",
        "df_y1['years'] = df_y1['years'].replace(\"\", np.nan)\n",
        "\n",
        "#reemplazamos 20 po 2020 en years\n",
        "df_y1['years'] = df_y1['years'].replace(\"20\", \"2020\")"
      ],
      "metadata": {
        "id": "Yqeq_EfoGqz_"
      },
      "execution_count": null,
      "outputs": []
    },
    {
      "cell_type": "markdown",
      "metadata": {
        "id": "7JxtBVHr-SKN"
      },
      "source": [
        "**Carga de datos resultante**"
      ]
    },
    {
      "cell_type": "code",
      "execution_count": null,
      "metadata": {
        "id": "_LDoTu9B-SKO"
      },
      "outputs": [],
      "source": [
        "\n",
        "# archivo con los usuario mas votados o reviews significativas\n",
        "df_y1.to_parquet('user_y.parquet', index=False, compression='gzip')"
      ]
    },
    {
      "cell_type": "markdown",
      "metadata": {
        "id": "ujY645jq-SKR"
      },
      "source": [
        "**Eliminamos las columnas elite y years del dataframe original user.parquet**"
      ]
    },
    {
      "cell_type": "code",
      "execution_count": null,
      "metadata": {
        "id": "VpzSdaOW-SKT"
      },
      "outputs": [],
      "source": [
        "df_User_yelp.drop(columns=['elite'], inplace=True)\n",
        "df_User_yelp.drop(columns=['years'], inplace=True)"
      ]
    },
    {
      "cell_type": "markdown",
      "metadata": {
        "id": "lyZbw4e5-SKU"
      },
      "source": [
        "###**business.pkl**\n",
        "---"
      ]
    },
    {
      "cell_type": "markdown",
      "metadata": {
        "id": "CU5QtxjM-SKU"
      },
      "source": [
        "**Carga de datos**"
      ]
    },
    {
      "cell_type": "code",
      "execution_count": null,
      "metadata": {
        "id": "Q37eQD16-SKW"
      },
      "outputs": [],
      "source": [
        "df_business= pd.read_pickle('/content/drive/MyDrive/P_F_H/business.pkl')"
      ]
    },
    {
      "cell_type": "markdown",
      "metadata": {
        "id": "5PWvGuH1-SKX"
      },
      "source": [
        "**Se agregan nuevas columnas al dataframe**"
      ]
    },
    {
      "cell_type": "code",
      "execution_count": null,
      "metadata": {
        "id": "-51kF0mz-SKZ"
      },
      "outputs": [],
      "source": [
        "df_business['NAME']=None\n",
        "df_business['REVIEW_COUNT']=None\n",
        "df_business['POSTAL_CODE']=None\n",
        "df_business['CITY']=None\n",
        "df_business['STATE']=None\n",
        "df_business['BUSINESS_ID']=None\n",
        "df_business['ADDRESS']=None\n",
        "df_business['LATITUDE']=None\n",
        "df_business['LONGITUDE']=None\n",
        "df_business['STARS']=None\n",
        "df_business['IS_OPEN']=None\n",
        "df_business['ATTRIBUTES']=None\n",
        "df_business['CATEGORIES']=None\n",
        "df_business['HOURS']=None"
      ]
    },
    {
      "cell_type": "code",
      "source": [
        "df_business.info()"
      ],
      "metadata": {
        "colab": {
          "base_uri": "https://localhost:8080/"
        },
        "id": "Uz6TnKapNpDX",
        "outputId": "8b0a5b00-4281-4465-e3de-10d1688cbafb"
      },
      "execution_count": null,
      "outputs": [
        {
          "output_type": "stream",
          "name": "stdout",
          "text": [
            "<class 'pandas.core.frame.DataFrame'>\n",
            "Int64Index: 150346 entries, 0 to 150345\n",
            "Data columns (total 42 columns):\n",
            " #   Column        Non-Null Count   Dtype \n",
            "---  ------        --------------   ----- \n",
            " 0   business_id   150346 non-null  object\n",
            " 1   name          150346 non-null  object\n",
            " 2   address       150346 non-null  object\n",
            " 3   city          150346 non-null  object\n",
            " 4   state         150343 non-null  object\n",
            " 5   postal_code   150346 non-null  object\n",
            " 6   latitude      150346 non-null  object\n",
            " 7   longitude     150346 non-null  object\n",
            " 8   stars         150346 non-null  object\n",
            " 9   review_count  150346 non-null  object\n",
            " 10  is_open       150346 non-null  object\n",
            " 11  attributes    136602 non-null  object\n",
            " 12  categories    150243 non-null  object\n",
            " 13  hours         127123 non-null  object\n",
            " 14  business_id   5 non-null       object\n",
            " 15  name          5 non-null       object\n",
            " 16  address       5 non-null       object\n",
            " 17  city          5 non-null       object\n",
            " 18  state         5 non-null       object\n",
            " 19  postal_code   5 non-null       object\n",
            " 20  latitude      5 non-null       object\n",
            " 21  longitude     5 non-null       object\n",
            " 22  stars         5 non-null       object\n",
            " 23  review_count  5 non-null       object\n",
            " 24  is_open       5 non-null       object\n",
            " 25  attributes    5 non-null       object\n",
            " 26  categories    5 non-null       object\n",
            " 27  hours         5 non-null       object\n",
            " 28  NAME          0 non-null       object\n",
            " 29  REVIEW_COUNT  0 non-null       object\n",
            " 30  POSTAL_CODE   0 non-null       object\n",
            " 31  CITY          0 non-null       object\n",
            " 32  STATE         0 non-null       object\n",
            " 33  BUSINESS_ID   0 non-null       object\n",
            " 34  ADDRESS       0 non-null       object\n",
            " 35  LATITUDE      0 non-null       object\n",
            " 36  LONGITUDE     0 non-null       object\n",
            " 37  STARS         0 non-null       object\n",
            " 38  IS_OPEN       0 non-null       object\n",
            " 39  ATTRIBUTES    0 non-null       object\n",
            " 40  CATEGORIES    0 non-null       object\n",
            " 41  HOURS         0 non-null       object\n",
            "dtypes: object(42)\n",
            "memory usage: 49.3+ MB\n"
          ]
        }
      ]
    },
    {
      "cell_type": "markdown",
      "metadata": {
        "id": "_72B896--SKb"
      },
      "source": [
        "**Creamos la columna \"NAME\" del DataFrame df_business extrayendo los datos y agregando .**\n",
        "\n"
      ]
    },
    {
      "cell_type": "code",
      "execution_count": null,
      "metadata": {
        "id": "WDsOCy6J-SKc"
      },
      "outputs": [],
      "source": [
        "for index,i in enumerate(df_business.name.values):\n",
        "    arr=[]\n",
        "    for e in i:\n",
        "        if isinstance(e,str):\n",
        "         arr.append(e)\n",
        "    df_business['NAME'][index]=''.join(arr)"
      ]
    },
    {
      "cell_type": "code",
      "source": [
        "df_business.NAME"
      ],
      "metadata": {
        "colab": {
          "base_uri": "https://localhost:8080/"
        },
        "id": "bxDtTp3aN48a",
        "outputId": "3b42f65d-d308-4dbc-938f-5e71fc474a11"
      },
      "execution_count": null,
      "outputs": [
        {
          "output_type": "execute_result",
          "data": {
            "text/plain": [
              "0         Abby Rappoport, LAC, CMQ\n",
              "1                    The UPS Store\n",
              "2                           Target\n",
              "3               St Honore Pastries\n",
              "4         Perkiomen Valley Brewery\n",
              "                    ...           \n",
              "150341                Binh's Nails\n",
              "150342        Wild Birds Unlimited\n",
              "150343           Claire's Boutique\n",
              "150344    Cyclery & Fitness Center\n",
              "150345                     Sic Ink\n",
              "Name: NAME, Length: 150346, dtype: object"
            ]
          },
          "metadata": {},
          "execution_count": 10
        }
      ]
    },
    {
      "cell_type": "markdown",
      "metadata": {
        "id": "IcCq7yR0-SKz"
      },
      "source": [
        "**Creamos la columna 'CITY' del DataFrame df_business extrayendo los datos y agregando .**"
      ]
    },
    {
      "cell_type": "code",
      "execution_count": null,
      "metadata": {
        "id": "9z1aPQ4E-SK0"
      },
      "outputs": [],
      "source": [
        "for index,i in enumerate(df_business.city.values):\n",
        "    arr=[]\n",
        "    for e in i:\n",
        "        if isinstance(e,str):\n",
        "         arr.append(e)\n",
        "    df_business['CITY'][index]=''.join(arr)"
      ]
    },
    {
      "cell_type": "markdown",
      "metadata": {
        "id": "ew2PpOZS-SK2"
      },
      "source": [
        "**Creamos la columna 'STATE' del DataFrame df_business extrayendo los datos y agregando .**\n"
      ]
    },
    {
      "cell_type": "code",
      "execution_count": null,
      "metadata": {
        "id": "y8UT6x55-SK3"
      },
      "outputs": [],
      "source": [
        "for index,i in enumerate(df_business.state.values):\n",
        "    arr=[]\n",
        "    for e in i:\n",
        "        if isinstance(e,str):\n",
        "         arr.append(e)\n",
        "    df_business['STATE'][index]=''.join(arr)"
      ]
    },
    {
      "cell_type": "markdown",
      "metadata": {
        "id": "pgCq2X3L-SK6"
      },
      "source": [
        "**Creamos la columna 'REVIEW_COUNT' del DataFrame df_business extrayendo los datos y agregando .**"
      ]
    },
    {
      "cell_type": "code",
      "execution_count": null,
      "metadata": {
        "id": "a0hGv3NY-SK7"
      },
      "outputs": [],
      "source": [
        "for index,i in enumerate(df_business.review_count.values):\n",
        "    arr=[]\n",
        "    for e in i:\n",
        "        if isinstance(e,int):\n",
        "         arr.append(e)\n",
        "    df_business['REVIEW_COUNT'][index]=arr[0]"
      ]
    },
    {
      "cell_type": "markdown",
      "metadata": {
        "id": "cdx4xiDv-SLF"
      },
      "source": [
        "**Creamos la columna 'BUSINESS_ID' del DataFrame df_business extrayendo los datos y agregando .**"
      ]
    },
    {
      "cell_type": "code",
      "execution_count": null,
      "metadata": {
        "id": "Lm5V7fVK-SLL"
      },
      "outputs": [],
      "source": [
        "for index,i in enumerate(df_business.business_id.values):\n",
        "    arr=[]\n",
        "    for e in i:\n",
        "        if isinstance(e,str):\n",
        "         arr.append(e)\n",
        "    df_business['BUSINESS_ID'][index]=''.join(arr)\n"
      ]
    },
    {
      "cell_type": "markdown",
      "metadata": {
        "id": "XsjRNc2C-SLN"
      },
      "source": [
        "**Creamos la columna 'ADDRESS' del DataFrame df_business extrayendo los datos y agregando .**\n",
        "\n"
      ]
    },
    {
      "cell_type": "code",
      "execution_count": null,
      "metadata": {
        "id": "MOxWYvlV-SLQ"
      },
      "outputs": [],
      "source": [
        "for index,i in enumerate(df_business.address.values):\n",
        "    arr=[]\n",
        "    for e in i:\n",
        "        if isinstance(e,str):\n",
        "         arr.append(e)\n",
        "    df_business['ADDRESS'][index]=''.join(arr)"
      ]
    },
    {
      "cell_type": "markdown",
      "metadata": {
        "id": "LeVCvESx-SLR"
      },
      "source": [
        "**Creamos la columna 'POSTAL_CODE' del DataFrame df_business extrayendo los datos y agregando .**"
      ]
    },
    {
      "cell_type": "code",
      "execution_count": null,
      "metadata": {
        "id": "itp5D3Vs-SLT"
      },
      "outputs": [],
      "source": [
        "for index,i in enumerate(df_business.postal_code.values):\n",
        "    arr=[]\n",
        "    for e in i:\n",
        "        if isinstance(e,str):\n",
        "         arr.append(e)\n",
        "    df_business['POSTAL_CODE'][index]=''.join(arr)"
      ]
    },
    {
      "cell_type": "markdown",
      "metadata": {
        "id": "ErLI81lD-SLU"
      },
      "source": [
        "**Creamos la columna 'LATITUDE' del DataFrame df_business extrayendo los datos y agregando .**"
      ]
    },
    {
      "cell_type": "code",
      "execution_count": null,
      "metadata": {
        "id": "yDhOp5uE-SLW"
      },
      "outputs": [],
      "source": [
        "for index,i in enumerate(df_business.latitude.values):\n",
        "    arr=[]\n",
        "    for e in i:\n",
        "       if e>1:\n",
        "         arr.append(e)\n",
        "    df_business['LATITUDE'][index]=arr[0]"
      ]
    },
    {
      "cell_type": "markdown",
      "metadata": {
        "id": "LK6fWdSU-SLY"
      },
      "source": [
        "**Creamos la columna 'LONGITUDE' del DataFrame df_business extrayendo los datos y agregando .**"
      ]
    },
    {
      "cell_type": "code",
      "execution_count": null,
      "metadata": {
        "id": "zb8rsSgv-SLZ"
      },
      "outputs": [],
      "source": [
        "for index,i in enumerate(df_business.longitude.values):\n",
        "    arr=[]\n",
        "    for e in i:\n",
        "        if e<-1:\n",
        "            arr.append(e)\n",
        "    df_business['LONGITUDE'][index]=arr[0]"
      ]
    },
    {
      "cell_type": "markdown",
      "metadata": {
        "id": "dlsGJrqU-SLb"
      },
      "source": [
        "**Creamos la columna 'STARS' del DataFrame df_business extrayendo los datos y agregando .**"
      ]
    },
    {
      "cell_type": "code",
      "execution_count": null,
      "metadata": {
        "id": "GpX7cUxY-SLc"
      },
      "outputs": [],
      "source": [
        "for index,i in enumerate(df_business.stars.values):\n",
        "    arr=[]\n",
        "    for e in i:\n",
        "       if e>0.1:\n",
        "         arr.append(e)\n",
        "    df_business['STARS'][index]=arr[0]"
      ]
    },
    {
      "cell_type": "markdown",
      "metadata": {
        "id": "DVK1SLvC-SLf"
      },
      "source": [
        "**Creamos la columna 'IS_OPEN' del DataFrame df_business extrayendo los datos y agregando .**"
      ]
    },
    {
      "cell_type": "code",
      "execution_count": null,
      "metadata": {
        "id": "EhAwUOkt-SLg"
      },
      "outputs": [],
      "source": [
        "for index,i in enumerate(df_business.is_open.values):\n",
        "    arr=[]\n",
        "    for e in i:\n",
        "       if e >=0:\n",
        "         arr.append(e)\n",
        "    df_business['IS_OPEN'][index]=arr[0]"
      ]
    },
    {
      "cell_type": "markdown",
      "metadata": {
        "id": "8DefPjMn-SLi"
      },
      "source": [
        "**Creamos la columna 'ATRIBUTES' del DataFrame df_business extrayendo los datos y agregando .**"
      ]
    },
    {
      "cell_type": "code",
      "execution_count": null,
      "metadata": {
        "id": "7496wQKo-SLl"
      },
      "outputs": [],
      "source": [
        "for index,i in enumerate(df_business.attributes.values):\n",
        "    arr=[]\n",
        "    for e in i:\n",
        "        if isinstance(e,dict):\n",
        "         arr.append(e)\n",
        "    if len(arr)>0:\n",
        "     df_business['ATTRIBUTES'][index]=arr[0]"
      ]
    },
    {
      "cell_type": "markdown",
      "metadata": {
        "id": "-BUhNA7r-SNF"
      },
      "source": [
        "**Creamos la columna 'CATEGORIES' del DataFrame df_business extrayendo los datos y agregando .**"
      ]
    },
    {
      "cell_type": "code",
      "execution_count": null,
      "metadata": {
        "id": "jiH-d3MX-SNH"
      },
      "outputs": [],
      "source": [
        "# AGREGA LAS CADENAS OBTENIDAS DE CATEGORIES EN UNA\n",
        "for index,i in enumerate(df_business.categories.values):\n",
        "    arr=[]\n",
        "    for e in i:\n",
        "        if isinstance(e,str):\n",
        "         arr.append(e)\n",
        "    df_business['CATEGORIES'][index]=''.join(arr)"
      ]
    },
    {
      "cell_type": "markdown",
      "metadata": {
        "id": "fKUcmHjw-SNI"
      },
      "source": [
        "**Creamos la columna 'HOURS' del DataFrame df_business extrayendo los datos y agregando .**"
      ]
    },
    {
      "cell_type": "code",
      "execution_count": null,
      "metadata": {
        "id": "27X1Wqd8-SNJ"
      },
      "outputs": [],
      "source": [
        "for index,i in enumerate(df_business.hours.values):\n",
        "    arr=[]\n",
        "    for e in i:\n",
        "        if isinstance(e,dict):\n",
        "         arr.append(e)\n",
        "    if len(arr)>0:\n",
        "     df_business['HOURS'][index]=arr[0]"
      ]
    },
    {
      "cell_type": "code",
      "source": [
        "df_business.info()"
      ],
      "metadata": {
        "colab": {
          "base_uri": "https://localhost:8080/"
        },
        "id": "IMg-ZwSSSAQ-",
        "outputId": "5afe649f-fb5c-4fe2-cd3c-9137d34cea43"
      },
      "execution_count": null,
      "outputs": [
        {
          "output_type": "stream",
          "name": "stdout",
          "text": [
            "<class 'pandas.core.frame.DataFrame'>\n",
            "Int64Index: 150346 entries, 0 to 150345\n",
            "Data columns (total 42 columns):\n",
            " #   Column        Non-Null Count   Dtype \n",
            "---  ------        --------------   ----- \n",
            " 0   business_id   150346 non-null  object\n",
            " 1   name          150346 non-null  object\n",
            " 2   address       150346 non-null  object\n",
            " 3   city          150346 non-null  object\n",
            " 4   state         150343 non-null  object\n",
            " 5   postal_code   150346 non-null  object\n",
            " 6   latitude      150346 non-null  object\n",
            " 7   longitude     150346 non-null  object\n",
            " 8   stars         150346 non-null  object\n",
            " 9   review_count  150346 non-null  object\n",
            " 10  is_open       150346 non-null  object\n",
            " 11  attributes    136602 non-null  object\n",
            " 12  categories    150243 non-null  object\n",
            " 13  hours         127123 non-null  object\n",
            " 14  business_id   5 non-null       object\n",
            " 15  name          5 non-null       object\n",
            " 16  address       5 non-null       object\n",
            " 17  city          5 non-null       object\n",
            " 18  state         5 non-null       object\n",
            " 19  postal_code   5 non-null       object\n",
            " 20  latitude      5 non-null       object\n",
            " 21  longitude     5 non-null       object\n",
            " 22  stars         5 non-null       object\n",
            " 23  review_count  5 non-null       object\n",
            " 24  is_open       5 non-null       object\n",
            " 25  attributes    5 non-null       object\n",
            " 26  categories    5 non-null       object\n",
            " 27  hours         5 non-null       object\n",
            " 28  NAME          150346 non-null  object\n",
            " 29  REVIEW_COUNT  150346 non-null  object\n",
            " 30  POSTAL_CODE   150346 non-null  object\n",
            " 31  CITY          150346 non-null  object\n",
            " 32  STATE         150346 non-null  object\n",
            " 33  BUSINESS_ID   150346 non-null  object\n",
            " 34  ADDRESS       150346 non-null  object\n",
            " 35  LATITUDE      150346 non-null  object\n",
            " 36  LONGITUDE     150346 non-null  object\n",
            " 37  STARS         150346 non-null  object\n",
            " 38  IS_OPEN       150346 non-null  object\n",
            " 39  ATTRIBUTES    136602 non-null  object\n",
            " 40  CATEGORIES    150346 non-null  object\n",
            " 41  HOURS         127123 non-null  object\n",
            "dtypes: object(42)\n",
            "memory usage: 53.4+ MB\n"
          ]
        }
      ]
    },
    {
      "cell_type": "markdown",
      "metadata": {
        "id": "Fm8nuMpX-SNL"
      },
      "source": [
        "**Asigno al dataframe  solo a las columnas nuevas**"
      ]
    },
    {
      "cell_type": "code",
      "execution_count": null,
      "metadata": {
        "id": "l5bM__ap-SNM"
      },
      "outputs": [],
      "source": [
        "df_business=df_business[['BUSINESS_ID','NAME','REVIEW_COUNT','CITY','STATE','ADDRESS','POSTAL_CODE','LATITUDE','LONGITUDE','STARS','IS_OPEN','ATTRIBUTES','CATEGORIES','HOURS']]"
      ]
    },
    {
      "cell_type": "code",
      "source": [
        "df_business.info()"
      ],
      "metadata": {
        "colab": {
          "base_uri": "https://localhost:8080/"
        },
        "id": "z8xHPIORTCRQ",
        "outputId": "a29d35bc-4307-4244-b6cc-cf9dacf20780"
      },
      "execution_count": null,
      "outputs": [
        {
          "output_type": "stream",
          "name": "stdout",
          "text": [
            "<class 'pandas.core.frame.DataFrame'>\n",
            "Int64Index: 150346 entries, 0 to 150345\n",
            "Data columns (total 14 columns):\n",
            " #   Column        Non-Null Count   Dtype \n",
            "---  ------        --------------   ----- \n",
            " 0   BUSINESS_ID   150346 non-null  object\n",
            " 1   NAME          150346 non-null  object\n",
            " 2   REVIEW_COUNT  150346 non-null  object\n",
            " 3   CITY          150346 non-null  object\n",
            " 4   STATE         150346 non-null  object\n",
            " 5   ADDRESS       150346 non-null  object\n",
            " 6   POSTAL_CODE   150346 non-null  object\n",
            " 7   LATITUDE      150346 non-null  object\n",
            " 8   LONGITUDE     150346 non-null  object\n",
            " 9   STARS         150346 non-null  object\n",
            " 10  IS_OPEN       150346 non-null  object\n",
            " 11  ATTRIBUTES    136602 non-null  object\n",
            " 12  CATEGORIES    150346 non-null  object\n",
            " 13  HOURS         127123 non-null  object\n",
            "dtypes: object(14)\n",
            "memory usage: 21.2+ MB\n"
          ]
        }
      ]
    },
    {
      "cell_type": "code",
      "source": [
        "df_business.info()"
      ],
      "metadata": {
        "colab": {
          "base_uri": "https://localhost:8080/"
        },
        "id": "k01e8W81Tmk0",
        "outputId": "7e2f6305-99be-42ad-ccf2-2850ed05b554"
      },
      "execution_count": null,
      "outputs": [
        {
          "output_type": "stream",
          "name": "stdout",
          "text": [
            "<class 'pandas.core.frame.DataFrame'>\n",
            "Int64Index: 150346 entries, 0 to 150345\n",
            "Data columns (total 14 columns):\n",
            " #   Column        Non-Null Count   Dtype \n",
            "---  ------        --------------   ----- \n",
            " 0   BUSINESS_ID   150346 non-null  object\n",
            " 1   NAME          150346 non-null  object\n",
            " 2   REVIEW_COUNT  150346 non-null  object\n",
            " 3   CITY          150346 non-null  object\n",
            " 4   STATE         150346 non-null  object\n",
            " 5   ADDRESS       150346 non-null  object\n",
            " 6   POSTAL_CODE   150346 non-null  object\n",
            " 7   LATITUDE      150346 non-null  object\n",
            " 8   LONGITUDE     150346 non-null  object\n",
            " 9   STARS         150346 non-null  object\n",
            " 10  IS_OPEN       150346 non-null  object\n",
            " 11  ATTRIBUTES    136602 non-null  object\n",
            " 12  CATEGORIES    150346 non-null  object\n",
            " 13  HOURS         127123 non-null  object\n",
            "dtypes: object(14)\n",
            "memory usage: 21.2+ MB\n"
          ]
        }
      ]
    },
    {
      "cell_type": "code",
      "source": [
        "df_business=df_business.rename(columns={'BUSINESS_ID':'business_id'})\n",
        "df_business=df_business.rename(columns={'NAME':'name'})\n",
        "df_business=df_business.rename(columns={'REVIEW_COUNT':'review_count'})\n",
        "df_business=df_business.rename(columns={'CITY':'city'})\n",
        "df_business=df_business.rename(columns={'STATE':'state'})\n",
        "df_business=df_business.rename(columns={'ADDRESS':'address'})\n",
        "df_business=df_business.rename(columns={'POSTAL_CODE':'postal_code'})\n",
        "df_business=df_business.rename(columns={'LATITUDE':'lalitude'})\n",
        "df_business=df_business.rename(columns={'LONGITUDE':'longitude'})\n",
        "df_business=df_business.rename(columns={'STARS':'stars'})\n",
        "df_business=df_business.rename(columns={'IS_OPEN':'is_open'})\n",
        "df_business=df_business.rename(columns={'ATTRIBUTES':'attributes'})\n",
        "df_business=df_business.rename(columns={'CATEGORIES':'categories'})\n",
        "df_business=df_business.rename(columns={'HOURS':'hours'})"
      ],
      "metadata": {
        "id": "QsOBWkhHTa-G"
      },
      "execution_count": null,
      "outputs": []
    },
    {
      "cell_type": "code",
      "source": [
        "df_business.head(3)"
      ],
      "metadata": {
        "colab": {
          "base_uri": "https://localhost:8080/",
          "height": 450
        },
        "id": "YGeHgGH4WWJy",
        "outputId": "671ec807-c650-4e34-fe75-10ca57d820ea"
      },
      "execution_count": null,
      "outputs": [
        {
          "output_type": "execute_result",
          "data": {
            "text/plain": [
              "              business_id                      name review_count  \\\n",
              "0  Pns2l4eNsfO8kk83dixA6A  Abby Rappoport, LAC, CMQ            7   \n",
              "1  mpf3x-BjTdTEA3yCZrAYPw             The UPS Store           15   \n",
              "2  tUFrWirKiKi_TAnsVWINQQ                    Target           22   \n",
              "\n",
              "            city state                          address postal_code  \\\n",
              "0  Santa Barbara                 1616 Chapala St, Ste 2       93101   \n",
              "1         Affton        87 Grasso Plaza Shopping Center       63123   \n",
              "2         Tucson                   5255 E Broadway Blvd       85711   \n",
              "\n",
              "    lalitude   longitude stars is_open  \\\n",
              "0  34.426679 -119.711197   5.0       0   \n",
              "1  38.551126  -90.335695   3.0       1   \n",
              "2  32.223236 -110.880452   3.5       0   \n",
              "\n",
              "                                          attributes  \\\n",
              "0                      {'ByAppointmentOnly': 'True'}   \n",
              "1             {'BusinessAcceptsCreditCards': 'True'}   \n",
              "2  {'BikeParking': 'True', 'BusinessAcceptsCredit...   \n",
              "\n",
              "                                          categories  \\\n",
              "0  Doctors, Traditional Chinese Medicine, Naturop...   \n",
              "1  Shipping Centers, Local Services, Notaries, Ma...   \n",
              "2  Department Stores, Shopping, Fashion, Home & G...   \n",
              "\n",
              "                                               hours  \n",
              "0                                               None  \n",
              "1  {'Monday': '0:0-0:0', 'Tuesday': '8:0-18:30', ...  \n",
              "2  {'Monday': '8:0-22:0', 'Tuesday': '8:0-22:0', ...  "
            ],
            "text/html": [
              "\n",
              "\n",
              "  <div id=\"df-ced8d3b4-cb68-402f-a740-5f0d17b88b6d\">\n",
              "    <div class=\"colab-df-container\">\n",
              "      <div>\n",
              "<style scoped>\n",
              "    .dataframe tbody tr th:only-of-type {\n",
              "        vertical-align: middle;\n",
              "    }\n",
              "\n",
              "    .dataframe tbody tr th {\n",
              "        vertical-align: top;\n",
              "    }\n",
              "\n",
              "    .dataframe thead th {\n",
              "        text-align: right;\n",
              "    }\n",
              "</style>\n",
              "<table border=\"1\" class=\"dataframe\">\n",
              "  <thead>\n",
              "    <tr style=\"text-align: right;\">\n",
              "      <th></th>\n",
              "      <th>business_id</th>\n",
              "      <th>name</th>\n",
              "      <th>review_count</th>\n",
              "      <th>city</th>\n",
              "      <th>state</th>\n",
              "      <th>address</th>\n",
              "      <th>postal_code</th>\n",
              "      <th>lalitude</th>\n",
              "      <th>longitude</th>\n",
              "      <th>stars</th>\n",
              "      <th>is_open</th>\n",
              "      <th>attributes</th>\n",
              "      <th>categories</th>\n",
              "      <th>hours</th>\n",
              "    </tr>\n",
              "  </thead>\n",
              "  <tbody>\n",
              "    <tr>\n",
              "      <th>0</th>\n",
              "      <td>Pns2l4eNsfO8kk83dixA6A</td>\n",
              "      <td>Abby Rappoport, LAC, CMQ</td>\n",
              "      <td>7</td>\n",
              "      <td>Santa Barbara</td>\n",
              "      <td></td>\n",
              "      <td>1616 Chapala St, Ste 2</td>\n",
              "      <td>93101</td>\n",
              "      <td>34.426679</td>\n",
              "      <td>-119.711197</td>\n",
              "      <td>5.0</td>\n",
              "      <td>0</td>\n",
              "      <td>{'ByAppointmentOnly': 'True'}</td>\n",
              "      <td>Doctors, Traditional Chinese Medicine, Naturop...</td>\n",
              "      <td>None</td>\n",
              "    </tr>\n",
              "    <tr>\n",
              "      <th>1</th>\n",
              "      <td>mpf3x-BjTdTEA3yCZrAYPw</td>\n",
              "      <td>The UPS Store</td>\n",
              "      <td>15</td>\n",
              "      <td>Affton</td>\n",
              "      <td></td>\n",
              "      <td>87 Grasso Plaza Shopping Center</td>\n",
              "      <td>63123</td>\n",
              "      <td>38.551126</td>\n",
              "      <td>-90.335695</td>\n",
              "      <td>3.0</td>\n",
              "      <td>1</td>\n",
              "      <td>{'BusinessAcceptsCreditCards': 'True'}</td>\n",
              "      <td>Shipping Centers, Local Services, Notaries, Ma...</td>\n",
              "      <td>{'Monday': '0:0-0:0', 'Tuesday': '8:0-18:30', ...</td>\n",
              "    </tr>\n",
              "    <tr>\n",
              "      <th>2</th>\n",
              "      <td>tUFrWirKiKi_TAnsVWINQQ</td>\n",
              "      <td>Target</td>\n",
              "      <td>22</td>\n",
              "      <td>Tucson</td>\n",
              "      <td></td>\n",
              "      <td>5255 E Broadway Blvd</td>\n",
              "      <td>85711</td>\n",
              "      <td>32.223236</td>\n",
              "      <td>-110.880452</td>\n",
              "      <td>3.5</td>\n",
              "      <td>0</td>\n",
              "      <td>{'BikeParking': 'True', 'BusinessAcceptsCredit...</td>\n",
              "      <td>Department Stores, Shopping, Fashion, Home &amp; G...</td>\n",
              "      <td>{'Monday': '8:0-22:0', 'Tuesday': '8:0-22:0', ...</td>\n",
              "    </tr>\n",
              "  </tbody>\n",
              "</table>\n",
              "</div>\n",
              "      <button class=\"colab-df-convert\" onclick=\"convertToInteractive('df-ced8d3b4-cb68-402f-a740-5f0d17b88b6d')\"\n",
              "              title=\"Convert this dataframe to an interactive table.\"\n",
              "              style=\"display:none;\">\n",
              "\n",
              "  <svg xmlns=\"http://www.w3.org/2000/svg\" height=\"24px\"viewBox=\"0 0 24 24\"\n",
              "       width=\"24px\">\n",
              "    <path d=\"M0 0h24v24H0V0z\" fill=\"none\"/>\n",
              "    <path d=\"M18.56 5.44l.94 2.06.94-2.06 2.06-.94-2.06-.94-.94-2.06-.94 2.06-2.06.94zm-11 1L8.5 8.5l.94-2.06 2.06-.94-2.06-.94L8.5 2.5l-.94 2.06-2.06.94zm10 10l.94 2.06.94-2.06 2.06-.94-2.06-.94-.94-2.06-.94 2.06-2.06.94z\"/><path d=\"M17.41 7.96l-1.37-1.37c-.4-.4-.92-.59-1.43-.59-.52 0-1.04.2-1.43.59L10.3 9.45l-7.72 7.72c-.78.78-.78 2.05 0 2.83L4 21.41c.39.39.9.59 1.41.59.51 0 1.02-.2 1.41-.59l7.78-7.78 2.81-2.81c.8-.78.8-2.07 0-2.86zM5.41 20L4 18.59l7.72-7.72 1.47 1.35L5.41 20z\"/>\n",
              "  </svg>\n",
              "      </button>\n",
              "\n",
              "\n",
              "\n",
              "    <div id=\"df-fb5c406c-5400-428d-8d45-7ce0302ff638\">\n",
              "      <button class=\"colab-df-quickchart\" onclick=\"quickchart('df-fb5c406c-5400-428d-8d45-7ce0302ff638')\"\n",
              "              title=\"Suggest charts.\"\n",
              "              style=\"display:none;\">\n",
              "\n",
              "<svg xmlns=\"http://www.w3.org/2000/svg\" height=\"24px\"viewBox=\"0 0 24 24\"\n",
              "     width=\"24px\">\n",
              "    <g>\n",
              "        <path d=\"M19 3H5c-1.1 0-2 .9-2 2v14c0 1.1.9 2 2 2h14c1.1 0 2-.9 2-2V5c0-1.1-.9-2-2-2zM9 17H7v-7h2v7zm4 0h-2V7h2v10zm4 0h-2v-4h2v4z\"/>\n",
              "    </g>\n",
              "</svg>\n",
              "      </button>\n",
              "    </div>\n",
              "\n",
              "<style>\n",
              "  .colab-df-quickchart {\n",
              "    background-color: #E8F0FE;\n",
              "    border: none;\n",
              "    border-radius: 50%;\n",
              "    cursor: pointer;\n",
              "    display: none;\n",
              "    fill: #1967D2;\n",
              "    height: 32px;\n",
              "    padding: 0 0 0 0;\n",
              "    width: 32px;\n",
              "  }\n",
              "\n",
              "  .colab-df-quickchart:hover {\n",
              "    background-color: #E2EBFA;\n",
              "    box-shadow: 0px 1px 2px rgba(60, 64, 67, 0.3), 0px 1px 3px 1px rgba(60, 64, 67, 0.15);\n",
              "    fill: #174EA6;\n",
              "  }\n",
              "\n",
              "  [theme=dark] .colab-df-quickchart {\n",
              "    background-color: #3B4455;\n",
              "    fill: #D2E3FC;\n",
              "  }\n",
              "\n",
              "  [theme=dark] .colab-df-quickchart:hover {\n",
              "    background-color: #434B5C;\n",
              "    box-shadow: 0px 1px 3px 1px rgba(0, 0, 0, 0.15);\n",
              "    filter: drop-shadow(0px 1px 2px rgba(0, 0, 0, 0.3));\n",
              "    fill: #FFFFFF;\n",
              "  }\n",
              "</style>\n",
              "\n",
              "    <script>\n",
              "      async function quickchart(key) {\n",
              "        const containerElement = document.querySelector('#' + key);\n",
              "        const charts = await google.colab.kernel.invokeFunction(\n",
              "            'suggestCharts', [key], {});\n",
              "      }\n",
              "    </script>\n",
              "\n",
              "      <script>\n",
              "\n",
              "function displayQuickchartButton(domScope) {\n",
              "  let quickchartButtonEl =\n",
              "    domScope.querySelector('#df-fb5c406c-5400-428d-8d45-7ce0302ff638 button.colab-df-quickchart');\n",
              "  quickchartButtonEl.style.display =\n",
              "    google.colab.kernel.accessAllowed ? 'block' : 'none';\n",
              "}\n",
              "\n",
              "        displayQuickchartButton(document);\n",
              "      </script>\n",
              "      <style>\n",
              "    .colab-df-container {\n",
              "      display:flex;\n",
              "      flex-wrap:wrap;\n",
              "      gap: 12px;\n",
              "    }\n",
              "\n",
              "    .colab-df-convert {\n",
              "      background-color: #E8F0FE;\n",
              "      border: none;\n",
              "      border-radius: 50%;\n",
              "      cursor: pointer;\n",
              "      display: none;\n",
              "      fill: #1967D2;\n",
              "      height: 32px;\n",
              "      padding: 0 0 0 0;\n",
              "      width: 32px;\n",
              "    }\n",
              "\n",
              "    .colab-df-convert:hover {\n",
              "      background-color: #E2EBFA;\n",
              "      box-shadow: 0px 1px 2px rgba(60, 64, 67, 0.3), 0px 1px 3px 1px rgba(60, 64, 67, 0.15);\n",
              "      fill: #174EA6;\n",
              "    }\n",
              "\n",
              "    [theme=dark] .colab-df-convert {\n",
              "      background-color: #3B4455;\n",
              "      fill: #D2E3FC;\n",
              "    }\n",
              "\n",
              "    [theme=dark] .colab-df-convert:hover {\n",
              "      background-color: #434B5C;\n",
              "      box-shadow: 0px 1px 3px 1px rgba(0, 0, 0, 0.15);\n",
              "      filter: drop-shadow(0px 1px 2px rgba(0, 0, 0, 0.3));\n",
              "      fill: #FFFFFF;\n",
              "    }\n",
              "  </style>\n",
              "\n",
              "      <script>\n",
              "        const buttonEl =\n",
              "          document.querySelector('#df-ced8d3b4-cb68-402f-a740-5f0d17b88b6d button.colab-df-convert');\n",
              "        buttonEl.style.display =\n",
              "          google.colab.kernel.accessAllowed ? 'block' : 'none';\n",
              "\n",
              "        async function convertToInteractive(key) {\n",
              "          const element = document.querySelector('#df-ced8d3b4-cb68-402f-a740-5f0d17b88b6d');\n",
              "          const dataTable =\n",
              "            await google.colab.kernel.invokeFunction('convertToInteractive',\n",
              "                                                     [key], {});\n",
              "          if (!dataTable) return;\n",
              "\n",
              "          const docLinkHtml = 'Like what you see? Visit the ' +\n",
              "            '<a target=\"_blank\" href=https://colab.research.google.com/notebooks/data_table.ipynb>data table notebook</a>'\n",
              "            + ' to learn more about interactive tables.';\n",
              "          element.innerHTML = '';\n",
              "          dataTable['output_type'] = 'display_data';\n",
              "          await google.colab.output.renderOutput(dataTable, element);\n",
              "          const docLink = document.createElement('div');\n",
              "          docLink.innerHTML = docLinkHtml;\n",
              "          element.appendChild(docLink);\n",
              "        }\n",
              "      </script>\n",
              "    </div>\n",
              "  </div>\n"
            ]
          },
          "metadata": {},
          "execution_count": 44
        }
      ]
    },
    {
      "cell_type": "code",
      "source": [
        "df_business.state"
      ],
      "metadata": {
        "colab": {
          "base_uri": "https://localhost:8080/"
        },
        "id": "Ep1eqWIzphuH",
        "outputId": "9d92179c-e771-4ee6-ed2f-85d68e978e38"
      },
      "execution_count": null,
      "outputs": [
        {
          "output_type": "execute_result",
          "data": {
            "text/plain": [
              "0           \n",
              "1           \n",
              "2           \n",
              "3         CA\n",
              "4         MO\n",
              "          ..\n",
              "150341    IN\n",
              "150342    DE\n",
              "150343    AB\n",
              "150344    AB\n",
              "150345    TN\n",
              "Name: state, Length: 150346, dtype: object"
            ]
          },
          "metadata": {},
          "execution_count": 45
        }
      ]
    },
    {
      "cell_type": "code",
      "source": [
        "df_business.to_parquet('BUSINESS_YELP.parquet', index=False, compression='gzip')"
      ],
      "metadata": {
        "id": "McqCP2oSUkpF"
      },
      "execution_count": null,
      "outputs": []
    },
    {
      "cell_type": "code",
      "execution_count": null,
      "metadata": {
        "colab": {
          "base_uri": "https://localhost:8080/",
          "height": 214
        },
        "id": "UcW72fDF-SNo",
        "outputId": "4835e763-356b-4cbc-c2f1-440018121b4f"
      },
      "outputs": [
        {
          "output_type": "execute_result",
          "data": {
            "text/plain": [
              "              business_id                      name review_count  \\\n",
              "0  Pns2l4eNsfO8kk83dixA6A  Abby Rappoport, LAC, CMQ            7   \n",
              "\n",
              "            city state                 address postal_code   lalitude  \\\n",
              "0  Santa Barbara        1616 Chapala St, Ste 2       93101  34.426679   \n",
              "\n",
              "    longitude stars is_open                     attributes  \\\n",
              "0 -119.711197   5.0       0  {'ByAppointmentOnly': 'True'}   \n",
              "\n",
              "                                          categories hours  \n",
              "0  Doctors, Traditional Chinese Medicine, Naturop...  None  "
            ],
            "text/html": [
              "\n",
              "\n",
              "  <div id=\"df-1d1b0a54-6a2d-476f-a98e-4404a6d52db7\">\n",
              "    <div class=\"colab-df-container\">\n",
              "      <div>\n",
              "<style scoped>\n",
              "    .dataframe tbody tr th:only-of-type {\n",
              "        vertical-align: middle;\n",
              "    }\n",
              "\n",
              "    .dataframe tbody tr th {\n",
              "        vertical-align: top;\n",
              "    }\n",
              "\n",
              "    .dataframe thead th {\n",
              "        text-align: right;\n",
              "    }\n",
              "</style>\n",
              "<table border=\"1\" class=\"dataframe\">\n",
              "  <thead>\n",
              "    <tr style=\"text-align: right;\">\n",
              "      <th></th>\n",
              "      <th>business_id</th>\n",
              "      <th>name</th>\n",
              "      <th>review_count</th>\n",
              "      <th>city</th>\n",
              "      <th>state</th>\n",
              "      <th>address</th>\n",
              "      <th>postal_code</th>\n",
              "      <th>lalitude</th>\n",
              "      <th>longitude</th>\n",
              "      <th>stars</th>\n",
              "      <th>is_open</th>\n",
              "      <th>attributes</th>\n",
              "      <th>categories</th>\n",
              "      <th>hours</th>\n",
              "    </tr>\n",
              "  </thead>\n",
              "  <tbody>\n",
              "    <tr>\n",
              "      <th>0</th>\n",
              "      <td>Pns2l4eNsfO8kk83dixA6A</td>\n",
              "      <td>Abby Rappoport, LAC, CMQ</td>\n",
              "      <td>7</td>\n",
              "      <td>Santa Barbara</td>\n",
              "      <td></td>\n",
              "      <td>1616 Chapala St, Ste 2</td>\n",
              "      <td>93101</td>\n",
              "      <td>34.426679</td>\n",
              "      <td>-119.711197</td>\n",
              "      <td>5.0</td>\n",
              "      <td>0</td>\n",
              "      <td>{'ByAppointmentOnly': 'True'}</td>\n",
              "      <td>Doctors, Traditional Chinese Medicine, Naturop...</td>\n",
              "      <td>None</td>\n",
              "    </tr>\n",
              "  </tbody>\n",
              "</table>\n",
              "</div>\n",
              "      <button class=\"colab-df-convert\" onclick=\"convertToInteractive('df-1d1b0a54-6a2d-476f-a98e-4404a6d52db7')\"\n",
              "              title=\"Convert this dataframe to an interactive table.\"\n",
              "              style=\"display:none;\">\n",
              "\n",
              "  <svg xmlns=\"http://www.w3.org/2000/svg\" height=\"24px\"viewBox=\"0 0 24 24\"\n",
              "       width=\"24px\">\n",
              "    <path d=\"M0 0h24v24H0V0z\" fill=\"none\"/>\n",
              "    <path d=\"M18.56 5.44l.94 2.06.94-2.06 2.06-.94-2.06-.94-.94-2.06-.94 2.06-2.06.94zm-11 1L8.5 8.5l.94-2.06 2.06-.94-2.06-.94L8.5 2.5l-.94 2.06-2.06.94zm10 10l.94 2.06.94-2.06 2.06-.94-2.06-.94-.94-2.06-.94 2.06-2.06.94z\"/><path d=\"M17.41 7.96l-1.37-1.37c-.4-.4-.92-.59-1.43-.59-.52 0-1.04.2-1.43.59L10.3 9.45l-7.72 7.72c-.78.78-.78 2.05 0 2.83L4 21.41c.39.39.9.59 1.41.59.51 0 1.02-.2 1.41-.59l7.78-7.78 2.81-2.81c.8-.78.8-2.07 0-2.86zM5.41 20L4 18.59l7.72-7.72 1.47 1.35L5.41 20z\"/>\n",
              "  </svg>\n",
              "      </button>\n",
              "\n",
              "\n",
              "\n",
              "    <div id=\"df-2c0d48d2-2e1d-4d76-ab17-3097086c0edd\">\n",
              "      <button class=\"colab-df-quickchart\" onclick=\"quickchart('df-2c0d48d2-2e1d-4d76-ab17-3097086c0edd')\"\n",
              "              title=\"Suggest charts.\"\n",
              "              style=\"display:none;\">\n",
              "\n",
              "<svg xmlns=\"http://www.w3.org/2000/svg\" height=\"24px\"viewBox=\"0 0 24 24\"\n",
              "     width=\"24px\">\n",
              "    <g>\n",
              "        <path d=\"M19 3H5c-1.1 0-2 .9-2 2v14c0 1.1.9 2 2 2h14c1.1 0 2-.9 2-2V5c0-1.1-.9-2-2-2zM9 17H7v-7h2v7zm4 0h-2V7h2v10zm4 0h-2v-4h2v4z\"/>\n",
              "    </g>\n",
              "</svg>\n",
              "      </button>\n",
              "    </div>\n",
              "\n",
              "<style>\n",
              "  .colab-df-quickchart {\n",
              "    background-color: #E8F0FE;\n",
              "    border: none;\n",
              "    border-radius: 50%;\n",
              "    cursor: pointer;\n",
              "    display: none;\n",
              "    fill: #1967D2;\n",
              "    height: 32px;\n",
              "    padding: 0 0 0 0;\n",
              "    width: 32px;\n",
              "  }\n",
              "\n",
              "  .colab-df-quickchart:hover {\n",
              "    background-color: #E2EBFA;\n",
              "    box-shadow: 0px 1px 2px rgba(60, 64, 67, 0.3), 0px 1px 3px 1px rgba(60, 64, 67, 0.15);\n",
              "    fill: #174EA6;\n",
              "  }\n",
              "\n",
              "  [theme=dark] .colab-df-quickchart {\n",
              "    background-color: #3B4455;\n",
              "    fill: #D2E3FC;\n",
              "  }\n",
              "\n",
              "  [theme=dark] .colab-df-quickchart:hover {\n",
              "    background-color: #434B5C;\n",
              "    box-shadow: 0px 1px 3px 1px rgba(0, 0, 0, 0.15);\n",
              "    filter: drop-shadow(0px 1px 2px rgba(0, 0, 0, 0.3));\n",
              "    fill: #FFFFFF;\n",
              "  }\n",
              "</style>\n",
              "\n",
              "    <script>\n",
              "      async function quickchart(key) {\n",
              "        const containerElement = document.querySelector('#' + key);\n",
              "        const charts = await google.colab.kernel.invokeFunction(\n",
              "            'suggestCharts', [key], {});\n",
              "      }\n",
              "    </script>\n",
              "\n",
              "      <script>\n",
              "\n",
              "function displayQuickchartButton(domScope) {\n",
              "  let quickchartButtonEl =\n",
              "    domScope.querySelector('#df-2c0d48d2-2e1d-4d76-ab17-3097086c0edd button.colab-df-quickchart');\n",
              "  quickchartButtonEl.style.display =\n",
              "    google.colab.kernel.accessAllowed ? 'block' : 'none';\n",
              "}\n",
              "\n",
              "        displayQuickchartButton(document);\n",
              "      </script>\n",
              "      <style>\n",
              "    .colab-df-container {\n",
              "      display:flex;\n",
              "      flex-wrap:wrap;\n",
              "      gap: 12px;\n",
              "    }\n",
              "\n",
              "    .colab-df-convert {\n",
              "      background-color: #E8F0FE;\n",
              "      border: none;\n",
              "      border-radius: 50%;\n",
              "      cursor: pointer;\n",
              "      display: none;\n",
              "      fill: #1967D2;\n",
              "      height: 32px;\n",
              "      padding: 0 0 0 0;\n",
              "      width: 32px;\n",
              "    }\n",
              "\n",
              "    .colab-df-convert:hover {\n",
              "      background-color: #E2EBFA;\n",
              "      box-shadow: 0px 1px 2px rgba(60, 64, 67, 0.3), 0px 1px 3px 1px rgba(60, 64, 67, 0.15);\n",
              "      fill: #174EA6;\n",
              "    }\n",
              "\n",
              "    [theme=dark] .colab-df-convert {\n",
              "      background-color: #3B4455;\n",
              "      fill: #D2E3FC;\n",
              "    }\n",
              "\n",
              "    [theme=dark] .colab-df-convert:hover {\n",
              "      background-color: #434B5C;\n",
              "      box-shadow: 0px 1px 3px 1px rgba(0, 0, 0, 0.15);\n",
              "      filter: drop-shadow(0px 1px 2px rgba(0, 0, 0, 0.3));\n",
              "      fill: #FFFFFF;\n",
              "    }\n",
              "  </style>\n",
              "\n",
              "      <script>\n",
              "        const buttonEl =\n",
              "          document.querySelector('#df-1d1b0a54-6a2d-476f-a98e-4404a6d52db7 button.colab-df-convert');\n",
              "        buttonEl.style.display =\n",
              "          google.colab.kernel.accessAllowed ? 'block' : 'none';\n",
              "\n",
              "        async function convertToInteractive(key) {\n",
              "          const element = document.querySelector('#df-1d1b0a54-6a2d-476f-a98e-4404a6d52db7');\n",
              "          const dataTable =\n",
              "            await google.colab.kernel.invokeFunction('convertToInteractive',\n",
              "                                                     [key], {});\n",
              "          if (!dataTable) return;\n",
              "\n",
              "          const docLinkHtml = 'Like what you see? Visit the ' +\n",
              "            '<a target=\"_blank\" href=https://colab.research.google.com/notebooks/data_table.ipynb>data table notebook</a>'\n",
              "            + ' to learn more about interactive tables.';\n",
              "          element.innerHTML = '';\n",
              "          dataTable['output_type'] = 'display_data';\n",
              "          await google.colab.output.renderOutput(dataTable, element);\n",
              "          const docLink = document.createElement('div');\n",
              "          docLink.innerHTML = docLinkHtml;\n",
              "          element.appendChild(docLink);\n",
              "        }\n",
              "      </script>\n",
              "    </div>\n",
              "  </div>\n"
            ]
          },
          "metadata": {},
          "execution_count": 46
        }
      ],
      "source": [
        "df_business.head(1)"
      ]
    },
    {
      "cell_type": "code",
      "source": [
        "df_business.info()"
      ],
      "metadata": {
        "colab": {
          "base_uri": "https://localhost:8080/"
        },
        "id": "SUzf2R02Y9ga",
        "outputId": "d19f0a05-874b-47af-a5e4-1d95a2921918"
      },
      "execution_count": null,
      "outputs": [
        {
          "output_type": "stream",
          "name": "stdout",
          "text": [
            "<class 'pandas.core.frame.DataFrame'>\n",
            "Int64Index: 150346 entries, 0 to 150345\n",
            "Data columns (total 14 columns):\n",
            " #   Column        Non-Null Count   Dtype \n",
            "---  ------        --------------   ----- \n",
            " 0   business_id   150346 non-null  object\n",
            " 1   name          150346 non-null  object\n",
            " 2   review_count  150346 non-null  object\n",
            " 3   city          150346 non-null  object\n",
            " 4   state         150346 non-null  object\n",
            " 5   address       150346 non-null  object\n",
            " 6   postal_code   150346 non-null  object\n",
            " 7   lalitude      150346 non-null  object\n",
            " 8   longitude     150346 non-null  object\n",
            " 9   stars         150346 non-null  object\n",
            " 10  is_open       150346 non-null  object\n",
            " 11  attributes    136602 non-null  object\n",
            " 12  categories    150346 non-null  object\n",
            " 13  hours         127123 non-null  object\n",
            "dtypes: object(14)\n",
            "memory usage: 21.2+ MB\n"
          ]
        }
      ]
    },
    {
      "cell_type": "markdown",
      "source": [
        "**Filtramos por el estado de New York**"
      ],
      "metadata": {
        "id": "H6YSF7zYvpIf"
      }
    },
    {
      "cell_type": "code",
      "execution_count": null,
      "metadata": {
        "id": "bIsk4DiJ-SNy",
        "colab": {
          "base_uri": "https://localhost:8080/"
        },
        "outputId": "5c9cb82d-7f67-4ea7-ae04-00855c7a0baa"
      },
      "outputs": [
        {
          "output_type": "stream",
          "name": "stdout",
          "text": [
            "<class 'pandas.core.frame.DataFrame'>\n",
            "Int64Index: 8535 entries, 45 to 150340\n",
            "Data columns (total 14 columns):\n",
            " #   Column        Non-Null Count  Dtype \n",
            "---  ------        --------------  ----- \n",
            " 0   BUSINESS_ID   8535 non-null   object\n",
            " 1   NAME          8535 non-null   object\n",
            " 2   REVIEW_COUNT  8535 non-null   object\n",
            " 3   CITY          8535 non-null   object\n",
            " 4   STATE         8535 non-null   object\n",
            " 5   ADDRESS       8535 non-null   object\n",
            " 6   POSTAL_CODE   8535 non-null   object\n",
            " 7   LATITUDE      8535 non-null   object\n",
            " 8   LONGITUDE     8535 non-null   object\n",
            " 9   STARS         8535 non-null   object\n",
            " 10  IS_OPEN       8535 non-null   object\n",
            " 11  ATTRIBUTES    7783 non-null   object\n",
            " 12  CATEGORIES    8535 non-null   object\n",
            " 13  HOURS         7220 non-null   object\n",
            "dtypes: object(14)\n",
            "memory usage: 1000.2+ KB\n"
          ]
        }
      ],
      "source": [
        "df_business[df_business['STATE']=='NJ'].info()"
      ]
    },
    {
      "cell_type": "code",
      "source": [
        "df_NYork=df_business[df_business['state']=='NJ'].copy()\n",
        "df_NYork.head(2)"
      ],
      "metadata": {
        "colab": {
          "base_uri": "https://localhost:8080/",
          "height": 332
        },
        "id": "SIrJWZ-PylXX",
        "outputId": "176851af-67af-4600-c08d-51e979313d4e"
      },
      "execution_count": null,
      "outputs": [
        {
          "output_type": "execute_result",
          "data": {
            "text/plain": [
              "               business_id                     name review_count  \\\n",
              "45  wghnIlMb_i5U46HMBGx9ig  China Dragon Restaurant           23   \n",
              "76  -4dYswJy7SPcbcERvitmIg                 Pathmark           34   \n",
              "\n",
              "            city state                          address postal_code  \\\n",
              "45        Tucson    NJ  1625 W Valencia Rd, Ste 101-103       85746   \n",
              "76  Philadelphia    NJ             3021 Grays Ferry Ave       19146   \n",
              "\n",
              "     lalitude   longitude stars is_open  \\\n",
              "45  32.132305 -110.999985   3.0       0   \n",
              "76  39.940403  -75.193297   2.5       0   \n",
              "\n",
              "                                           attributes            categories  \\\n",
              "45  {'WiFi': ''no'', 'BusinessParking': '{'garage'...  Restaurants, Chinese   \n",
              "76  {'RestaurantsPriceRange2': '2', 'BusinessParki...         Food, Grocery   \n",
              "\n",
              "                                                hours  \n",
              "45  {'Monday': '11:0-21:0', 'Tuesday': '11:0-21:0'...  \n",
              "76  {'Monday': '6:0-1:0', 'Tuesday': '6:0-1:0', 'W...  "
            ],
            "text/html": [
              "\n",
              "\n",
              "  <div id=\"df-4e33939b-c7ae-4f41-b620-39c5079dd790\">\n",
              "    <div class=\"colab-df-container\">\n",
              "      <div>\n",
              "<style scoped>\n",
              "    .dataframe tbody tr th:only-of-type {\n",
              "        vertical-align: middle;\n",
              "    }\n",
              "\n",
              "    .dataframe tbody tr th {\n",
              "        vertical-align: top;\n",
              "    }\n",
              "\n",
              "    .dataframe thead th {\n",
              "        text-align: right;\n",
              "    }\n",
              "</style>\n",
              "<table border=\"1\" class=\"dataframe\">\n",
              "  <thead>\n",
              "    <tr style=\"text-align: right;\">\n",
              "      <th></th>\n",
              "      <th>business_id</th>\n",
              "      <th>name</th>\n",
              "      <th>review_count</th>\n",
              "      <th>city</th>\n",
              "      <th>state</th>\n",
              "      <th>address</th>\n",
              "      <th>postal_code</th>\n",
              "      <th>lalitude</th>\n",
              "      <th>longitude</th>\n",
              "      <th>stars</th>\n",
              "      <th>is_open</th>\n",
              "      <th>attributes</th>\n",
              "      <th>categories</th>\n",
              "      <th>hours</th>\n",
              "    </tr>\n",
              "  </thead>\n",
              "  <tbody>\n",
              "    <tr>\n",
              "      <th>45</th>\n",
              "      <td>wghnIlMb_i5U46HMBGx9ig</td>\n",
              "      <td>China Dragon Restaurant</td>\n",
              "      <td>23</td>\n",
              "      <td>Tucson</td>\n",
              "      <td>NJ</td>\n",
              "      <td>1625 W Valencia Rd, Ste 101-103</td>\n",
              "      <td>85746</td>\n",
              "      <td>32.132305</td>\n",
              "      <td>-110.999985</td>\n",
              "      <td>3.0</td>\n",
              "      <td>0</td>\n",
              "      <td>{'WiFi': ''no'', 'BusinessParking': '{'garage'...</td>\n",
              "      <td>Restaurants, Chinese</td>\n",
              "      <td>{'Monday': '11:0-21:0', 'Tuesday': '11:0-21:0'...</td>\n",
              "    </tr>\n",
              "    <tr>\n",
              "      <th>76</th>\n",
              "      <td>-4dYswJy7SPcbcERvitmIg</td>\n",
              "      <td>Pathmark</td>\n",
              "      <td>34</td>\n",
              "      <td>Philadelphia</td>\n",
              "      <td>NJ</td>\n",
              "      <td>3021 Grays Ferry Ave</td>\n",
              "      <td>19146</td>\n",
              "      <td>39.940403</td>\n",
              "      <td>-75.193297</td>\n",
              "      <td>2.5</td>\n",
              "      <td>0</td>\n",
              "      <td>{'RestaurantsPriceRange2': '2', 'BusinessParki...</td>\n",
              "      <td>Food, Grocery</td>\n",
              "      <td>{'Monday': '6:0-1:0', 'Tuesday': '6:0-1:0', 'W...</td>\n",
              "    </tr>\n",
              "  </tbody>\n",
              "</table>\n",
              "</div>\n",
              "      <button class=\"colab-df-convert\" onclick=\"convertToInteractive('df-4e33939b-c7ae-4f41-b620-39c5079dd790')\"\n",
              "              title=\"Convert this dataframe to an interactive table.\"\n",
              "              style=\"display:none;\">\n",
              "\n",
              "  <svg xmlns=\"http://www.w3.org/2000/svg\" height=\"24px\"viewBox=\"0 0 24 24\"\n",
              "       width=\"24px\">\n",
              "    <path d=\"M0 0h24v24H0V0z\" fill=\"none\"/>\n",
              "    <path d=\"M18.56 5.44l.94 2.06.94-2.06 2.06-.94-2.06-.94-.94-2.06-.94 2.06-2.06.94zm-11 1L8.5 8.5l.94-2.06 2.06-.94-2.06-.94L8.5 2.5l-.94 2.06-2.06.94zm10 10l.94 2.06.94-2.06 2.06-.94-2.06-.94-.94-2.06-.94 2.06-2.06.94z\"/><path d=\"M17.41 7.96l-1.37-1.37c-.4-.4-.92-.59-1.43-.59-.52 0-1.04.2-1.43.59L10.3 9.45l-7.72 7.72c-.78.78-.78 2.05 0 2.83L4 21.41c.39.39.9.59 1.41.59.51 0 1.02-.2 1.41-.59l7.78-7.78 2.81-2.81c.8-.78.8-2.07 0-2.86zM5.41 20L4 18.59l7.72-7.72 1.47 1.35L5.41 20z\"/>\n",
              "  </svg>\n",
              "      </button>\n",
              "\n",
              "\n",
              "\n",
              "    <div id=\"df-4e73d2ff-886e-4c73-911b-ea1ecf239f98\">\n",
              "      <button class=\"colab-df-quickchart\" onclick=\"quickchart('df-4e73d2ff-886e-4c73-911b-ea1ecf239f98')\"\n",
              "              title=\"Suggest charts.\"\n",
              "              style=\"display:none;\">\n",
              "\n",
              "<svg xmlns=\"http://www.w3.org/2000/svg\" height=\"24px\"viewBox=\"0 0 24 24\"\n",
              "     width=\"24px\">\n",
              "    <g>\n",
              "        <path d=\"M19 3H5c-1.1 0-2 .9-2 2v14c0 1.1.9 2 2 2h14c1.1 0 2-.9 2-2V5c0-1.1-.9-2-2-2zM9 17H7v-7h2v7zm4 0h-2V7h2v10zm4 0h-2v-4h2v4z\"/>\n",
              "    </g>\n",
              "</svg>\n",
              "      </button>\n",
              "    </div>\n",
              "\n",
              "<style>\n",
              "  .colab-df-quickchart {\n",
              "    background-color: #E8F0FE;\n",
              "    border: none;\n",
              "    border-radius: 50%;\n",
              "    cursor: pointer;\n",
              "    display: none;\n",
              "    fill: #1967D2;\n",
              "    height: 32px;\n",
              "    padding: 0 0 0 0;\n",
              "    width: 32px;\n",
              "  }\n",
              "\n",
              "  .colab-df-quickchart:hover {\n",
              "    background-color: #E2EBFA;\n",
              "    box-shadow: 0px 1px 2px rgba(60, 64, 67, 0.3), 0px 1px 3px 1px rgba(60, 64, 67, 0.15);\n",
              "    fill: #174EA6;\n",
              "  }\n",
              "\n",
              "  [theme=dark] .colab-df-quickchart {\n",
              "    background-color: #3B4455;\n",
              "    fill: #D2E3FC;\n",
              "  }\n",
              "\n",
              "  [theme=dark] .colab-df-quickchart:hover {\n",
              "    background-color: #434B5C;\n",
              "    box-shadow: 0px 1px 3px 1px rgba(0, 0, 0, 0.15);\n",
              "    filter: drop-shadow(0px 1px 2px rgba(0, 0, 0, 0.3));\n",
              "    fill: #FFFFFF;\n",
              "  }\n",
              "</style>\n",
              "\n",
              "    <script>\n",
              "      async function quickchart(key) {\n",
              "        const containerElement = document.querySelector('#' + key);\n",
              "        const charts = await google.colab.kernel.invokeFunction(\n",
              "            'suggestCharts', [key], {});\n",
              "      }\n",
              "    </script>\n",
              "\n",
              "      <script>\n",
              "\n",
              "function displayQuickchartButton(domScope) {\n",
              "  let quickchartButtonEl =\n",
              "    domScope.querySelector('#df-4e73d2ff-886e-4c73-911b-ea1ecf239f98 button.colab-df-quickchart');\n",
              "  quickchartButtonEl.style.display =\n",
              "    google.colab.kernel.accessAllowed ? 'block' : 'none';\n",
              "}\n",
              "\n",
              "        displayQuickchartButton(document);\n",
              "      </script>\n",
              "      <style>\n",
              "    .colab-df-container {\n",
              "      display:flex;\n",
              "      flex-wrap:wrap;\n",
              "      gap: 12px;\n",
              "    }\n",
              "\n",
              "    .colab-df-convert {\n",
              "      background-color: #E8F0FE;\n",
              "      border: none;\n",
              "      border-radius: 50%;\n",
              "      cursor: pointer;\n",
              "      display: none;\n",
              "      fill: #1967D2;\n",
              "      height: 32px;\n",
              "      padding: 0 0 0 0;\n",
              "      width: 32px;\n",
              "    }\n",
              "\n",
              "    .colab-df-convert:hover {\n",
              "      background-color: #E2EBFA;\n",
              "      box-shadow: 0px 1px 2px rgba(60, 64, 67, 0.3), 0px 1px 3px 1px rgba(60, 64, 67, 0.15);\n",
              "      fill: #174EA6;\n",
              "    }\n",
              "\n",
              "    [theme=dark] .colab-df-convert {\n",
              "      background-color: #3B4455;\n",
              "      fill: #D2E3FC;\n",
              "    }\n",
              "\n",
              "    [theme=dark] .colab-df-convert:hover {\n",
              "      background-color: #434B5C;\n",
              "      box-shadow: 0px 1px 3px 1px rgba(0, 0, 0, 0.15);\n",
              "      filter: drop-shadow(0px 1px 2px rgba(0, 0, 0, 0.3));\n",
              "      fill: #FFFFFF;\n",
              "    }\n",
              "  </style>\n",
              "\n",
              "      <script>\n",
              "        const buttonEl =\n",
              "          document.querySelector('#df-4e33939b-c7ae-4f41-b620-39c5079dd790 button.colab-df-convert');\n",
              "        buttonEl.style.display =\n",
              "          google.colab.kernel.accessAllowed ? 'block' : 'none';\n",
              "\n",
              "        async function convertToInteractive(key) {\n",
              "          const element = document.querySelector('#df-4e33939b-c7ae-4f41-b620-39c5079dd790');\n",
              "          const dataTable =\n",
              "            await google.colab.kernel.invokeFunction('convertToInteractive',\n",
              "                                                     [key], {});\n",
              "          if (!dataTable) return;\n",
              "\n",
              "          const docLinkHtml = 'Like what you see? Visit the ' +\n",
              "            '<a target=\"_blank\" href=https://colab.research.google.com/notebooks/data_table.ipynb>data table notebook</a>'\n",
              "            + ' to learn more about interactive tables.';\n",
              "          element.innerHTML = '';\n",
              "          dataTable['output_type'] = 'display_data';\n",
              "          await google.colab.output.renderOutput(dataTable, element);\n",
              "          const docLink = document.createElement('div');\n",
              "          docLink.innerHTML = docLinkHtml;\n",
              "          element.appendChild(docLink);\n",
              "        }\n",
              "      </script>\n",
              "    </div>\n",
              "  </div>\n"
            ]
          },
          "metadata": {},
          "execution_count": 53
        }
      ]
    },
    {
      "cell_type": "code",
      "source": [
        "df_NYork[df_NYork['name']==\"McDonald's\"].business_id.count()"
      ],
      "metadata": {
        "colab": {
          "base_uri": "https://localhost:8080/"
        },
        "id": "kMTm3nULlKu6",
        "outputId": "87f5ae66-7add-44b8-d811-793868a28b95"
      },
      "execution_count": null,
      "outputs": [
        {
          "output_type": "execute_result",
          "data": {
            "text/plain": [
              "50"
            ]
          },
          "metadata": {},
          "execution_count": 103
        }
      ]
    },
    {
      "cell_type": "code",
      "source": [
        "df_NYork[df_NYork['name']==\"McDonald's\"].head(3)"
      ],
      "metadata": {
        "colab": {
          "base_uri": "https://localhost:8080/",
          "height": 416
        },
        "id": "hRsRGBUGmBuN",
        "outputId": "f467b234-1dd8-42c5-acd5-744e00d2481d"
      },
      "execution_count": null,
      "outputs": [
        {
          "output_type": "execute_result",
          "data": {
            "text/plain": [
              "                 business_id        name review_count      city state  \\\n",
              "361   aNXw3PkXVt8ANwLyCfcmpg  McDonald's           17  Lansdale    NJ   \n",
              "3161  CxoRg-ZcXdpqXWmUJliYog  McDonald's           28    Hudson    NJ   \n",
              "3593  2gTnSpYBmg_5JubGpCtSQQ  McDonald's           41   Fishers    NJ   \n",
              "\n",
              "                address postal_code   lalitude  longitude stars is_open  \\\n",
              "361       2333 Welsh Rd       19446  40.263706 -75.317916   1.5       1   \n",
              "3161      9441 St Rd 52       34669  28.331619 -82.658409   2.5       1   \n",
              "3593  9611 N By Ne Blvd       46038  39.927626 -86.025654   2.0       1   \n",
              "\n",
              "                                             attributes  \\\n",
              "361   {'WiFi': 'u'free'', 'GoodForKids': 'True', 'Bu...   \n",
              "3161  {'HasTV': 'True', 'Alcohol': 'u'none'', 'Busin...   \n",
              "3593  {'RestaurantsPriceRange2': '1', 'OutdoorSeatin...   \n",
              "\n",
              "                                             categories  \\\n",
              "361   Restaurants, Fast Food, Burgers, Food, Coffee ...   \n",
              "3161  Restaurants, Food, Fast Food, Coffee & Tea, Bu...   \n",
              "3593  Coffee & Tea, Food, Burgers, Fast Food, Restau...   \n",
              "\n",
              "                                                  hours  \n",
              "361   {'Monday': '6:0-23:0', 'Tuesday': '6:0-23:0', ...  \n",
              "3161  {'Monday': '0:0-0:0', 'Tuesday': '0:0-0:0', 'W...  \n",
              "3593  {'Monday': '5:0-1:0', 'Tuesday': '5:0-1:0', 'W...  "
            ],
            "text/html": [
              "\n",
              "\n",
              "  <div id=\"df-e112fe16-f5ad-447f-a338-12be643c1f70\">\n",
              "    <div class=\"colab-df-container\">\n",
              "      <div>\n",
              "<style scoped>\n",
              "    .dataframe tbody tr th:only-of-type {\n",
              "        vertical-align: middle;\n",
              "    }\n",
              "\n",
              "    .dataframe tbody tr th {\n",
              "        vertical-align: top;\n",
              "    }\n",
              "\n",
              "    .dataframe thead th {\n",
              "        text-align: right;\n",
              "    }\n",
              "</style>\n",
              "<table border=\"1\" class=\"dataframe\">\n",
              "  <thead>\n",
              "    <tr style=\"text-align: right;\">\n",
              "      <th></th>\n",
              "      <th>business_id</th>\n",
              "      <th>name</th>\n",
              "      <th>review_count</th>\n",
              "      <th>city</th>\n",
              "      <th>state</th>\n",
              "      <th>address</th>\n",
              "      <th>postal_code</th>\n",
              "      <th>lalitude</th>\n",
              "      <th>longitude</th>\n",
              "      <th>stars</th>\n",
              "      <th>is_open</th>\n",
              "      <th>attributes</th>\n",
              "      <th>categories</th>\n",
              "      <th>hours</th>\n",
              "    </tr>\n",
              "  </thead>\n",
              "  <tbody>\n",
              "    <tr>\n",
              "      <th>361</th>\n",
              "      <td>aNXw3PkXVt8ANwLyCfcmpg</td>\n",
              "      <td>McDonald's</td>\n",
              "      <td>17</td>\n",
              "      <td>Lansdale</td>\n",
              "      <td>NJ</td>\n",
              "      <td>2333 Welsh Rd</td>\n",
              "      <td>19446</td>\n",
              "      <td>40.263706</td>\n",
              "      <td>-75.317916</td>\n",
              "      <td>1.5</td>\n",
              "      <td>1</td>\n",
              "      <td>{'WiFi': 'u'free'', 'GoodForKids': 'True', 'Bu...</td>\n",
              "      <td>Restaurants, Fast Food, Burgers, Food, Coffee ...</td>\n",
              "      <td>{'Monday': '6:0-23:0', 'Tuesday': '6:0-23:0', ...</td>\n",
              "    </tr>\n",
              "    <tr>\n",
              "      <th>3161</th>\n",
              "      <td>CxoRg-ZcXdpqXWmUJliYog</td>\n",
              "      <td>McDonald's</td>\n",
              "      <td>28</td>\n",
              "      <td>Hudson</td>\n",
              "      <td>NJ</td>\n",
              "      <td>9441 St Rd 52</td>\n",
              "      <td>34669</td>\n",
              "      <td>28.331619</td>\n",
              "      <td>-82.658409</td>\n",
              "      <td>2.5</td>\n",
              "      <td>1</td>\n",
              "      <td>{'HasTV': 'True', 'Alcohol': 'u'none'', 'Busin...</td>\n",
              "      <td>Restaurants, Food, Fast Food, Coffee &amp; Tea, Bu...</td>\n",
              "      <td>{'Monday': '0:0-0:0', 'Tuesday': '0:0-0:0', 'W...</td>\n",
              "    </tr>\n",
              "    <tr>\n",
              "      <th>3593</th>\n",
              "      <td>2gTnSpYBmg_5JubGpCtSQQ</td>\n",
              "      <td>McDonald's</td>\n",
              "      <td>41</td>\n",
              "      <td>Fishers</td>\n",
              "      <td>NJ</td>\n",
              "      <td>9611 N By Ne Blvd</td>\n",
              "      <td>46038</td>\n",
              "      <td>39.927626</td>\n",
              "      <td>-86.025654</td>\n",
              "      <td>2.0</td>\n",
              "      <td>1</td>\n",
              "      <td>{'RestaurantsPriceRange2': '1', 'OutdoorSeatin...</td>\n",
              "      <td>Coffee &amp; Tea, Food, Burgers, Fast Food, Restau...</td>\n",
              "      <td>{'Monday': '5:0-1:0', 'Tuesday': '5:0-1:0', 'W...</td>\n",
              "    </tr>\n",
              "  </tbody>\n",
              "</table>\n",
              "</div>\n",
              "      <button class=\"colab-df-convert\" onclick=\"convertToInteractive('df-e112fe16-f5ad-447f-a338-12be643c1f70')\"\n",
              "              title=\"Convert this dataframe to an interactive table.\"\n",
              "              style=\"display:none;\">\n",
              "\n",
              "  <svg xmlns=\"http://www.w3.org/2000/svg\" height=\"24px\"viewBox=\"0 0 24 24\"\n",
              "       width=\"24px\">\n",
              "    <path d=\"M0 0h24v24H0V0z\" fill=\"none\"/>\n",
              "    <path d=\"M18.56 5.44l.94 2.06.94-2.06 2.06-.94-2.06-.94-.94-2.06-.94 2.06-2.06.94zm-11 1L8.5 8.5l.94-2.06 2.06-.94-2.06-.94L8.5 2.5l-.94 2.06-2.06.94zm10 10l.94 2.06.94-2.06 2.06-.94-2.06-.94-.94-2.06-.94 2.06-2.06.94z\"/><path d=\"M17.41 7.96l-1.37-1.37c-.4-.4-.92-.59-1.43-.59-.52 0-1.04.2-1.43.59L10.3 9.45l-7.72 7.72c-.78.78-.78 2.05 0 2.83L4 21.41c.39.39.9.59 1.41.59.51 0 1.02-.2 1.41-.59l7.78-7.78 2.81-2.81c.8-.78.8-2.07 0-2.86zM5.41 20L4 18.59l7.72-7.72 1.47 1.35L5.41 20z\"/>\n",
              "  </svg>\n",
              "      </button>\n",
              "\n",
              "\n",
              "\n",
              "    <div id=\"df-b325b30d-832c-49e4-8cb2-52712dcb59cd\">\n",
              "      <button class=\"colab-df-quickchart\" onclick=\"quickchart('df-b325b30d-832c-49e4-8cb2-52712dcb59cd')\"\n",
              "              title=\"Suggest charts.\"\n",
              "              style=\"display:none;\">\n",
              "\n",
              "<svg xmlns=\"http://www.w3.org/2000/svg\" height=\"24px\"viewBox=\"0 0 24 24\"\n",
              "     width=\"24px\">\n",
              "    <g>\n",
              "        <path d=\"M19 3H5c-1.1 0-2 .9-2 2v14c0 1.1.9 2 2 2h14c1.1 0 2-.9 2-2V5c0-1.1-.9-2-2-2zM9 17H7v-7h2v7zm4 0h-2V7h2v10zm4 0h-2v-4h2v4z\"/>\n",
              "    </g>\n",
              "</svg>\n",
              "      </button>\n",
              "    </div>\n",
              "\n",
              "<style>\n",
              "  .colab-df-quickchart {\n",
              "    background-color: #E8F0FE;\n",
              "    border: none;\n",
              "    border-radius: 50%;\n",
              "    cursor: pointer;\n",
              "    display: none;\n",
              "    fill: #1967D2;\n",
              "    height: 32px;\n",
              "    padding: 0 0 0 0;\n",
              "    width: 32px;\n",
              "  }\n",
              "\n",
              "  .colab-df-quickchart:hover {\n",
              "    background-color: #E2EBFA;\n",
              "    box-shadow: 0px 1px 2px rgba(60, 64, 67, 0.3), 0px 1px 3px 1px rgba(60, 64, 67, 0.15);\n",
              "    fill: #174EA6;\n",
              "  }\n",
              "\n",
              "  [theme=dark] .colab-df-quickchart {\n",
              "    background-color: #3B4455;\n",
              "    fill: #D2E3FC;\n",
              "  }\n",
              "\n",
              "  [theme=dark] .colab-df-quickchart:hover {\n",
              "    background-color: #434B5C;\n",
              "    box-shadow: 0px 1px 3px 1px rgba(0, 0, 0, 0.15);\n",
              "    filter: drop-shadow(0px 1px 2px rgba(0, 0, 0, 0.3));\n",
              "    fill: #FFFFFF;\n",
              "  }\n",
              "</style>\n",
              "\n",
              "    <script>\n",
              "      async function quickchart(key) {\n",
              "        const containerElement = document.querySelector('#' + key);\n",
              "        const charts = await google.colab.kernel.invokeFunction(\n",
              "            'suggestCharts', [key], {});\n",
              "      }\n",
              "    </script>\n",
              "\n",
              "      <script>\n",
              "\n",
              "function displayQuickchartButton(domScope) {\n",
              "  let quickchartButtonEl =\n",
              "    domScope.querySelector('#df-b325b30d-832c-49e4-8cb2-52712dcb59cd button.colab-df-quickchart');\n",
              "  quickchartButtonEl.style.display =\n",
              "    google.colab.kernel.accessAllowed ? 'block' : 'none';\n",
              "}\n",
              "\n",
              "        displayQuickchartButton(document);\n",
              "      </script>\n",
              "      <style>\n",
              "    .colab-df-container {\n",
              "      display:flex;\n",
              "      flex-wrap:wrap;\n",
              "      gap: 12px;\n",
              "    }\n",
              "\n",
              "    .colab-df-convert {\n",
              "      background-color: #E8F0FE;\n",
              "      border: none;\n",
              "      border-radius: 50%;\n",
              "      cursor: pointer;\n",
              "      display: none;\n",
              "      fill: #1967D2;\n",
              "      height: 32px;\n",
              "      padding: 0 0 0 0;\n",
              "      width: 32px;\n",
              "    }\n",
              "\n",
              "    .colab-df-convert:hover {\n",
              "      background-color: #E2EBFA;\n",
              "      box-shadow: 0px 1px 2px rgba(60, 64, 67, 0.3), 0px 1px 3px 1px rgba(60, 64, 67, 0.15);\n",
              "      fill: #174EA6;\n",
              "    }\n",
              "\n",
              "    [theme=dark] .colab-df-convert {\n",
              "      background-color: #3B4455;\n",
              "      fill: #D2E3FC;\n",
              "    }\n",
              "\n",
              "    [theme=dark] .colab-df-convert:hover {\n",
              "      background-color: #434B5C;\n",
              "      box-shadow: 0px 1px 3px 1px rgba(0, 0, 0, 0.15);\n",
              "      filter: drop-shadow(0px 1px 2px rgba(0, 0, 0, 0.3));\n",
              "      fill: #FFFFFF;\n",
              "    }\n",
              "  </style>\n",
              "\n",
              "      <script>\n",
              "        const buttonEl =\n",
              "          document.querySelector('#df-e112fe16-f5ad-447f-a338-12be643c1f70 button.colab-df-convert');\n",
              "        buttonEl.style.display =\n",
              "          google.colab.kernel.accessAllowed ? 'block' : 'none';\n",
              "\n",
              "        async function convertToInteractive(key) {\n",
              "          const element = document.querySelector('#df-e112fe16-f5ad-447f-a338-12be643c1f70');\n",
              "          const dataTable =\n",
              "            await google.colab.kernel.invokeFunction('convertToInteractive',\n",
              "                                                     [key], {});\n",
              "          if (!dataTable) return;\n",
              "\n",
              "          const docLinkHtml = 'Like what you see? Visit the ' +\n",
              "            '<a target=\"_blank\" href=https://colab.research.google.com/notebooks/data_table.ipynb>data table notebook</a>'\n",
              "            + ' to learn more about interactive tables.';\n",
              "          element.innerHTML = '';\n",
              "          dataTable['output_type'] = 'display_data';\n",
              "          await google.colab.output.renderOutput(dataTable, element);\n",
              "          const docLink = document.createElement('div');\n",
              "          docLink.innerHTML = docLinkHtml;\n",
              "          element.appendChild(docLink);\n",
              "        }\n",
              "      </script>\n",
              "    </div>\n",
              "  </div>\n"
            ]
          },
          "metadata": {},
          "execution_count": 105
        }
      ]
    },
    {
      "cell_type": "markdown",
      "metadata": {
        "id": "3qDQt8A0-SOu"
      },
      "source": [
        "**Realizamos converciones en los tipos de dato nesesarias**"
      ]
    },
    {
      "cell_type": "code",
      "execution_count": null,
      "metadata": {
        "id": "e2-q3Nc8-SOx"
      },
      "outputs": [],
      "source": [
        "#CONVERSIONES A REALIZAR AL FINAL DE EL TRATAMIENTO DE TODOS LOS DATOS\n",
        "df_NYork[\"business_id\"] = df_NYork[\"business_id\"].astype('str')\n",
        "df_NYork[\"name\"] = df_NYork[\"name\"].astype('str')\n",
        "df_NYork[\"review_count\"] = df_NYork[\"review_count\"].astype('int')\n",
        "df_NYork[\"city\"] = df_NYork[\"city\"].astype('str')\n",
        "df_NYork[\"state\"] = df_NYork[\"state\"].astype('str')\n",
        "df_NYork[\"address\"] = df_NYork[\"address\"].astype('str')\n",
        "df_NYork[\"postal_code\"] = df_NYork[\"postal_code\"].apply(pd.to_numeric, errors='coerce')\n",
        "df_NYork[\"latitude\"] = df_NYork[\"latitude\"].apply(pd.to_numeric, errors='coerce')\n",
        "df_NYork[\"longitude\"] = df_NYork[\"longitude\"].apply(pd.to_numeric, errors='coerce')\n",
        "df_NYork[\"stars\"] = df_NYork[\"stars\"].apply(pd.to_numeric, errors='coerce')\n"
      ]
    },
    {
      "cell_type": "code",
      "execution_count": null,
      "metadata": {
        "id": "HDe-B_6B-SOt"
      },
      "outputs": [],
      "source": [
        "df_NYork.to_parquet('BUSINESS_YELP_YORK.parquet', index=False, compression='gzip')"
      ]
    },
    {
      "cell_type": "markdown",
      "metadata": {
        "id": "JY6eQCmA-SPY"
      },
      "source": [
        "**Generamos un nuevo dataframe con 'business_id',\n",
        "'categories'**"
      ]
    },
    {
      "cell_type": "code",
      "execution_count": null,
      "metadata": {
        "id": "FjjSxfJk-SPn",
        "colab": {
          "base_uri": "https://localhost:8080/",
          "height": 143
        },
        "outputId": "4fdea4ec-124e-4c25-d3b8-5f5a140daa9e"
      },
      "outputs": [
        {
          "output_type": "execute_result",
          "data": {
            "text/plain": [
              "               business_id                                     categories\n",
              "45  wghnIlMb_i5U46HMBGx9ig                           Restaurants, Chinese\n",
              "76  -4dYswJy7SPcbcERvitmIg                                  Food, Grocery\n",
              "86  sE6jSnvMts_MAn-b4OkMAw  Pet Groomers, Pet Sitting, Pets, Pet Services"
            ],
            "text/html": [
              "\n",
              "\n",
              "  <div id=\"df-049cc19c-a53b-41ea-946c-b230fb4348eb\">\n",
              "    <div class=\"colab-df-container\">\n",
              "      <div>\n",
              "<style scoped>\n",
              "    .dataframe tbody tr th:only-of-type {\n",
              "        vertical-align: middle;\n",
              "    }\n",
              "\n",
              "    .dataframe tbody tr th {\n",
              "        vertical-align: top;\n",
              "    }\n",
              "\n",
              "    .dataframe thead th {\n",
              "        text-align: right;\n",
              "    }\n",
              "</style>\n",
              "<table border=\"1\" class=\"dataframe\">\n",
              "  <thead>\n",
              "    <tr style=\"text-align: right;\">\n",
              "      <th></th>\n",
              "      <th>business_id</th>\n",
              "      <th>categories</th>\n",
              "    </tr>\n",
              "  </thead>\n",
              "  <tbody>\n",
              "    <tr>\n",
              "      <th>45</th>\n",
              "      <td>wghnIlMb_i5U46HMBGx9ig</td>\n",
              "      <td>Restaurants, Chinese</td>\n",
              "    </tr>\n",
              "    <tr>\n",
              "      <th>76</th>\n",
              "      <td>-4dYswJy7SPcbcERvitmIg</td>\n",
              "      <td>Food, Grocery</td>\n",
              "    </tr>\n",
              "    <tr>\n",
              "      <th>86</th>\n",
              "      <td>sE6jSnvMts_MAn-b4OkMAw</td>\n",
              "      <td>Pet Groomers, Pet Sitting, Pets, Pet Services</td>\n",
              "    </tr>\n",
              "  </tbody>\n",
              "</table>\n",
              "</div>\n",
              "      <button class=\"colab-df-convert\" onclick=\"convertToInteractive('df-049cc19c-a53b-41ea-946c-b230fb4348eb')\"\n",
              "              title=\"Convert this dataframe to an interactive table.\"\n",
              "              style=\"display:none;\">\n",
              "\n",
              "  <svg xmlns=\"http://www.w3.org/2000/svg\" height=\"24px\"viewBox=\"0 0 24 24\"\n",
              "       width=\"24px\">\n",
              "    <path d=\"M0 0h24v24H0V0z\" fill=\"none\"/>\n",
              "    <path d=\"M18.56 5.44l.94 2.06.94-2.06 2.06-.94-2.06-.94-.94-2.06-.94 2.06-2.06.94zm-11 1L8.5 8.5l.94-2.06 2.06-.94-2.06-.94L8.5 2.5l-.94 2.06-2.06.94zm10 10l.94 2.06.94-2.06 2.06-.94-2.06-.94-.94-2.06-.94 2.06-2.06.94z\"/><path d=\"M17.41 7.96l-1.37-1.37c-.4-.4-.92-.59-1.43-.59-.52 0-1.04.2-1.43.59L10.3 9.45l-7.72 7.72c-.78.78-.78 2.05 0 2.83L4 21.41c.39.39.9.59 1.41.59.51 0 1.02-.2 1.41-.59l7.78-7.78 2.81-2.81c.8-.78.8-2.07 0-2.86zM5.41 20L4 18.59l7.72-7.72 1.47 1.35L5.41 20z\"/>\n",
              "  </svg>\n",
              "      </button>\n",
              "\n",
              "\n",
              "\n",
              "    <div id=\"df-5ecfd21f-b441-4b94-a01f-b39c628429a3\">\n",
              "      <button class=\"colab-df-quickchart\" onclick=\"quickchart('df-5ecfd21f-b441-4b94-a01f-b39c628429a3')\"\n",
              "              title=\"Suggest charts.\"\n",
              "              style=\"display:none;\">\n",
              "\n",
              "<svg xmlns=\"http://www.w3.org/2000/svg\" height=\"24px\"viewBox=\"0 0 24 24\"\n",
              "     width=\"24px\">\n",
              "    <g>\n",
              "        <path d=\"M19 3H5c-1.1 0-2 .9-2 2v14c0 1.1.9 2 2 2h14c1.1 0 2-.9 2-2V5c0-1.1-.9-2-2-2zM9 17H7v-7h2v7zm4 0h-2V7h2v10zm4 0h-2v-4h2v4z\"/>\n",
              "    </g>\n",
              "</svg>\n",
              "      </button>\n",
              "    </div>\n",
              "\n",
              "<style>\n",
              "  .colab-df-quickchart {\n",
              "    background-color: #E8F0FE;\n",
              "    border: none;\n",
              "    border-radius: 50%;\n",
              "    cursor: pointer;\n",
              "    display: none;\n",
              "    fill: #1967D2;\n",
              "    height: 32px;\n",
              "    padding: 0 0 0 0;\n",
              "    width: 32px;\n",
              "  }\n",
              "\n",
              "  .colab-df-quickchart:hover {\n",
              "    background-color: #E2EBFA;\n",
              "    box-shadow: 0px 1px 2px rgba(60, 64, 67, 0.3), 0px 1px 3px 1px rgba(60, 64, 67, 0.15);\n",
              "    fill: #174EA6;\n",
              "  }\n",
              "\n",
              "  [theme=dark] .colab-df-quickchart {\n",
              "    background-color: #3B4455;\n",
              "    fill: #D2E3FC;\n",
              "  }\n",
              "\n",
              "  [theme=dark] .colab-df-quickchart:hover {\n",
              "    background-color: #434B5C;\n",
              "    box-shadow: 0px 1px 3px 1px rgba(0, 0, 0, 0.15);\n",
              "    filter: drop-shadow(0px 1px 2px rgba(0, 0, 0, 0.3));\n",
              "    fill: #FFFFFF;\n",
              "  }\n",
              "</style>\n",
              "\n",
              "    <script>\n",
              "      async function quickchart(key) {\n",
              "        const containerElement = document.querySelector('#' + key);\n",
              "        const charts = await google.colab.kernel.invokeFunction(\n",
              "            'suggestCharts', [key], {});\n",
              "      }\n",
              "    </script>\n",
              "\n",
              "      <script>\n",
              "\n",
              "function displayQuickchartButton(domScope) {\n",
              "  let quickchartButtonEl =\n",
              "    domScope.querySelector('#df-5ecfd21f-b441-4b94-a01f-b39c628429a3 button.colab-df-quickchart');\n",
              "  quickchartButtonEl.style.display =\n",
              "    google.colab.kernel.accessAllowed ? 'block' : 'none';\n",
              "}\n",
              "\n",
              "        displayQuickchartButton(document);\n",
              "      </script>\n",
              "      <style>\n",
              "    .colab-df-container {\n",
              "      display:flex;\n",
              "      flex-wrap:wrap;\n",
              "      gap: 12px;\n",
              "    }\n",
              "\n",
              "    .colab-df-convert {\n",
              "      background-color: #E8F0FE;\n",
              "      border: none;\n",
              "      border-radius: 50%;\n",
              "      cursor: pointer;\n",
              "      display: none;\n",
              "      fill: #1967D2;\n",
              "      height: 32px;\n",
              "      padding: 0 0 0 0;\n",
              "      width: 32px;\n",
              "    }\n",
              "\n",
              "    .colab-df-convert:hover {\n",
              "      background-color: #E2EBFA;\n",
              "      box-shadow: 0px 1px 2px rgba(60, 64, 67, 0.3), 0px 1px 3px 1px rgba(60, 64, 67, 0.15);\n",
              "      fill: #174EA6;\n",
              "    }\n",
              "\n",
              "    [theme=dark] .colab-df-convert {\n",
              "      background-color: #3B4455;\n",
              "      fill: #D2E3FC;\n",
              "    }\n",
              "\n",
              "    [theme=dark] .colab-df-convert:hover {\n",
              "      background-color: #434B5C;\n",
              "      box-shadow: 0px 1px 3px 1px rgba(0, 0, 0, 0.15);\n",
              "      filter: drop-shadow(0px 1px 2px rgba(0, 0, 0, 0.3));\n",
              "      fill: #FFFFFF;\n",
              "    }\n",
              "  </style>\n",
              "\n",
              "      <script>\n",
              "        const buttonEl =\n",
              "          document.querySelector('#df-049cc19c-a53b-41ea-946c-b230fb4348eb button.colab-df-convert');\n",
              "        buttonEl.style.display =\n",
              "          google.colab.kernel.accessAllowed ? 'block' : 'none';\n",
              "\n",
              "        async function convertToInteractive(key) {\n",
              "          const element = document.querySelector('#df-049cc19c-a53b-41ea-946c-b230fb4348eb');\n",
              "          const dataTable =\n",
              "            await google.colab.kernel.invokeFunction('convertToInteractive',\n",
              "                                                     [key], {});\n",
              "          if (!dataTable) return;\n",
              "\n",
              "          const docLinkHtml = 'Like what you see? Visit the ' +\n",
              "            '<a target=\"_blank\" href=https://colab.research.google.com/notebooks/data_table.ipynb>data table notebook</a>'\n",
              "            + ' to learn more about interactive tables.';\n",
              "          element.innerHTML = '';\n",
              "          dataTable['output_type'] = 'display_data';\n",
              "          await google.colab.output.renderOutput(dataTable, element);\n",
              "          const docLink = document.createElement('div');\n",
              "          docLink.innerHTML = docLinkHtml;\n",
              "          element.appendChild(docLink);\n",
              "        }\n",
              "      </script>\n",
              "    </div>\n",
              "  </div>\n"
            ]
          },
          "metadata": {},
          "execution_count": 59
        }
      ],
      "source": [
        "#Tabla de dimension de categorias\n",
        "df_cat = df_NYork.loc[:, ['business_id','categories']]\n",
        "df_cat.head(3)"
      ]
    },
    {
      "cell_type": "code",
      "execution_count": null,
      "metadata": {
        "id": "OBmHnZD8-SPp"
      },
      "outputs": [],
      "source": [
        "# Dividir los valores de la columna \"categories\" por coma y expandirlos en filas\n",
        "df_cat['categories'] = df_cat['categories'].str.split(',')\n",
        "df_cat = df_cat[['business_id', 'categories']].explode('categories')"
      ]
    },
    {
      "cell_type": "code",
      "execution_count": null,
      "metadata": {
        "id": "BrAgUjXb-SPq"
      },
      "outputs": [],
      "source": [
        "#Creamos un array con las categorias unicas\n",
        "categorias = df_cat[\"categories\"].unique()\n",
        "#Creamos la tabla de dimension de categorias de yelp\n",
        "df_categorias = pd.DataFrame(categorias, columns=[\"Descripcion\"])\n",
        "df_categorias['IdCategoria'] = df_categorias.index"
      ]
    },
    {
      "cell_type": "code",
      "source": [
        "df_cat"
      ],
      "metadata": {
        "colab": {
          "base_uri": "https://localhost:8080/",
          "height": 424
        },
        "id": "GRAFHKvM7Gvv",
        "outputId": "e74b07d8-1c57-41cd-b4be-e9c40b283430"
      },
      "execution_count": null,
      "outputs": [
        {
          "output_type": "execute_result",
          "data": {
            "text/plain": [
              "                   business_id  \\\n",
              "45      wghnIlMb_i5U46HMBGx9ig   \n",
              "76      -4dYswJy7SPcbcERvitmIg   \n",
              "86      sE6jSnvMts_MAn-b4OkMAw   \n",
              "91      nUqrF-h9S7myCcvNDecOvw   \n",
              "114     4dVrWc4Nhuw9apfk9BWEcA   \n",
              "...                        ...   \n",
              "150285  fWeWzB9STxcX40AgSEQVcw   \n",
              "150302  DMYTGaunth3BMi7SmQEdvQ   \n",
              "150311  S-Jn_08NWHhdgryQgzDCFA   \n",
              "150317  Q7JYAMNzI1IpUd2edflmTA   \n",
              "150340  hn9Toz3s-Ei3uZPt7esExA   \n",
              "\n",
              "                                               categories  \n",
              "45                                   Restaurants, Chinese  \n",
              "76                                          Food, Grocery  \n",
              "86          Pet Groomers, Pet Sitting, Pets, Pet Services  \n",
              "91                         Towing, Automotive, Body Shops  \n",
              "114     Grocery, Food, Shopping, Fashion, Drugstores, ...  \n",
              "...                                                   ...  \n",
              "150285  Parks, Zoos, Active Life, Botanical Gardens, M...  \n",
              "150302  Pet Groomers, Pets, Pet Services, Pet Boarding...  \n",
              "150311                         Nail Salons, Beauty & Spas  \n",
              "150317  Men's Hair Salons, Hair Salons, Barbers, Beaut...  \n",
              "150340                        Middle Eastern, Restaurants  \n",
              "\n",
              "[8535 rows x 2 columns]"
            ],
            "text/html": [
              "\n",
              "\n",
              "  <div id=\"df-98055169-cf9f-4802-8881-b329fefe0202\">\n",
              "    <div class=\"colab-df-container\">\n",
              "      <div>\n",
              "<style scoped>\n",
              "    .dataframe tbody tr th:only-of-type {\n",
              "        vertical-align: middle;\n",
              "    }\n",
              "\n",
              "    .dataframe tbody tr th {\n",
              "        vertical-align: top;\n",
              "    }\n",
              "\n",
              "    .dataframe thead th {\n",
              "        text-align: right;\n",
              "    }\n",
              "</style>\n",
              "<table border=\"1\" class=\"dataframe\">\n",
              "  <thead>\n",
              "    <tr style=\"text-align: right;\">\n",
              "      <th></th>\n",
              "      <th>business_id</th>\n",
              "      <th>categories</th>\n",
              "    </tr>\n",
              "  </thead>\n",
              "  <tbody>\n",
              "    <tr>\n",
              "      <th>45</th>\n",
              "      <td>wghnIlMb_i5U46HMBGx9ig</td>\n",
              "      <td>Restaurants, Chinese</td>\n",
              "    </tr>\n",
              "    <tr>\n",
              "      <th>76</th>\n",
              "      <td>-4dYswJy7SPcbcERvitmIg</td>\n",
              "      <td>Food, Grocery</td>\n",
              "    </tr>\n",
              "    <tr>\n",
              "      <th>86</th>\n",
              "      <td>sE6jSnvMts_MAn-b4OkMAw</td>\n",
              "      <td>Pet Groomers, Pet Sitting, Pets, Pet Services</td>\n",
              "    </tr>\n",
              "    <tr>\n",
              "      <th>91</th>\n",
              "      <td>nUqrF-h9S7myCcvNDecOvw</td>\n",
              "      <td>Towing, Automotive, Body Shops</td>\n",
              "    </tr>\n",
              "    <tr>\n",
              "      <th>114</th>\n",
              "      <td>4dVrWc4Nhuw9apfk9BWEcA</td>\n",
              "      <td>Grocery, Food, Shopping, Fashion, Drugstores, ...</td>\n",
              "    </tr>\n",
              "    <tr>\n",
              "      <th>...</th>\n",
              "      <td>...</td>\n",
              "      <td>...</td>\n",
              "    </tr>\n",
              "    <tr>\n",
              "      <th>150285</th>\n",
              "      <td>fWeWzB9STxcX40AgSEQVcw</td>\n",
              "      <td>Parks, Zoos, Active Life, Botanical Gardens, M...</td>\n",
              "    </tr>\n",
              "    <tr>\n",
              "      <th>150302</th>\n",
              "      <td>DMYTGaunth3BMi7SmQEdvQ</td>\n",
              "      <td>Pet Groomers, Pets, Pet Services, Pet Boarding...</td>\n",
              "    </tr>\n",
              "    <tr>\n",
              "      <th>150311</th>\n",
              "      <td>S-Jn_08NWHhdgryQgzDCFA</td>\n",
              "      <td>Nail Salons, Beauty &amp; Spas</td>\n",
              "    </tr>\n",
              "    <tr>\n",
              "      <th>150317</th>\n",
              "      <td>Q7JYAMNzI1IpUd2edflmTA</td>\n",
              "      <td>Men's Hair Salons, Hair Salons, Barbers, Beaut...</td>\n",
              "    </tr>\n",
              "    <tr>\n",
              "      <th>150340</th>\n",
              "      <td>hn9Toz3s-Ei3uZPt7esExA</td>\n",
              "      <td>Middle Eastern, Restaurants</td>\n",
              "    </tr>\n",
              "  </tbody>\n",
              "</table>\n",
              "<p>8535 rows × 2 columns</p>\n",
              "</div>\n",
              "      <button class=\"colab-df-convert\" onclick=\"convertToInteractive('df-98055169-cf9f-4802-8881-b329fefe0202')\"\n",
              "              title=\"Convert this dataframe to an interactive table.\"\n",
              "              style=\"display:none;\">\n",
              "\n",
              "  <svg xmlns=\"http://www.w3.org/2000/svg\" height=\"24px\"viewBox=\"0 0 24 24\"\n",
              "       width=\"24px\">\n",
              "    <path d=\"M0 0h24v24H0V0z\" fill=\"none\"/>\n",
              "    <path d=\"M18.56 5.44l.94 2.06.94-2.06 2.06-.94-2.06-.94-.94-2.06-.94 2.06-2.06.94zm-11 1L8.5 8.5l.94-2.06 2.06-.94-2.06-.94L8.5 2.5l-.94 2.06-2.06.94zm10 10l.94 2.06.94-2.06 2.06-.94-2.06-.94-.94-2.06-.94 2.06-2.06.94z\"/><path d=\"M17.41 7.96l-1.37-1.37c-.4-.4-.92-.59-1.43-.59-.52 0-1.04.2-1.43.59L10.3 9.45l-7.72 7.72c-.78.78-.78 2.05 0 2.83L4 21.41c.39.39.9.59 1.41.59.51 0 1.02-.2 1.41-.59l7.78-7.78 2.81-2.81c.8-.78.8-2.07 0-2.86zM5.41 20L4 18.59l7.72-7.72 1.47 1.35L5.41 20z\"/>\n",
              "  </svg>\n",
              "      </button>\n",
              "\n",
              "\n",
              "\n",
              "    <div id=\"df-d7b512b2-85cb-4938-bf9d-a98a520186c3\">\n",
              "      <button class=\"colab-df-quickchart\" onclick=\"quickchart('df-d7b512b2-85cb-4938-bf9d-a98a520186c3')\"\n",
              "              title=\"Suggest charts.\"\n",
              "              style=\"display:none;\">\n",
              "\n",
              "<svg xmlns=\"http://www.w3.org/2000/svg\" height=\"24px\"viewBox=\"0 0 24 24\"\n",
              "     width=\"24px\">\n",
              "    <g>\n",
              "        <path d=\"M19 3H5c-1.1 0-2 .9-2 2v14c0 1.1.9 2 2 2h14c1.1 0 2-.9 2-2V5c0-1.1-.9-2-2-2zM9 17H7v-7h2v7zm4 0h-2V7h2v10zm4 0h-2v-4h2v4z\"/>\n",
              "    </g>\n",
              "</svg>\n",
              "      </button>\n",
              "    </div>\n",
              "\n",
              "<style>\n",
              "  .colab-df-quickchart {\n",
              "    background-color: #E8F0FE;\n",
              "    border: none;\n",
              "    border-radius: 50%;\n",
              "    cursor: pointer;\n",
              "    display: none;\n",
              "    fill: #1967D2;\n",
              "    height: 32px;\n",
              "    padding: 0 0 0 0;\n",
              "    width: 32px;\n",
              "  }\n",
              "\n",
              "  .colab-df-quickchart:hover {\n",
              "    background-color: #E2EBFA;\n",
              "    box-shadow: 0px 1px 2px rgba(60, 64, 67, 0.3), 0px 1px 3px 1px rgba(60, 64, 67, 0.15);\n",
              "    fill: #174EA6;\n",
              "  }\n",
              "\n",
              "  [theme=dark] .colab-df-quickchart {\n",
              "    background-color: #3B4455;\n",
              "    fill: #D2E3FC;\n",
              "  }\n",
              "\n",
              "  [theme=dark] .colab-df-quickchart:hover {\n",
              "    background-color: #434B5C;\n",
              "    box-shadow: 0px 1px 3px 1px rgba(0, 0, 0, 0.15);\n",
              "    filter: drop-shadow(0px 1px 2px rgba(0, 0, 0, 0.3));\n",
              "    fill: #FFFFFF;\n",
              "  }\n",
              "</style>\n",
              "\n",
              "    <script>\n",
              "      async function quickchart(key) {\n",
              "        const containerElement = document.querySelector('#' + key);\n",
              "        const charts = await google.colab.kernel.invokeFunction(\n",
              "            'suggestCharts', [key], {});\n",
              "      }\n",
              "    </script>\n",
              "\n",
              "      <script>\n",
              "\n",
              "function displayQuickchartButton(domScope) {\n",
              "  let quickchartButtonEl =\n",
              "    domScope.querySelector('#df-d7b512b2-85cb-4938-bf9d-a98a520186c3 button.colab-df-quickchart');\n",
              "  quickchartButtonEl.style.display =\n",
              "    google.colab.kernel.accessAllowed ? 'block' : 'none';\n",
              "}\n",
              "\n",
              "        displayQuickchartButton(document);\n",
              "      </script>\n",
              "      <style>\n",
              "    .colab-df-container {\n",
              "      display:flex;\n",
              "      flex-wrap:wrap;\n",
              "      gap: 12px;\n",
              "    }\n",
              "\n",
              "    .colab-df-convert {\n",
              "      background-color: #E8F0FE;\n",
              "      border: none;\n",
              "      border-radius: 50%;\n",
              "      cursor: pointer;\n",
              "      display: none;\n",
              "      fill: #1967D2;\n",
              "      height: 32px;\n",
              "      padding: 0 0 0 0;\n",
              "      width: 32px;\n",
              "    }\n",
              "\n",
              "    .colab-df-convert:hover {\n",
              "      background-color: #E2EBFA;\n",
              "      box-shadow: 0px 1px 2px rgba(60, 64, 67, 0.3), 0px 1px 3px 1px rgba(60, 64, 67, 0.15);\n",
              "      fill: #174EA6;\n",
              "    }\n",
              "\n",
              "    [theme=dark] .colab-df-convert {\n",
              "      background-color: #3B4455;\n",
              "      fill: #D2E3FC;\n",
              "    }\n",
              "\n",
              "    [theme=dark] .colab-df-convert:hover {\n",
              "      background-color: #434B5C;\n",
              "      box-shadow: 0px 1px 3px 1px rgba(0, 0, 0, 0.15);\n",
              "      filter: drop-shadow(0px 1px 2px rgba(0, 0, 0, 0.3));\n",
              "      fill: #FFFFFF;\n",
              "    }\n",
              "  </style>\n",
              "\n",
              "      <script>\n",
              "        const buttonEl =\n",
              "          document.querySelector('#df-98055169-cf9f-4802-8881-b329fefe0202 button.colab-df-convert');\n",
              "        buttonEl.style.display =\n",
              "          google.colab.kernel.accessAllowed ? 'block' : 'none';\n",
              "\n",
              "        async function convertToInteractive(key) {\n",
              "          const element = document.querySelector('#df-98055169-cf9f-4802-8881-b329fefe0202');\n",
              "          const dataTable =\n",
              "            await google.colab.kernel.invokeFunction('convertToInteractive',\n",
              "                                                     [key], {});\n",
              "          if (!dataTable) return;\n",
              "\n",
              "          const docLinkHtml = 'Like what you see? Visit the ' +\n",
              "            '<a target=\"_blank\" href=https://colab.research.google.com/notebooks/data_table.ipynb>data table notebook</a>'\n",
              "            + ' to learn more about interactive tables.';\n",
              "          element.innerHTML = '';\n",
              "          dataTable['output_type'] = 'display_data';\n",
              "          await google.colab.output.renderOutput(dataTable, element);\n",
              "          const docLink = document.createElement('div');\n",
              "          docLink.innerHTML = docLinkHtml;\n",
              "          element.appendChild(docLink);\n",
              "        }\n",
              "      </script>\n",
              "    </div>\n",
              "  </div>\n"
            ]
          },
          "metadata": {},
          "execution_count": 65
        }
      ]
    },
    {
      "cell_type": "markdown",
      "metadata": {
        "id": "df1ZKuDM-SPv"
      },
      "source": [
        "**Carga en la tabla de dimensiones de categorias disponibles de los locales de la franquicia McDonald's en el estado de New York**"
      ]
    },
    {
      "cell_type": "code",
      "source": [
        "df_categorias.head(5)"
      ],
      "metadata": {
        "id": "WSHvPuW9gEG8"
      },
      "execution_count": null,
      "outputs": []
    },
    {
      "cell_type": "code",
      "execution_count": null,
      "metadata": {
        "id": "N5jGLw2e-SPw"
      },
      "outputs": [],
      "source": [
        "df_categorias.to_csv(\"Categorias_Yelp.csv\")"
      ]
    },
    {
      "cell_type": "markdown",
      "metadata": {
        "id": "nuwCLI3H-SQB"
      },
      "source": [
        "**Generamos tabla de dimension atributos de locales de franquicia en el estado New York**"
      ]
    },
    {
      "cell_type": "code",
      "execution_count": null,
      "metadata": {
        "id": "Km76GyqD-SQC"
      },
      "outputs": [],
      "source": [
        "df_atribute = df_NYork.loc[:, [\"business_id\",'attributes']]"
      ]
    },
    {
      "cell_type": "markdown",
      "metadata": {
        "id": "5nUwGLTo-SQD"
      },
      "source": [
        "**Dividimos los elementos de la columna 'attributes'**"
      ]
    },
    {
      "cell_type": "code",
      "execution_count": null,
      "metadata": {
        "id": "Pfi4zUx7-SQE"
      },
      "outputs": [],
      "source": [
        "for index, i in enumerate(df_atribute['attributes']):\n",
        "    if isinstance(i,str):\n",
        "       df_atribute['attributes'][index]= i[1:-1].split(',')"
      ]
    },
    {
      "cell_type": "markdown",
      "metadata": {
        "id": "Mw-XNvp_-SQt"
      },
      "source": [
        "**Expandimos la columna 'attributes' en filas separadas, manteniendo los valores correspondientes de la columna 'business_id'.**"
      ]
    },
    {
      "cell_type": "code",
      "execution_count": null,
      "metadata": {
        "id": "Y0wP4YbZ-SQv"
      },
      "outputs": [],
      "source": [
        "df_atribute = df_atribute[['business_id', 'attributes']].explode('attributes')"
      ]
    },
    {
      "cell_type": "markdown",
      "metadata": {
        "id": "RPCN7HLx-SQw"
      },
      "source": [
        "**Se eliminan los corchetes y comillas dobles de la columna 'attributes'**"
      ]
    },
    {
      "cell_type": "code",
      "execution_count": null,
      "metadata": {
        "id": "OqQC2RYO-SQx",
        "colab": {
          "base_uri": "https://localhost:8080/"
        },
        "outputId": "4a141dc5-2558-49e5-abde-d616b74ab915"
      },
      "outputs": [
        {
          "output_type": "stream",
          "name": "stderr",
          "text": [
            "<ipython-input-70-467e46ee6ade>:1: FutureWarning: The default value of regex will change from True to False in a future version. In addition, single character regular expressions will *not* be treated as literal strings when regex=True.\n",
            "  df_atribute['attributes'] = df_atribute['attributes'].str.replace('{', '').str.replace('}', '')\n"
          ]
        }
      ],
      "source": [
        "df_atribute['attributes'] = df_atribute['attributes'].str.replace('{', '').str.replace('}', '')\n",
        "df_atribute['attributes'] = df_atribute['attributes'].str.replace('\"', '')"
      ]
    },
    {
      "cell_type": "code",
      "source": [
        "df_atribute.head(5)"
      ],
      "metadata": {
        "colab": {
          "base_uri": "https://localhost:8080/",
          "height": 206
        },
        "id": "wQAYvZeHJvyy",
        "outputId": "1eb8cd2c-c32d-4542-e3a0-f815c16f35d5"
      },
      "execution_count": null,
      "outputs": [
        {
          "output_type": "execute_result",
          "data": {
            "text/plain": [
              "               business_id           attributes\n",
              "45  wghnIlMb_i5U46HMBGx9ig                 WiFi\n",
              "45  wghnIlMb_i5U46HMBGx9ig      BusinessParking\n",
              "45  wghnIlMb_i5U46HMBGx9ig                HasTV\n",
              "45  wghnIlMb_i5U46HMBGx9ig              Alcohol\n",
              "45  wghnIlMb_i5U46HMBGx9ig  RestaurantsDelivery"
            ],
            "text/html": [
              "\n",
              "\n",
              "  <div id=\"df-b1a81a68-ae47-48a3-aaaf-ccb58a17d284\">\n",
              "    <div class=\"colab-df-container\">\n",
              "      <div>\n",
              "<style scoped>\n",
              "    .dataframe tbody tr th:only-of-type {\n",
              "        vertical-align: middle;\n",
              "    }\n",
              "\n",
              "    .dataframe tbody tr th {\n",
              "        vertical-align: top;\n",
              "    }\n",
              "\n",
              "    .dataframe thead th {\n",
              "        text-align: right;\n",
              "    }\n",
              "</style>\n",
              "<table border=\"1\" class=\"dataframe\">\n",
              "  <thead>\n",
              "    <tr style=\"text-align: right;\">\n",
              "      <th></th>\n",
              "      <th>business_id</th>\n",
              "      <th>attributes</th>\n",
              "    </tr>\n",
              "  </thead>\n",
              "  <tbody>\n",
              "    <tr>\n",
              "      <th>45</th>\n",
              "      <td>wghnIlMb_i5U46HMBGx9ig</td>\n",
              "      <td>WiFi</td>\n",
              "    </tr>\n",
              "    <tr>\n",
              "      <th>45</th>\n",
              "      <td>wghnIlMb_i5U46HMBGx9ig</td>\n",
              "      <td>BusinessParking</td>\n",
              "    </tr>\n",
              "    <tr>\n",
              "      <th>45</th>\n",
              "      <td>wghnIlMb_i5U46HMBGx9ig</td>\n",
              "      <td>HasTV</td>\n",
              "    </tr>\n",
              "    <tr>\n",
              "      <th>45</th>\n",
              "      <td>wghnIlMb_i5U46HMBGx9ig</td>\n",
              "      <td>Alcohol</td>\n",
              "    </tr>\n",
              "    <tr>\n",
              "      <th>45</th>\n",
              "      <td>wghnIlMb_i5U46HMBGx9ig</td>\n",
              "      <td>RestaurantsDelivery</td>\n",
              "    </tr>\n",
              "  </tbody>\n",
              "</table>\n",
              "</div>\n",
              "      <button class=\"colab-df-convert\" onclick=\"convertToInteractive('df-b1a81a68-ae47-48a3-aaaf-ccb58a17d284')\"\n",
              "              title=\"Convert this dataframe to an interactive table.\"\n",
              "              style=\"display:none;\">\n",
              "\n",
              "  <svg xmlns=\"http://www.w3.org/2000/svg\" height=\"24px\"viewBox=\"0 0 24 24\"\n",
              "       width=\"24px\">\n",
              "    <path d=\"M0 0h24v24H0V0z\" fill=\"none\"/>\n",
              "    <path d=\"M18.56 5.44l.94 2.06.94-2.06 2.06-.94-2.06-.94-.94-2.06-.94 2.06-2.06.94zm-11 1L8.5 8.5l.94-2.06 2.06-.94-2.06-.94L8.5 2.5l-.94 2.06-2.06.94zm10 10l.94 2.06.94-2.06 2.06-.94-2.06-.94-.94-2.06-.94 2.06-2.06.94z\"/><path d=\"M17.41 7.96l-1.37-1.37c-.4-.4-.92-.59-1.43-.59-.52 0-1.04.2-1.43.59L10.3 9.45l-7.72 7.72c-.78.78-.78 2.05 0 2.83L4 21.41c.39.39.9.59 1.41.59.51 0 1.02-.2 1.41-.59l7.78-7.78 2.81-2.81c.8-.78.8-2.07 0-2.86zM5.41 20L4 18.59l7.72-7.72 1.47 1.35L5.41 20z\"/>\n",
              "  </svg>\n",
              "      </button>\n",
              "\n",
              "\n",
              "\n",
              "    <div id=\"df-c73acbe2-2f0a-43b7-adab-d44760992bb7\">\n",
              "      <button class=\"colab-df-quickchart\" onclick=\"quickchart('df-c73acbe2-2f0a-43b7-adab-d44760992bb7')\"\n",
              "              title=\"Suggest charts.\"\n",
              "              style=\"display:none;\">\n",
              "\n",
              "<svg xmlns=\"http://www.w3.org/2000/svg\" height=\"24px\"viewBox=\"0 0 24 24\"\n",
              "     width=\"24px\">\n",
              "    <g>\n",
              "        <path d=\"M19 3H5c-1.1 0-2 .9-2 2v14c0 1.1.9 2 2 2h14c1.1 0 2-.9 2-2V5c0-1.1-.9-2-2-2zM9 17H7v-7h2v7zm4 0h-2V7h2v10zm4 0h-2v-4h2v4z\"/>\n",
              "    </g>\n",
              "</svg>\n",
              "      </button>\n",
              "    </div>\n",
              "\n",
              "<style>\n",
              "  .colab-df-quickchart {\n",
              "    background-color: #E8F0FE;\n",
              "    border: none;\n",
              "    border-radius: 50%;\n",
              "    cursor: pointer;\n",
              "    display: none;\n",
              "    fill: #1967D2;\n",
              "    height: 32px;\n",
              "    padding: 0 0 0 0;\n",
              "    width: 32px;\n",
              "  }\n",
              "\n",
              "  .colab-df-quickchart:hover {\n",
              "    background-color: #E2EBFA;\n",
              "    box-shadow: 0px 1px 2px rgba(60, 64, 67, 0.3), 0px 1px 3px 1px rgba(60, 64, 67, 0.15);\n",
              "    fill: #174EA6;\n",
              "  }\n",
              "\n",
              "  [theme=dark] .colab-df-quickchart {\n",
              "    background-color: #3B4455;\n",
              "    fill: #D2E3FC;\n",
              "  }\n",
              "\n",
              "  [theme=dark] .colab-df-quickchart:hover {\n",
              "    background-color: #434B5C;\n",
              "    box-shadow: 0px 1px 3px 1px rgba(0, 0, 0, 0.15);\n",
              "    filter: drop-shadow(0px 1px 2px rgba(0, 0, 0, 0.3));\n",
              "    fill: #FFFFFF;\n",
              "  }\n",
              "</style>\n",
              "\n",
              "    <script>\n",
              "      async function quickchart(key) {\n",
              "        const containerElement = document.querySelector('#' + key);\n",
              "        const charts = await google.colab.kernel.invokeFunction(\n",
              "            'suggestCharts', [key], {});\n",
              "      }\n",
              "    </script>\n",
              "\n",
              "      <script>\n",
              "\n",
              "function displayQuickchartButton(domScope) {\n",
              "  let quickchartButtonEl =\n",
              "    domScope.querySelector('#df-c73acbe2-2f0a-43b7-adab-d44760992bb7 button.colab-df-quickchart');\n",
              "  quickchartButtonEl.style.display =\n",
              "    google.colab.kernel.accessAllowed ? 'block' : 'none';\n",
              "}\n",
              "\n",
              "        displayQuickchartButton(document);\n",
              "      </script>\n",
              "      <style>\n",
              "    .colab-df-container {\n",
              "      display:flex;\n",
              "      flex-wrap:wrap;\n",
              "      gap: 12px;\n",
              "    }\n",
              "\n",
              "    .colab-df-convert {\n",
              "      background-color: #E8F0FE;\n",
              "      border: none;\n",
              "      border-radius: 50%;\n",
              "      cursor: pointer;\n",
              "      display: none;\n",
              "      fill: #1967D2;\n",
              "      height: 32px;\n",
              "      padding: 0 0 0 0;\n",
              "      width: 32px;\n",
              "    }\n",
              "\n",
              "    .colab-df-convert:hover {\n",
              "      background-color: #E2EBFA;\n",
              "      box-shadow: 0px 1px 2px rgba(60, 64, 67, 0.3), 0px 1px 3px 1px rgba(60, 64, 67, 0.15);\n",
              "      fill: #174EA6;\n",
              "    }\n",
              "\n",
              "    [theme=dark] .colab-df-convert {\n",
              "      background-color: #3B4455;\n",
              "      fill: #D2E3FC;\n",
              "    }\n",
              "\n",
              "    [theme=dark] .colab-df-convert:hover {\n",
              "      background-color: #434B5C;\n",
              "      box-shadow: 0px 1px 3px 1px rgba(0, 0, 0, 0.15);\n",
              "      filter: drop-shadow(0px 1px 2px rgba(0, 0, 0, 0.3));\n",
              "      fill: #FFFFFF;\n",
              "    }\n",
              "  </style>\n",
              "\n",
              "      <script>\n",
              "        const buttonEl =\n",
              "          document.querySelector('#df-b1a81a68-ae47-48a3-aaaf-ccb58a17d284 button.colab-df-convert');\n",
              "        buttonEl.style.display =\n",
              "          google.colab.kernel.accessAllowed ? 'block' : 'none';\n",
              "\n",
              "        async function convertToInteractive(key) {\n",
              "          const element = document.querySelector('#df-b1a81a68-ae47-48a3-aaaf-ccb58a17d284');\n",
              "          const dataTable =\n",
              "            await google.colab.kernel.invokeFunction('convertToInteractive',\n",
              "                                                     [key], {});\n",
              "          if (!dataTable) return;\n",
              "\n",
              "          const docLinkHtml = 'Like what you see? Visit the ' +\n",
              "            '<a target=\"_blank\" href=https://colab.research.google.com/notebooks/data_table.ipynb>data table notebook</a>'\n",
              "            + ' to learn more about interactive tables.';\n",
              "          element.innerHTML = '';\n",
              "          dataTable['output_type'] = 'display_data';\n",
              "          await google.colab.output.renderOutput(dataTable, element);\n",
              "          const docLink = document.createElement('div');\n",
              "          docLink.innerHTML = docLinkHtml;\n",
              "          element.appendChild(docLink);\n",
              "        }\n",
              "      </script>\n",
              "    </div>\n",
              "  </div>\n"
            ]
          },
          "metadata": {},
          "execution_count": 79
        }
      ]
    },
    {
      "cell_type": "markdown",
      "source": [
        "**Creacion de tabla con business_id mas lista de atributos por negocio en el estado de New York**"
      ],
      "metadata": {
        "id": "dZOdZwOBPI5i"
      }
    },
    {
      "cell_type": "code",
      "source": [
        "df_atribute.to_csv(\"BusinessAtributos_Yelp.csv\")"
      ],
      "metadata": {
        "id": "wiDDKweOKYhM"
      },
      "execution_count": null,
      "outputs": []
    },
    {
      "cell_type": "markdown",
      "metadata": {
        "id": "R8Thky8Q-SQ1"
      },
      "source": [
        "**Creacion de DataFrame que contiene los valores únicos de la columna 'attributes', junto con una columna de identificación.**"
      ]
    },
    {
      "cell_type": "code",
      "execution_count": null,
      "metadata": {
        "id": "W-V0QRXG-SQ2"
      },
      "outputs": [],
      "source": [
        "atributos = df_atribute[\"attributes\"].unique()\n",
        "df_atributos = pd.DataFrame(atributos, columns=[\"Descripcion\"])\n",
        "df_atributos['IdAtributos'] = df_atributos.index"
      ]
    },
    {
      "cell_type": "code",
      "source": [
        "df_atributos.head(3)"
      ],
      "metadata": {
        "colab": {
          "base_uri": "https://localhost:8080/",
          "height": 143
        },
        "id": "huOvmlX9NwmD",
        "outputId": "95d8c6eb-4b42-4a37-9f66-8b2c07303589"
      },
      "execution_count": null,
      "outputs": [
        {
          "output_type": "execute_result",
          "data": {
            "text/plain": [
              "       Descripcion  IdAtributos\n",
              "0             WiFi            0\n",
              "1  BusinessParking            1\n",
              "2            HasTV            2"
            ],
            "text/html": [
              "\n",
              "\n",
              "  <div id=\"df-2cec8e8c-1276-43d7-9e0e-7c8ef8eb6f08\">\n",
              "    <div class=\"colab-df-container\">\n",
              "      <div>\n",
              "<style scoped>\n",
              "    .dataframe tbody tr th:only-of-type {\n",
              "        vertical-align: middle;\n",
              "    }\n",
              "\n",
              "    .dataframe tbody tr th {\n",
              "        vertical-align: top;\n",
              "    }\n",
              "\n",
              "    .dataframe thead th {\n",
              "        text-align: right;\n",
              "    }\n",
              "</style>\n",
              "<table border=\"1\" class=\"dataframe\">\n",
              "  <thead>\n",
              "    <tr style=\"text-align: right;\">\n",
              "      <th></th>\n",
              "      <th>Descripcion</th>\n",
              "      <th>IdAtributos</th>\n",
              "    </tr>\n",
              "  </thead>\n",
              "  <tbody>\n",
              "    <tr>\n",
              "      <th>0</th>\n",
              "      <td>WiFi</td>\n",
              "      <td>0</td>\n",
              "    </tr>\n",
              "    <tr>\n",
              "      <th>1</th>\n",
              "      <td>BusinessParking</td>\n",
              "      <td>1</td>\n",
              "    </tr>\n",
              "    <tr>\n",
              "      <th>2</th>\n",
              "      <td>HasTV</td>\n",
              "      <td>2</td>\n",
              "    </tr>\n",
              "  </tbody>\n",
              "</table>\n",
              "</div>\n",
              "      <button class=\"colab-df-convert\" onclick=\"convertToInteractive('df-2cec8e8c-1276-43d7-9e0e-7c8ef8eb6f08')\"\n",
              "              title=\"Convert this dataframe to an interactive table.\"\n",
              "              style=\"display:none;\">\n",
              "\n",
              "  <svg xmlns=\"http://www.w3.org/2000/svg\" height=\"24px\"viewBox=\"0 0 24 24\"\n",
              "       width=\"24px\">\n",
              "    <path d=\"M0 0h24v24H0V0z\" fill=\"none\"/>\n",
              "    <path d=\"M18.56 5.44l.94 2.06.94-2.06 2.06-.94-2.06-.94-.94-2.06-.94 2.06-2.06.94zm-11 1L8.5 8.5l.94-2.06 2.06-.94-2.06-.94L8.5 2.5l-.94 2.06-2.06.94zm10 10l.94 2.06.94-2.06 2.06-.94-2.06-.94-.94-2.06-.94 2.06-2.06.94z\"/><path d=\"M17.41 7.96l-1.37-1.37c-.4-.4-.92-.59-1.43-.59-.52 0-1.04.2-1.43.59L10.3 9.45l-7.72 7.72c-.78.78-.78 2.05 0 2.83L4 21.41c.39.39.9.59 1.41.59.51 0 1.02-.2 1.41-.59l7.78-7.78 2.81-2.81c.8-.78.8-2.07 0-2.86zM5.41 20L4 18.59l7.72-7.72 1.47 1.35L5.41 20z\"/>\n",
              "  </svg>\n",
              "      </button>\n",
              "\n",
              "\n",
              "\n",
              "    <div id=\"df-1a24a46a-faa1-4265-bb86-3911751eaf78\">\n",
              "      <button class=\"colab-df-quickchart\" onclick=\"quickchart('df-1a24a46a-faa1-4265-bb86-3911751eaf78')\"\n",
              "              title=\"Suggest charts.\"\n",
              "              style=\"display:none;\">\n",
              "\n",
              "<svg xmlns=\"http://www.w3.org/2000/svg\" height=\"24px\"viewBox=\"0 0 24 24\"\n",
              "     width=\"24px\">\n",
              "    <g>\n",
              "        <path d=\"M19 3H5c-1.1 0-2 .9-2 2v14c0 1.1.9 2 2 2h14c1.1 0 2-.9 2-2V5c0-1.1-.9-2-2-2zM9 17H7v-7h2v7zm4 0h-2V7h2v10zm4 0h-2v-4h2v4z\"/>\n",
              "    </g>\n",
              "</svg>\n",
              "      </button>\n",
              "    </div>\n",
              "\n",
              "<style>\n",
              "  .colab-df-quickchart {\n",
              "    background-color: #E8F0FE;\n",
              "    border: none;\n",
              "    border-radius: 50%;\n",
              "    cursor: pointer;\n",
              "    display: none;\n",
              "    fill: #1967D2;\n",
              "    height: 32px;\n",
              "    padding: 0 0 0 0;\n",
              "    width: 32px;\n",
              "  }\n",
              "\n",
              "  .colab-df-quickchart:hover {\n",
              "    background-color: #E2EBFA;\n",
              "    box-shadow: 0px 1px 2px rgba(60, 64, 67, 0.3), 0px 1px 3px 1px rgba(60, 64, 67, 0.15);\n",
              "    fill: #174EA6;\n",
              "  }\n",
              "\n",
              "  [theme=dark] .colab-df-quickchart {\n",
              "    background-color: #3B4455;\n",
              "    fill: #D2E3FC;\n",
              "  }\n",
              "\n",
              "  [theme=dark] .colab-df-quickchart:hover {\n",
              "    background-color: #434B5C;\n",
              "    box-shadow: 0px 1px 3px 1px rgba(0, 0, 0, 0.15);\n",
              "    filter: drop-shadow(0px 1px 2px rgba(0, 0, 0, 0.3));\n",
              "    fill: #FFFFFF;\n",
              "  }\n",
              "</style>\n",
              "\n",
              "    <script>\n",
              "      async function quickchart(key) {\n",
              "        const containerElement = document.querySelector('#' + key);\n",
              "        const charts = await google.colab.kernel.invokeFunction(\n",
              "            'suggestCharts', [key], {});\n",
              "      }\n",
              "    </script>\n",
              "\n",
              "      <script>\n",
              "\n",
              "function displayQuickchartButton(domScope) {\n",
              "  let quickchartButtonEl =\n",
              "    domScope.querySelector('#df-1a24a46a-faa1-4265-bb86-3911751eaf78 button.colab-df-quickchart');\n",
              "  quickchartButtonEl.style.display =\n",
              "    google.colab.kernel.accessAllowed ? 'block' : 'none';\n",
              "}\n",
              "\n",
              "        displayQuickchartButton(document);\n",
              "      </script>\n",
              "      <style>\n",
              "    .colab-df-container {\n",
              "      display:flex;\n",
              "      flex-wrap:wrap;\n",
              "      gap: 12px;\n",
              "    }\n",
              "\n",
              "    .colab-df-convert {\n",
              "      background-color: #E8F0FE;\n",
              "      border: none;\n",
              "      border-radius: 50%;\n",
              "      cursor: pointer;\n",
              "      display: none;\n",
              "      fill: #1967D2;\n",
              "      height: 32px;\n",
              "      padding: 0 0 0 0;\n",
              "      width: 32px;\n",
              "    }\n",
              "\n",
              "    .colab-df-convert:hover {\n",
              "      background-color: #E2EBFA;\n",
              "      box-shadow: 0px 1px 2px rgba(60, 64, 67, 0.3), 0px 1px 3px 1px rgba(60, 64, 67, 0.15);\n",
              "      fill: #174EA6;\n",
              "    }\n",
              "\n",
              "    [theme=dark] .colab-df-convert {\n",
              "      background-color: #3B4455;\n",
              "      fill: #D2E3FC;\n",
              "    }\n",
              "\n",
              "    [theme=dark] .colab-df-convert:hover {\n",
              "      background-color: #434B5C;\n",
              "      box-shadow: 0px 1px 3px 1px rgba(0, 0, 0, 0.15);\n",
              "      filter: drop-shadow(0px 1px 2px rgba(0, 0, 0, 0.3));\n",
              "      fill: #FFFFFF;\n",
              "    }\n",
              "  </style>\n",
              "\n",
              "      <script>\n",
              "        const buttonEl =\n",
              "          document.querySelector('#df-2cec8e8c-1276-43d7-9e0e-7c8ef8eb6f08 button.colab-df-convert');\n",
              "        buttonEl.style.display =\n",
              "          google.colab.kernel.accessAllowed ? 'block' : 'none';\n",
              "\n",
              "        async function convertToInteractive(key) {\n",
              "          const element = document.querySelector('#df-2cec8e8c-1276-43d7-9e0e-7c8ef8eb6f08');\n",
              "          const dataTable =\n",
              "            await google.colab.kernel.invokeFunction('convertToInteractive',\n",
              "                                                     [key], {});\n",
              "          if (!dataTable) return;\n",
              "\n",
              "          const docLinkHtml = 'Like what you see? Visit the ' +\n",
              "            '<a target=\"_blank\" href=https://colab.research.google.com/notebooks/data_table.ipynb>data table notebook</a>'\n",
              "            + ' to learn more about interactive tables.';\n",
              "          element.innerHTML = '';\n",
              "          dataTable['output_type'] = 'display_data';\n",
              "          await google.colab.output.renderOutput(dataTable, element);\n",
              "          const docLink = document.createElement('div');\n",
              "          docLink.innerHTML = docLinkHtml;\n",
              "          element.appendChild(docLink);\n",
              "        }\n",
              "      </script>\n",
              "    </div>\n",
              "  </div>\n"
            ]
          },
          "metadata": {},
          "execution_count": 77
        }
      ]
    },
    {
      "cell_type": "markdown",
      "metadata": {
        "id": "H3ss5uYV-SQ4"
      },
      "source": [
        "**Carga de tabla de atributos unicos en los locales listados en el estado de New York**"
      ]
    },
    {
      "cell_type": "code",
      "execution_count": null,
      "metadata": {
        "id": "wHYTy3Ni-SQ5"
      },
      "outputs": [],
      "source": [
        "df_atributos.to_csv(\"Atributos_Yelp.csv\")"
      ]
    },
    {
      "cell_type": "markdown",
      "metadata": {
        "id": "S-ZAkz4p-SQ8"
      },
      "source": [
        "**Creamos la tabla de dimensiones \"Hours\" a partir de aux**"
      ]
    },
    {
      "cell_type": "code",
      "execution_count": null,
      "metadata": {
        "id": "jzzLvvwW-SQ9"
      },
      "outputs": [],
      "source": [
        "df_hours = df_NYork.loc[:, [\"business_id\",'hours']]"
      ]
    },
    {
      "cell_type": "code",
      "execution_count": null,
      "metadata": {
        "id": "0RSIryrh-SQ-",
        "colab": {
          "base_uri": "https://localhost:8080/",
          "height": 143
        },
        "outputId": "d0fe0394-250d-4df5-f7be-52eefe100b91"
      },
      "outputs": [
        {
          "output_type": "execute_result",
          "data": {
            "text/plain": [
              "               business_id                                              hours\n",
              "45  wghnIlMb_i5U46HMBGx9ig  {'Monday': '11:0-21:0', 'Tuesday': '11:0-21:0'...\n",
              "76  -4dYswJy7SPcbcERvitmIg  {'Monday': '6:0-1:0', 'Tuesday': '6:0-1:0', 'W...\n",
              "86  sE6jSnvMts_MAn-b4OkMAw  {'Monday': '8:0-16:0', 'Tuesday': '8:0-16:0', ..."
            ],
            "text/html": [
              "\n",
              "\n",
              "  <div id=\"df-ffe57027-d647-4af8-a05e-7c680f03dd48\">\n",
              "    <div class=\"colab-df-container\">\n",
              "      <div>\n",
              "<style scoped>\n",
              "    .dataframe tbody tr th:only-of-type {\n",
              "        vertical-align: middle;\n",
              "    }\n",
              "\n",
              "    .dataframe tbody tr th {\n",
              "        vertical-align: top;\n",
              "    }\n",
              "\n",
              "    .dataframe thead th {\n",
              "        text-align: right;\n",
              "    }\n",
              "</style>\n",
              "<table border=\"1\" class=\"dataframe\">\n",
              "  <thead>\n",
              "    <tr style=\"text-align: right;\">\n",
              "      <th></th>\n",
              "      <th>business_id</th>\n",
              "      <th>hours</th>\n",
              "    </tr>\n",
              "  </thead>\n",
              "  <tbody>\n",
              "    <tr>\n",
              "      <th>45</th>\n",
              "      <td>wghnIlMb_i5U46HMBGx9ig</td>\n",
              "      <td>{'Monday': '11:0-21:0', 'Tuesday': '11:0-21:0'...</td>\n",
              "    </tr>\n",
              "    <tr>\n",
              "      <th>76</th>\n",
              "      <td>-4dYswJy7SPcbcERvitmIg</td>\n",
              "      <td>{'Monday': '6:0-1:0', 'Tuesday': '6:0-1:0', 'W...</td>\n",
              "    </tr>\n",
              "    <tr>\n",
              "      <th>86</th>\n",
              "      <td>sE6jSnvMts_MAn-b4OkMAw</td>\n",
              "      <td>{'Monday': '8:0-16:0', 'Tuesday': '8:0-16:0', ...</td>\n",
              "    </tr>\n",
              "  </tbody>\n",
              "</table>\n",
              "</div>\n",
              "      <button class=\"colab-df-convert\" onclick=\"convertToInteractive('df-ffe57027-d647-4af8-a05e-7c680f03dd48')\"\n",
              "              title=\"Convert this dataframe to an interactive table.\"\n",
              "              style=\"display:none;\">\n",
              "\n",
              "  <svg xmlns=\"http://www.w3.org/2000/svg\" height=\"24px\"viewBox=\"0 0 24 24\"\n",
              "       width=\"24px\">\n",
              "    <path d=\"M0 0h24v24H0V0z\" fill=\"none\"/>\n",
              "    <path d=\"M18.56 5.44l.94 2.06.94-2.06 2.06-.94-2.06-.94-.94-2.06-.94 2.06-2.06.94zm-11 1L8.5 8.5l.94-2.06 2.06-.94-2.06-.94L8.5 2.5l-.94 2.06-2.06.94zm10 10l.94 2.06.94-2.06 2.06-.94-2.06-.94-.94-2.06-.94 2.06-2.06.94z\"/><path d=\"M17.41 7.96l-1.37-1.37c-.4-.4-.92-.59-1.43-.59-.52 0-1.04.2-1.43.59L10.3 9.45l-7.72 7.72c-.78.78-.78 2.05 0 2.83L4 21.41c.39.39.9.59 1.41.59.51 0 1.02-.2 1.41-.59l7.78-7.78 2.81-2.81c.8-.78.8-2.07 0-2.86zM5.41 20L4 18.59l7.72-7.72 1.47 1.35L5.41 20z\"/>\n",
              "  </svg>\n",
              "      </button>\n",
              "\n",
              "\n",
              "\n",
              "    <div id=\"df-d7faaf75-fb08-4806-8b45-85a29e1cc32a\">\n",
              "      <button class=\"colab-df-quickchart\" onclick=\"quickchart('df-d7faaf75-fb08-4806-8b45-85a29e1cc32a')\"\n",
              "              title=\"Suggest charts.\"\n",
              "              style=\"display:none;\">\n",
              "\n",
              "<svg xmlns=\"http://www.w3.org/2000/svg\" height=\"24px\"viewBox=\"0 0 24 24\"\n",
              "     width=\"24px\">\n",
              "    <g>\n",
              "        <path d=\"M19 3H5c-1.1 0-2 .9-2 2v14c0 1.1.9 2 2 2h14c1.1 0 2-.9 2-2V5c0-1.1-.9-2-2-2zM9 17H7v-7h2v7zm4 0h-2V7h2v10zm4 0h-2v-4h2v4z\"/>\n",
              "    </g>\n",
              "</svg>\n",
              "      </button>\n",
              "    </div>\n",
              "\n",
              "<style>\n",
              "  .colab-df-quickchart {\n",
              "    background-color: #E8F0FE;\n",
              "    border: none;\n",
              "    border-radius: 50%;\n",
              "    cursor: pointer;\n",
              "    display: none;\n",
              "    fill: #1967D2;\n",
              "    height: 32px;\n",
              "    padding: 0 0 0 0;\n",
              "    width: 32px;\n",
              "  }\n",
              "\n",
              "  .colab-df-quickchart:hover {\n",
              "    background-color: #E2EBFA;\n",
              "    box-shadow: 0px 1px 2px rgba(60, 64, 67, 0.3), 0px 1px 3px 1px rgba(60, 64, 67, 0.15);\n",
              "    fill: #174EA6;\n",
              "  }\n",
              "\n",
              "  [theme=dark] .colab-df-quickchart {\n",
              "    background-color: #3B4455;\n",
              "    fill: #D2E3FC;\n",
              "  }\n",
              "\n",
              "  [theme=dark] .colab-df-quickchart:hover {\n",
              "    background-color: #434B5C;\n",
              "    box-shadow: 0px 1px 3px 1px rgba(0, 0, 0, 0.15);\n",
              "    filter: drop-shadow(0px 1px 2px rgba(0, 0, 0, 0.3));\n",
              "    fill: #FFFFFF;\n",
              "  }\n",
              "</style>\n",
              "\n",
              "    <script>\n",
              "      async function quickchart(key) {\n",
              "        const containerElement = document.querySelector('#' + key);\n",
              "        const charts = await google.colab.kernel.invokeFunction(\n",
              "            'suggestCharts', [key], {});\n",
              "      }\n",
              "    </script>\n",
              "\n",
              "      <script>\n",
              "\n",
              "function displayQuickchartButton(domScope) {\n",
              "  let quickchartButtonEl =\n",
              "    domScope.querySelector('#df-d7faaf75-fb08-4806-8b45-85a29e1cc32a button.colab-df-quickchart');\n",
              "  quickchartButtonEl.style.display =\n",
              "    google.colab.kernel.accessAllowed ? 'block' : 'none';\n",
              "}\n",
              "\n",
              "        displayQuickchartButton(document);\n",
              "      </script>\n",
              "      <style>\n",
              "    .colab-df-container {\n",
              "      display:flex;\n",
              "      flex-wrap:wrap;\n",
              "      gap: 12px;\n",
              "    }\n",
              "\n",
              "    .colab-df-convert {\n",
              "      background-color: #E8F0FE;\n",
              "      border: none;\n",
              "      border-radius: 50%;\n",
              "      cursor: pointer;\n",
              "      display: none;\n",
              "      fill: #1967D2;\n",
              "      height: 32px;\n",
              "      padding: 0 0 0 0;\n",
              "      width: 32px;\n",
              "    }\n",
              "\n",
              "    .colab-df-convert:hover {\n",
              "      background-color: #E2EBFA;\n",
              "      box-shadow: 0px 1px 2px rgba(60, 64, 67, 0.3), 0px 1px 3px 1px rgba(60, 64, 67, 0.15);\n",
              "      fill: #174EA6;\n",
              "    }\n",
              "\n",
              "    [theme=dark] .colab-df-convert {\n",
              "      background-color: #3B4455;\n",
              "      fill: #D2E3FC;\n",
              "    }\n",
              "\n",
              "    [theme=dark] .colab-df-convert:hover {\n",
              "      background-color: #434B5C;\n",
              "      box-shadow: 0px 1px 3px 1px rgba(0, 0, 0, 0.15);\n",
              "      filter: drop-shadow(0px 1px 2px rgba(0, 0, 0, 0.3));\n",
              "      fill: #FFFFFF;\n",
              "    }\n",
              "  </style>\n",
              "\n",
              "      <script>\n",
              "        const buttonEl =\n",
              "          document.querySelector('#df-ffe57027-d647-4af8-a05e-7c680f03dd48 button.colab-df-convert');\n",
              "        buttonEl.style.display =\n",
              "          google.colab.kernel.accessAllowed ? 'block' : 'none';\n",
              "\n",
              "        async function convertToInteractive(key) {\n",
              "          const element = document.querySelector('#df-ffe57027-d647-4af8-a05e-7c680f03dd48');\n",
              "          const dataTable =\n",
              "            await google.colab.kernel.invokeFunction('convertToInteractive',\n",
              "                                                     [key], {});\n",
              "          if (!dataTable) return;\n",
              "\n",
              "          const docLinkHtml = 'Like what you see? Visit the ' +\n",
              "            '<a target=\"_blank\" href=https://colab.research.google.com/notebooks/data_table.ipynb>data table notebook</a>'\n",
              "            + ' to learn more about interactive tables.';\n",
              "          element.innerHTML = '';\n",
              "          dataTable['output_type'] = 'display_data';\n",
              "          await google.colab.output.renderOutput(dataTable, element);\n",
              "          const docLink = document.createElement('div');\n",
              "          docLink.innerHTML = docLinkHtml;\n",
              "          element.appendChild(docLink);\n",
              "        }\n",
              "      </script>\n",
              "    </div>\n",
              "  </div>\n"
            ]
          },
          "metadata": {},
          "execution_count": 83
        }
      ],
      "source": [
        "df_hours.head(3)"
      ]
    },
    {
      "cell_type": "markdown",
      "metadata": {
        "id": "0U5fBj_k-SRD"
      },
      "source": [
        "**Exportamos la tabla de Hours**"
      ]
    },
    {
      "cell_type": "code",
      "execution_count": null,
      "metadata": {
        "id": "kObAxFhx-SRF"
      },
      "outputs": [],
      "source": [
        "df_hours.to_csv(\"Datasets/BusinessHoras.csv\")"
      ]
    },
    {
      "cell_type": "markdown",
      "metadata": {
        "id": "-vCBGjL3-SRH"
      },
      "source": [
        "**Creamos el dataframe df_Hour_detalle**"
      ]
    },
    {
      "cell_type": "code",
      "execution_count": null,
      "metadata": {
        "id": "2r5GEMrc-SRK"
      },
      "outputs": [],
      "source": [
        "df_hour_detalle=df_hours[['business_id','hours']]"
      ]
    },
    {
      "cell_type": "markdown",
      "metadata": {
        "id": "X0RvTquF-SRM"
      },
      "source": [
        "**Desglosamos los diferentes horarios en diferentes filas para cada valor de forma individual**"
      ]
    },
    {
      "cell_type": "code",
      "execution_count": null,
      "metadata": {
        "id": "XcGTpN39-SRO"
      },
      "outputs": [],
      "source": [
        "df_hour_detalle=df_hour_detalle[['business_id','hours']].explode('hours')"
      ]
    },
    {
      "cell_type": "markdown",
      "metadata": {
        "id": "-5OSnbkc-SRQ"
      },
      "source": [
        "**Creamos un dataframe llamado hour con las horas unicas de df_hour_detalle**"
      ]
    },
    {
      "cell_type": "code",
      "execution_count": null,
      "metadata": {
        "id": "xamgXjWt-SRR"
      },
      "outputs": [],
      "source": [
        "hours=df_hour_detalle['hours'].unique()"
      ]
    },
    {
      "cell_type": "markdown",
      "metadata": {
        "id": "Hntp1JPb-SRS"
      },
      "source": [
        "**creacion de  DataFrame que contiene  \"Descripcion\" (valores de la columna 'hours' )**"
      ]
    },
    {
      "cell_type": "code",
      "execution_count": null,
      "metadata": {
        "id": "6-Sr6QkS-SRT"
      },
      "outputs": [],
      "source": [
        "DescHour=pd.DataFrame(hours,columns=[\"Descripcion\"])\n",
        "DescHour['id_hour']=DescHour.index"
      ]
    },
    {
      "cell_type": "code",
      "source": [
        "DescHour"
      ],
      "metadata": {
        "colab": {
          "base_uri": "https://localhost:8080/",
          "height": 300
        },
        "id": "f2i2mVviSs7h",
        "outputId": "c3b8ebc4-2148-48cd-e13c-0fc0554c0515"
      },
      "execution_count": null,
      "outputs": [
        {
          "output_type": "execute_result",
          "data": {
            "text/plain": [
              "  Descripcion  id_hour\n",
              "0      Monday        0\n",
              "1     Tuesday        1\n",
              "2   Wednesday        2\n",
              "3    Thursday        3\n",
              "4      Friday        4\n",
              "5    Saturday        5\n",
              "6      Sunday        6\n",
              "7        None        7"
            ],
            "text/html": [
              "\n",
              "\n",
              "  <div id=\"df-d8369c1c-9583-45ef-b087-8b6d9e56687b\">\n",
              "    <div class=\"colab-df-container\">\n",
              "      <div>\n",
              "<style scoped>\n",
              "    .dataframe tbody tr th:only-of-type {\n",
              "        vertical-align: middle;\n",
              "    }\n",
              "\n",
              "    .dataframe tbody tr th {\n",
              "        vertical-align: top;\n",
              "    }\n",
              "\n",
              "    .dataframe thead th {\n",
              "        text-align: right;\n",
              "    }\n",
              "</style>\n",
              "<table border=\"1\" class=\"dataframe\">\n",
              "  <thead>\n",
              "    <tr style=\"text-align: right;\">\n",
              "      <th></th>\n",
              "      <th>Descripcion</th>\n",
              "      <th>id_hour</th>\n",
              "    </tr>\n",
              "  </thead>\n",
              "  <tbody>\n",
              "    <tr>\n",
              "      <th>0</th>\n",
              "      <td>Monday</td>\n",
              "      <td>0</td>\n",
              "    </tr>\n",
              "    <tr>\n",
              "      <th>1</th>\n",
              "      <td>Tuesday</td>\n",
              "      <td>1</td>\n",
              "    </tr>\n",
              "    <tr>\n",
              "      <th>2</th>\n",
              "      <td>Wednesday</td>\n",
              "      <td>2</td>\n",
              "    </tr>\n",
              "    <tr>\n",
              "      <th>3</th>\n",
              "      <td>Thursday</td>\n",
              "      <td>3</td>\n",
              "    </tr>\n",
              "    <tr>\n",
              "      <th>4</th>\n",
              "      <td>Friday</td>\n",
              "      <td>4</td>\n",
              "    </tr>\n",
              "    <tr>\n",
              "      <th>5</th>\n",
              "      <td>Saturday</td>\n",
              "      <td>5</td>\n",
              "    </tr>\n",
              "    <tr>\n",
              "      <th>6</th>\n",
              "      <td>Sunday</td>\n",
              "      <td>6</td>\n",
              "    </tr>\n",
              "    <tr>\n",
              "      <th>7</th>\n",
              "      <td>None</td>\n",
              "      <td>7</td>\n",
              "    </tr>\n",
              "  </tbody>\n",
              "</table>\n",
              "</div>\n",
              "      <button class=\"colab-df-convert\" onclick=\"convertToInteractive('df-d8369c1c-9583-45ef-b087-8b6d9e56687b')\"\n",
              "              title=\"Convert this dataframe to an interactive table.\"\n",
              "              style=\"display:none;\">\n",
              "\n",
              "  <svg xmlns=\"http://www.w3.org/2000/svg\" height=\"24px\"viewBox=\"0 0 24 24\"\n",
              "       width=\"24px\">\n",
              "    <path d=\"M0 0h24v24H0V0z\" fill=\"none\"/>\n",
              "    <path d=\"M18.56 5.44l.94 2.06.94-2.06 2.06-.94-2.06-.94-.94-2.06-.94 2.06-2.06.94zm-11 1L8.5 8.5l.94-2.06 2.06-.94-2.06-.94L8.5 2.5l-.94 2.06-2.06.94zm10 10l.94 2.06.94-2.06 2.06-.94-2.06-.94-.94-2.06-.94 2.06-2.06.94z\"/><path d=\"M17.41 7.96l-1.37-1.37c-.4-.4-.92-.59-1.43-.59-.52 0-1.04.2-1.43.59L10.3 9.45l-7.72 7.72c-.78.78-.78 2.05 0 2.83L4 21.41c.39.39.9.59 1.41.59.51 0 1.02-.2 1.41-.59l7.78-7.78 2.81-2.81c.8-.78.8-2.07 0-2.86zM5.41 20L4 18.59l7.72-7.72 1.47 1.35L5.41 20z\"/>\n",
              "  </svg>\n",
              "      </button>\n",
              "\n",
              "\n",
              "\n",
              "    <div id=\"df-9feff2b2-f581-4444-b639-2cd272154fef\">\n",
              "      <button class=\"colab-df-quickchart\" onclick=\"quickchart('df-9feff2b2-f581-4444-b639-2cd272154fef')\"\n",
              "              title=\"Suggest charts.\"\n",
              "              style=\"display:none;\">\n",
              "\n",
              "<svg xmlns=\"http://www.w3.org/2000/svg\" height=\"24px\"viewBox=\"0 0 24 24\"\n",
              "     width=\"24px\">\n",
              "    <g>\n",
              "        <path d=\"M19 3H5c-1.1 0-2 .9-2 2v14c0 1.1.9 2 2 2h14c1.1 0 2-.9 2-2V5c0-1.1-.9-2-2-2zM9 17H7v-7h2v7zm4 0h-2V7h2v10zm4 0h-2v-4h2v4z\"/>\n",
              "    </g>\n",
              "</svg>\n",
              "      </button>\n",
              "    </div>\n",
              "\n",
              "<style>\n",
              "  .colab-df-quickchart {\n",
              "    background-color: #E8F0FE;\n",
              "    border: none;\n",
              "    border-radius: 50%;\n",
              "    cursor: pointer;\n",
              "    display: none;\n",
              "    fill: #1967D2;\n",
              "    height: 32px;\n",
              "    padding: 0 0 0 0;\n",
              "    width: 32px;\n",
              "  }\n",
              "\n",
              "  .colab-df-quickchart:hover {\n",
              "    background-color: #E2EBFA;\n",
              "    box-shadow: 0px 1px 2px rgba(60, 64, 67, 0.3), 0px 1px 3px 1px rgba(60, 64, 67, 0.15);\n",
              "    fill: #174EA6;\n",
              "  }\n",
              "\n",
              "  [theme=dark] .colab-df-quickchart {\n",
              "    background-color: #3B4455;\n",
              "    fill: #D2E3FC;\n",
              "  }\n",
              "\n",
              "  [theme=dark] .colab-df-quickchart:hover {\n",
              "    background-color: #434B5C;\n",
              "    box-shadow: 0px 1px 3px 1px rgba(0, 0, 0, 0.15);\n",
              "    filter: drop-shadow(0px 1px 2px rgba(0, 0, 0, 0.3));\n",
              "    fill: #FFFFFF;\n",
              "  }\n",
              "</style>\n",
              "\n",
              "    <script>\n",
              "      async function quickchart(key) {\n",
              "        const containerElement = document.querySelector('#' + key);\n",
              "        const charts = await google.colab.kernel.invokeFunction(\n",
              "            'suggestCharts', [key], {});\n",
              "      }\n",
              "    </script>\n",
              "\n",
              "      <script>\n",
              "\n",
              "function displayQuickchartButton(domScope) {\n",
              "  let quickchartButtonEl =\n",
              "    domScope.querySelector('#df-9feff2b2-f581-4444-b639-2cd272154fef button.colab-df-quickchart');\n",
              "  quickchartButtonEl.style.display =\n",
              "    google.colab.kernel.accessAllowed ? 'block' : 'none';\n",
              "}\n",
              "\n",
              "        displayQuickchartButton(document);\n",
              "      </script>\n",
              "      <style>\n",
              "    .colab-df-container {\n",
              "      display:flex;\n",
              "      flex-wrap:wrap;\n",
              "      gap: 12px;\n",
              "    }\n",
              "\n",
              "    .colab-df-convert {\n",
              "      background-color: #E8F0FE;\n",
              "      border: none;\n",
              "      border-radius: 50%;\n",
              "      cursor: pointer;\n",
              "      display: none;\n",
              "      fill: #1967D2;\n",
              "      height: 32px;\n",
              "      padding: 0 0 0 0;\n",
              "      width: 32px;\n",
              "    }\n",
              "\n",
              "    .colab-df-convert:hover {\n",
              "      background-color: #E2EBFA;\n",
              "      box-shadow: 0px 1px 2px rgba(60, 64, 67, 0.3), 0px 1px 3px 1px rgba(60, 64, 67, 0.15);\n",
              "      fill: #174EA6;\n",
              "    }\n",
              "\n",
              "    [theme=dark] .colab-df-convert {\n",
              "      background-color: #3B4455;\n",
              "      fill: #D2E3FC;\n",
              "    }\n",
              "\n",
              "    [theme=dark] .colab-df-convert:hover {\n",
              "      background-color: #434B5C;\n",
              "      box-shadow: 0px 1px 3px 1px rgba(0, 0, 0, 0.15);\n",
              "      filter: drop-shadow(0px 1px 2px rgba(0, 0, 0, 0.3));\n",
              "      fill: #FFFFFF;\n",
              "    }\n",
              "  </style>\n",
              "\n",
              "      <script>\n",
              "        const buttonEl =\n",
              "          document.querySelector('#df-d8369c1c-9583-45ef-b087-8b6d9e56687b button.colab-df-convert');\n",
              "        buttonEl.style.display =\n",
              "          google.colab.kernel.accessAllowed ? 'block' : 'none';\n",
              "\n",
              "        async function convertToInteractive(key) {\n",
              "          const element = document.querySelector('#df-d8369c1c-9583-45ef-b087-8b6d9e56687b');\n",
              "          const dataTable =\n",
              "            await google.colab.kernel.invokeFunction('convertToInteractive',\n",
              "                                                     [key], {});\n",
              "          if (!dataTable) return;\n",
              "\n",
              "          const docLinkHtml = 'Like what you see? Visit the ' +\n",
              "            '<a target=\"_blank\" href=https://colab.research.google.com/notebooks/data_table.ipynb>data table notebook</a>'\n",
              "            + ' to learn more about interactive tables.';\n",
              "          element.innerHTML = '';\n",
              "          dataTable['output_type'] = 'display_data';\n",
              "          await google.colab.output.renderOutput(dataTable, element);\n",
              "          const docLink = document.createElement('div');\n",
              "          docLink.innerHTML = docLinkHtml;\n",
              "          element.appendChild(docLink);\n",
              "        }\n",
              "      </script>\n",
              "    </div>\n",
              "  </div>\n"
            ]
          },
          "metadata": {},
          "execution_count": 90
        }
      ]
    },
    {
      "cell_type": "markdown",
      "metadata": {
        "id": "cKIRUUa6-SRW"
      },
      "source": [
        "**Cargamos en tabla de dimension Horarios**"
      ]
    },
    {
      "cell_type": "code",
      "execution_count": null,
      "metadata": {
        "id": "2lHkIINo-SRZ"
      },
      "outputs": [],
      "source": [
        "DescHour.to_csv('Horarios_Yelp.csv',index=False)"
      ]
    },
    {
      "cell_type": "markdown",
      "metadata": {
        "id": "PeZBi-j1-SRZ"
      },
      "source": [
        "**Hacemos una union entre df_hour_detalle y DescHour**"
      ]
    },
    {
      "cell_type": "code",
      "execution_count": null,
      "metadata": {
        "id": "VgoJWjVp-SRa",
        "colab": {
          "base_uri": "https://localhost:8080/",
          "height": 424
        },
        "outputId": "aaae3028-5015-401f-8851-3d9282e8a79a"
      },
      "outputs": [
        {
          "output_type": "execute_result",
          "data": {
            "text/plain": [
              "                  business_id  id_hour\n",
              "0      wghnIlMb_i5U46HMBGx9ig        0\n",
              "1      -4dYswJy7SPcbcERvitmIg        0\n",
              "2      sE6jSnvMts_MAn-b4OkMAw        0\n",
              "3      nUqrF-h9S7myCcvNDecOvw        0\n",
              "4      4dVrWc4Nhuw9apfk9BWEcA        0\n",
              "...                       ...      ...\n",
              "46822  76vbrj2OZhgPJUv46Doe5Q        7\n",
              "46823  yDPwHWr9bY88DhoQmMPWmg        7\n",
              "46824  c6RWw740cIB9-efs9tSLyg        7\n",
              "46825  oAsfYTJE3cOJXk7Dmb-1TQ        7\n",
              "46826  TSwMwVq5GtQh5LW2t32uGA        7\n",
              "\n",
              "[46827 rows x 2 columns]"
            ],
            "text/html": [
              "\n",
              "\n",
              "  <div id=\"df-7f678526-38d2-4d05-8393-77481dcc87a8\">\n",
              "    <div class=\"colab-df-container\">\n",
              "      <div>\n",
              "<style scoped>\n",
              "    .dataframe tbody tr th:only-of-type {\n",
              "        vertical-align: middle;\n",
              "    }\n",
              "\n",
              "    .dataframe tbody tr th {\n",
              "        vertical-align: top;\n",
              "    }\n",
              "\n",
              "    .dataframe thead th {\n",
              "        text-align: right;\n",
              "    }\n",
              "</style>\n",
              "<table border=\"1\" class=\"dataframe\">\n",
              "  <thead>\n",
              "    <tr style=\"text-align: right;\">\n",
              "      <th></th>\n",
              "      <th>business_id</th>\n",
              "      <th>id_hour</th>\n",
              "    </tr>\n",
              "  </thead>\n",
              "  <tbody>\n",
              "    <tr>\n",
              "      <th>0</th>\n",
              "      <td>wghnIlMb_i5U46HMBGx9ig</td>\n",
              "      <td>0</td>\n",
              "    </tr>\n",
              "    <tr>\n",
              "      <th>1</th>\n",
              "      <td>-4dYswJy7SPcbcERvitmIg</td>\n",
              "      <td>0</td>\n",
              "    </tr>\n",
              "    <tr>\n",
              "      <th>2</th>\n",
              "      <td>sE6jSnvMts_MAn-b4OkMAw</td>\n",
              "      <td>0</td>\n",
              "    </tr>\n",
              "    <tr>\n",
              "      <th>3</th>\n",
              "      <td>nUqrF-h9S7myCcvNDecOvw</td>\n",
              "      <td>0</td>\n",
              "    </tr>\n",
              "    <tr>\n",
              "      <th>4</th>\n",
              "      <td>4dVrWc4Nhuw9apfk9BWEcA</td>\n",
              "      <td>0</td>\n",
              "    </tr>\n",
              "    <tr>\n",
              "      <th>...</th>\n",
              "      <td>...</td>\n",
              "      <td>...</td>\n",
              "    </tr>\n",
              "    <tr>\n",
              "      <th>46822</th>\n",
              "      <td>76vbrj2OZhgPJUv46Doe5Q</td>\n",
              "      <td>7</td>\n",
              "    </tr>\n",
              "    <tr>\n",
              "      <th>46823</th>\n",
              "      <td>yDPwHWr9bY88DhoQmMPWmg</td>\n",
              "      <td>7</td>\n",
              "    </tr>\n",
              "    <tr>\n",
              "      <th>46824</th>\n",
              "      <td>c6RWw740cIB9-efs9tSLyg</td>\n",
              "      <td>7</td>\n",
              "    </tr>\n",
              "    <tr>\n",
              "      <th>46825</th>\n",
              "      <td>oAsfYTJE3cOJXk7Dmb-1TQ</td>\n",
              "      <td>7</td>\n",
              "    </tr>\n",
              "    <tr>\n",
              "      <th>46826</th>\n",
              "      <td>TSwMwVq5GtQh5LW2t32uGA</td>\n",
              "      <td>7</td>\n",
              "    </tr>\n",
              "  </tbody>\n",
              "</table>\n",
              "<p>46827 rows × 2 columns</p>\n",
              "</div>\n",
              "      <button class=\"colab-df-convert\" onclick=\"convertToInteractive('df-7f678526-38d2-4d05-8393-77481dcc87a8')\"\n",
              "              title=\"Convert this dataframe to an interactive table.\"\n",
              "              style=\"display:none;\">\n",
              "\n",
              "  <svg xmlns=\"http://www.w3.org/2000/svg\" height=\"24px\"viewBox=\"0 0 24 24\"\n",
              "       width=\"24px\">\n",
              "    <path d=\"M0 0h24v24H0V0z\" fill=\"none\"/>\n",
              "    <path d=\"M18.56 5.44l.94 2.06.94-2.06 2.06-.94-2.06-.94-.94-2.06-.94 2.06-2.06.94zm-11 1L8.5 8.5l.94-2.06 2.06-.94-2.06-.94L8.5 2.5l-.94 2.06-2.06.94zm10 10l.94 2.06.94-2.06 2.06-.94-2.06-.94-.94-2.06-.94 2.06-2.06.94z\"/><path d=\"M17.41 7.96l-1.37-1.37c-.4-.4-.92-.59-1.43-.59-.52 0-1.04.2-1.43.59L10.3 9.45l-7.72 7.72c-.78.78-.78 2.05 0 2.83L4 21.41c.39.39.9.59 1.41.59.51 0 1.02-.2 1.41-.59l7.78-7.78 2.81-2.81c.8-.78.8-2.07 0-2.86zM5.41 20L4 18.59l7.72-7.72 1.47 1.35L5.41 20z\"/>\n",
              "  </svg>\n",
              "      </button>\n",
              "\n",
              "\n",
              "\n",
              "    <div id=\"df-bf258698-9ac8-4056-96d1-70ad2a9c23e7\">\n",
              "      <button class=\"colab-df-quickchart\" onclick=\"quickchart('df-bf258698-9ac8-4056-96d1-70ad2a9c23e7')\"\n",
              "              title=\"Suggest charts.\"\n",
              "              style=\"display:none;\">\n",
              "\n",
              "<svg xmlns=\"http://www.w3.org/2000/svg\" height=\"24px\"viewBox=\"0 0 24 24\"\n",
              "     width=\"24px\">\n",
              "    <g>\n",
              "        <path d=\"M19 3H5c-1.1 0-2 .9-2 2v14c0 1.1.9 2 2 2h14c1.1 0 2-.9 2-2V5c0-1.1-.9-2-2-2zM9 17H7v-7h2v7zm4 0h-2V7h2v10zm4 0h-2v-4h2v4z\"/>\n",
              "    </g>\n",
              "</svg>\n",
              "      </button>\n",
              "    </div>\n",
              "\n",
              "<style>\n",
              "  .colab-df-quickchart {\n",
              "    background-color: #E8F0FE;\n",
              "    border: none;\n",
              "    border-radius: 50%;\n",
              "    cursor: pointer;\n",
              "    display: none;\n",
              "    fill: #1967D2;\n",
              "    height: 32px;\n",
              "    padding: 0 0 0 0;\n",
              "    width: 32px;\n",
              "  }\n",
              "\n",
              "  .colab-df-quickchart:hover {\n",
              "    background-color: #E2EBFA;\n",
              "    box-shadow: 0px 1px 2px rgba(60, 64, 67, 0.3), 0px 1px 3px 1px rgba(60, 64, 67, 0.15);\n",
              "    fill: #174EA6;\n",
              "  }\n",
              "\n",
              "  [theme=dark] .colab-df-quickchart {\n",
              "    background-color: #3B4455;\n",
              "    fill: #D2E3FC;\n",
              "  }\n",
              "\n",
              "  [theme=dark] .colab-df-quickchart:hover {\n",
              "    background-color: #434B5C;\n",
              "    box-shadow: 0px 1px 3px 1px rgba(0, 0, 0, 0.15);\n",
              "    filter: drop-shadow(0px 1px 2px rgba(0, 0, 0, 0.3));\n",
              "    fill: #FFFFFF;\n",
              "  }\n",
              "</style>\n",
              "\n",
              "    <script>\n",
              "      async function quickchart(key) {\n",
              "        const containerElement = document.querySelector('#' + key);\n",
              "        const charts = await google.colab.kernel.invokeFunction(\n",
              "            'suggestCharts', [key], {});\n",
              "      }\n",
              "    </script>\n",
              "\n",
              "      <script>\n",
              "\n",
              "function displayQuickchartButton(domScope) {\n",
              "  let quickchartButtonEl =\n",
              "    domScope.querySelector('#df-bf258698-9ac8-4056-96d1-70ad2a9c23e7 button.colab-df-quickchart');\n",
              "  quickchartButtonEl.style.display =\n",
              "    google.colab.kernel.accessAllowed ? 'block' : 'none';\n",
              "}\n",
              "\n",
              "        displayQuickchartButton(document);\n",
              "      </script>\n",
              "      <style>\n",
              "    .colab-df-container {\n",
              "      display:flex;\n",
              "      flex-wrap:wrap;\n",
              "      gap: 12px;\n",
              "    }\n",
              "\n",
              "    .colab-df-convert {\n",
              "      background-color: #E8F0FE;\n",
              "      border: none;\n",
              "      border-radius: 50%;\n",
              "      cursor: pointer;\n",
              "      display: none;\n",
              "      fill: #1967D2;\n",
              "      height: 32px;\n",
              "      padding: 0 0 0 0;\n",
              "      width: 32px;\n",
              "    }\n",
              "\n",
              "    .colab-df-convert:hover {\n",
              "      background-color: #E2EBFA;\n",
              "      box-shadow: 0px 1px 2px rgba(60, 64, 67, 0.3), 0px 1px 3px 1px rgba(60, 64, 67, 0.15);\n",
              "      fill: #174EA6;\n",
              "    }\n",
              "\n",
              "    [theme=dark] .colab-df-convert {\n",
              "      background-color: #3B4455;\n",
              "      fill: #D2E3FC;\n",
              "    }\n",
              "\n",
              "    [theme=dark] .colab-df-convert:hover {\n",
              "      background-color: #434B5C;\n",
              "      box-shadow: 0px 1px 3px 1px rgba(0, 0, 0, 0.15);\n",
              "      filter: drop-shadow(0px 1px 2px rgba(0, 0, 0, 0.3));\n",
              "      fill: #FFFFFF;\n",
              "    }\n",
              "  </style>\n",
              "\n",
              "      <script>\n",
              "        const buttonEl =\n",
              "          document.querySelector('#df-7f678526-38d2-4d05-8393-77481dcc87a8 button.colab-df-convert');\n",
              "        buttonEl.style.display =\n",
              "          google.colab.kernel.accessAllowed ? 'block' : 'none';\n",
              "\n",
              "        async function convertToInteractive(key) {\n",
              "          const element = document.querySelector('#df-7f678526-38d2-4d05-8393-77481dcc87a8');\n",
              "          const dataTable =\n",
              "            await google.colab.kernel.invokeFunction('convertToInteractive',\n",
              "                                                     [key], {});\n",
              "          if (!dataTable) return;\n",
              "\n",
              "          const docLinkHtml = 'Like what you see? Visit the ' +\n",
              "            '<a target=\"_blank\" href=https://colab.research.google.com/notebooks/data_table.ipynb>data table notebook</a>'\n",
              "            + ' to learn more about interactive tables.';\n",
              "          element.innerHTML = '';\n",
              "          dataTable['output_type'] = 'display_data';\n",
              "          await google.colab.output.renderOutput(dataTable, element);\n",
              "          const docLink = document.createElement('div');\n",
              "          docLink.innerHTML = docLinkHtml;\n",
              "          element.appendChild(docLink);\n",
              "        }\n",
              "      </script>\n",
              "    </div>\n",
              "  </div>\n"
            ]
          },
          "metadata": {},
          "execution_count": 92
        }
      ],
      "source": [
        "df_hour_detalle.merge(DescHour,left_on='hours',right_on='Descripcion',how='inner')[['business_id','id_hour']]\n"
      ]
    },
    {
      "cell_type": "markdown",
      "metadata": {
        "id": "UVmwznu9-SRc"
      },
      "source": [
        "**Cargamos en tabla de dimension Horarios por Negocio**"
      ]
    },
    {
      "cell_type": "code",
      "execution_count": null,
      "metadata": {
        "id": "O7shyU-3-SRd"
      },
      "outputs": [],
      "source": [
        "df_hour_detalle.to_csv('Business_Horas_Yelp.csv',index=False)"
      ]
    },
    {
      "cell_type": "markdown",
      "metadata": {
        "id": "PB-bGFq--SRf"
      },
      "source": [
        "**Creamos el dataframe df_detalleatributo a partir de la union entre df_atribute y df_atributos**"
      ]
    },
    {
      "cell_type": "code",
      "execution_count": null,
      "metadata": {
        "id": "AYTA4SNa-SRf"
      },
      "outputs": [],
      "source": [
        "df_detalleatributo = df_atribute.merge(df_atributos, left_on=\"attributes\", right_on=\"Descripcion\", how=\"inner\")"
      ]
    },
    {
      "cell_type": "code",
      "source": [
        "df_detalleatributo.head(5)"
      ],
      "metadata": {
        "colab": {
          "base_uri": "https://localhost:8080/",
          "height": 206
        },
        "id": "SoRkIEbke-CT",
        "outputId": "fd369e88-386c-4f51-8da1-d2b554ae6acc"
      },
      "execution_count": null,
      "outputs": [
        {
          "output_type": "execute_result",
          "data": {
            "text/plain": [
              "              business_id attributes Descripcion  IdAtributos\n",
              "0  wghnIlMb_i5U46HMBGx9ig       WiFi        WiFi            0\n",
              "1  nUqrF-h9S7myCcvNDecOvw       WiFi        WiFi            0\n",
              "2  9C2rpb56aQvW0ViZHK9sPw       WiFi        WiFi            0\n",
              "3  2oxrOO3c9_mQmqM9kwEm9Q       WiFi        WiFi            0\n",
              "4  QZU7TcrztBb3tXaPbVCkXg       WiFi        WiFi            0"
            ],
            "text/html": [
              "\n",
              "\n",
              "  <div id=\"df-eef1e702-c431-4f8d-8218-c35b910c614a\">\n",
              "    <div class=\"colab-df-container\">\n",
              "      <div>\n",
              "<style scoped>\n",
              "    .dataframe tbody tr th:only-of-type {\n",
              "        vertical-align: middle;\n",
              "    }\n",
              "\n",
              "    .dataframe tbody tr th {\n",
              "        vertical-align: top;\n",
              "    }\n",
              "\n",
              "    .dataframe thead th {\n",
              "        text-align: right;\n",
              "    }\n",
              "</style>\n",
              "<table border=\"1\" class=\"dataframe\">\n",
              "  <thead>\n",
              "    <tr style=\"text-align: right;\">\n",
              "      <th></th>\n",
              "      <th>business_id</th>\n",
              "      <th>attributes</th>\n",
              "      <th>Descripcion</th>\n",
              "      <th>IdAtributos</th>\n",
              "    </tr>\n",
              "  </thead>\n",
              "  <tbody>\n",
              "    <tr>\n",
              "      <th>0</th>\n",
              "      <td>wghnIlMb_i5U46HMBGx9ig</td>\n",
              "      <td>WiFi</td>\n",
              "      <td>WiFi</td>\n",
              "      <td>0</td>\n",
              "    </tr>\n",
              "    <tr>\n",
              "      <th>1</th>\n",
              "      <td>nUqrF-h9S7myCcvNDecOvw</td>\n",
              "      <td>WiFi</td>\n",
              "      <td>WiFi</td>\n",
              "      <td>0</td>\n",
              "    </tr>\n",
              "    <tr>\n",
              "      <th>2</th>\n",
              "      <td>9C2rpb56aQvW0ViZHK9sPw</td>\n",
              "      <td>WiFi</td>\n",
              "      <td>WiFi</td>\n",
              "      <td>0</td>\n",
              "    </tr>\n",
              "    <tr>\n",
              "      <th>3</th>\n",
              "      <td>2oxrOO3c9_mQmqM9kwEm9Q</td>\n",
              "      <td>WiFi</td>\n",
              "      <td>WiFi</td>\n",
              "      <td>0</td>\n",
              "    </tr>\n",
              "    <tr>\n",
              "      <th>4</th>\n",
              "      <td>QZU7TcrztBb3tXaPbVCkXg</td>\n",
              "      <td>WiFi</td>\n",
              "      <td>WiFi</td>\n",
              "      <td>0</td>\n",
              "    </tr>\n",
              "  </tbody>\n",
              "</table>\n",
              "</div>\n",
              "      <button class=\"colab-df-convert\" onclick=\"convertToInteractive('df-eef1e702-c431-4f8d-8218-c35b910c614a')\"\n",
              "              title=\"Convert this dataframe to an interactive table.\"\n",
              "              style=\"display:none;\">\n",
              "\n",
              "  <svg xmlns=\"http://www.w3.org/2000/svg\" height=\"24px\"viewBox=\"0 0 24 24\"\n",
              "       width=\"24px\">\n",
              "    <path d=\"M0 0h24v24H0V0z\" fill=\"none\"/>\n",
              "    <path d=\"M18.56 5.44l.94 2.06.94-2.06 2.06-.94-2.06-.94-.94-2.06-.94 2.06-2.06.94zm-11 1L8.5 8.5l.94-2.06 2.06-.94-2.06-.94L8.5 2.5l-.94 2.06-2.06.94zm10 10l.94 2.06.94-2.06 2.06-.94-2.06-.94-.94-2.06-.94 2.06-2.06.94z\"/><path d=\"M17.41 7.96l-1.37-1.37c-.4-.4-.92-.59-1.43-.59-.52 0-1.04.2-1.43.59L10.3 9.45l-7.72 7.72c-.78.78-.78 2.05 0 2.83L4 21.41c.39.39.9.59 1.41.59.51 0 1.02-.2 1.41-.59l7.78-7.78 2.81-2.81c.8-.78.8-2.07 0-2.86zM5.41 20L4 18.59l7.72-7.72 1.47 1.35L5.41 20z\"/>\n",
              "  </svg>\n",
              "      </button>\n",
              "\n",
              "\n",
              "\n",
              "    <div id=\"df-d854af41-55c1-4d06-a08a-e4c6525c2281\">\n",
              "      <button class=\"colab-df-quickchart\" onclick=\"quickchart('df-d854af41-55c1-4d06-a08a-e4c6525c2281')\"\n",
              "              title=\"Suggest charts.\"\n",
              "              style=\"display:none;\">\n",
              "\n",
              "<svg xmlns=\"http://www.w3.org/2000/svg\" height=\"24px\"viewBox=\"0 0 24 24\"\n",
              "     width=\"24px\">\n",
              "    <g>\n",
              "        <path d=\"M19 3H5c-1.1 0-2 .9-2 2v14c0 1.1.9 2 2 2h14c1.1 0 2-.9 2-2V5c0-1.1-.9-2-2-2zM9 17H7v-7h2v7zm4 0h-2V7h2v10zm4 0h-2v-4h2v4z\"/>\n",
              "    </g>\n",
              "</svg>\n",
              "      </button>\n",
              "    </div>\n",
              "\n",
              "<style>\n",
              "  .colab-df-quickchart {\n",
              "    background-color: #E8F0FE;\n",
              "    border: none;\n",
              "    border-radius: 50%;\n",
              "    cursor: pointer;\n",
              "    display: none;\n",
              "    fill: #1967D2;\n",
              "    height: 32px;\n",
              "    padding: 0 0 0 0;\n",
              "    width: 32px;\n",
              "  }\n",
              "\n",
              "  .colab-df-quickchart:hover {\n",
              "    background-color: #E2EBFA;\n",
              "    box-shadow: 0px 1px 2px rgba(60, 64, 67, 0.3), 0px 1px 3px 1px rgba(60, 64, 67, 0.15);\n",
              "    fill: #174EA6;\n",
              "  }\n",
              "\n",
              "  [theme=dark] .colab-df-quickchart {\n",
              "    background-color: #3B4455;\n",
              "    fill: #D2E3FC;\n",
              "  }\n",
              "\n",
              "  [theme=dark] .colab-df-quickchart:hover {\n",
              "    background-color: #434B5C;\n",
              "    box-shadow: 0px 1px 3px 1px rgba(0, 0, 0, 0.15);\n",
              "    filter: drop-shadow(0px 1px 2px rgba(0, 0, 0, 0.3));\n",
              "    fill: #FFFFFF;\n",
              "  }\n",
              "</style>\n",
              "\n",
              "    <script>\n",
              "      async function quickchart(key) {\n",
              "        const containerElement = document.querySelector('#' + key);\n",
              "        const charts = await google.colab.kernel.invokeFunction(\n",
              "            'suggestCharts', [key], {});\n",
              "      }\n",
              "    </script>\n",
              "\n",
              "      <script>\n",
              "\n",
              "function displayQuickchartButton(domScope) {\n",
              "  let quickchartButtonEl =\n",
              "    domScope.querySelector('#df-d854af41-55c1-4d06-a08a-e4c6525c2281 button.colab-df-quickchart');\n",
              "  quickchartButtonEl.style.display =\n",
              "    google.colab.kernel.accessAllowed ? 'block' : 'none';\n",
              "}\n",
              "\n",
              "        displayQuickchartButton(document);\n",
              "      </script>\n",
              "      <style>\n",
              "    .colab-df-container {\n",
              "      display:flex;\n",
              "      flex-wrap:wrap;\n",
              "      gap: 12px;\n",
              "    }\n",
              "\n",
              "    .colab-df-convert {\n",
              "      background-color: #E8F0FE;\n",
              "      border: none;\n",
              "      border-radius: 50%;\n",
              "      cursor: pointer;\n",
              "      display: none;\n",
              "      fill: #1967D2;\n",
              "      height: 32px;\n",
              "      padding: 0 0 0 0;\n",
              "      width: 32px;\n",
              "    }\n",
              "\n",
              "    .colab-df-convert:hover {\n",
              "      background-color: #E2EBFA;\n",
              "      box-shadow: 0px 1px 2px rgba(60, 64, 67, 0.3), 0px 1px 3px 1px rgba(60, 64, 67, 0.15);\n",
              "      fill: #174EA6;\n",
              "    }\n",
              "\n",
              "    [theme=dark] .colab-df-convert {\n",
              "      background-color: #3B4455;\n",
              "      fill: #D2E3FC;\n",
              "    }\n",
              "\n",
              "    [theme=dark] .colab-df-convert:hover {\n",
              "      background-color: #434B5C;\n",
              "      box-shadow: 0px 1px 3px 1px rgba(0, 0, 0, 0.15);\n",
              "      filter: drop-shadow(0px 1px 2px rgba(0, 0, 0, 0.3));\n",
              "      fill: #FFFFFF;\n",
              "    }\n",
              "  </style>\n",
              "\n",
              "      <script>\n",
              "        const buttonEl =\n",
              "          document.querySelector('#df-eef1e702-c431-4f8d-8218-c35b910c614a button.colab-df-convert');\n",
              "        buttonEl.style.display =\n",
              "          google.colab.kernel.accessAllowed ? 'block' : 'none';\n",
              "\n",
              "        async function convertToInteractive(key) {\n",
              "          const element = document.querySelector('#df-eef1e702-c431-4f8d-8218-c35b910c614a');\n",
              "          const dataTable =\n",
              "            await google.colab.kernel.invokeFunction('convertToInteractive',\n",
              "                                                     [key], {});\n",
              "          if (!dataTable) return;\n",
              "\n",
              "          const docLinkHtml = 'Like what you see? Visit the ' +\n",
              "            '<a target=\"_blank\" href=https://colab.research.google.com/notebooks/data_table.ipynb>data table notebook</a>'\n",
              "            + ' to learn more about interactive tables.';\n",
              "          element.innerHTML = '';\n",
              "          dataTable['output_type'] = 'display_data';\n",
              "          await google.colab.output.renderOutput(dataTable, element);\n",
              "          const docLink = document.createElement('div');\n",
              "          docLink.innerHTML = docLinkHtml;\n",
              "          element.appendChild(docLink);\n",
              "        }\n",
              "      </script>\n",
              "    </div>\n",
              "  </div>\n"
            ]
          },
          "metadata": {},
          "execution_count": 95
        }
      ]
    },
    {
      "cell_type": "markdown",
      "metadata": {
        "id": "gu92Rdqr-SRh"
      },
      "source": [
        "**Eliminamos las columnas \"attributes\" y \"Descripcion\" de df_detalleatributo**"
      ]
    },
    {
      "cell_type": "code",
      "execution_count": null,
      "metadata": {
        "id": "Kcjr2s8q-SRi"
      },
      "outputs": [],
      "source": [
        "df_detalleatributo.drop(columns = \"attributes\",inplace=True)\n",
        "df_detalleatributo.drop(columns = \"Descripcion\",inplace=True)"
      ]
    },
    {
      "cell_type": "code",
      "source": [
        "df_detalleatributo.tail(5)"
      ],
      "metadata": {
        "colab": {
          "base_uri": "https://localhost:8080/",
          "height": 206
        },
        "id": "Xy_aorsEfZI8",
        "outputId": "e0561808-634a-4039-83e0-fd7acb7164be"
      },
      "execution_count": null,
      "outputs": [
        {
          "output_type": "execute_result",
          "data": {
            "text/plain": [
              "                  business_id  IdAtributos\n",
              "69580  ccNH_y1-c58tX74o4V4mlw           37\n",
              "69581  bNSBYd-wASjWZ3hZWb0sGQ           38\n",
              "69582  lvi4u_XVzvL06EAj0hUmfw           38\n",
              "69583  SvA2IQ9SyI1Dh7dtwNNs3A           38\n",
              "69584  K2MrnWrEEg9FzHrm9lve8A           38"
            ],
            "text/html": [
              "\n",
              "\n",
              "  <div id=\"df-b60b5bb7-dc20-4339-9466-0f20cddf2031\">\n",
              "    <div class=\"colab-df-container\">\n",
              "      <div>\n",
              "<style scoped>\n",
              "    .dataframe tbody tr th:only-of-type {\n",
              "        vertical-align: middle;\n",
              "    }\n",
              "\n",
              "    .dataframe tbody tr th {\n",
              "        vertical-align: top;\n",
              "    }\n",
              "\n",
              "    .dataframe thead th {\n",
              "        text-align: right;\n",
              "    }\n",
              "</style>\n",
              "<table border=\"1\" class=\"dataframe\">\n",
              "  <thead>\n",
              "    <tr style=\"text-align: right;\">\n",
              "      <th></th>\n",
              "      <th>business_id</th>\n",
              "      <th>IdAtributos</th>\n",
              "    </tr>\n",
              "  </thead>\n",
              "  <tbody>\n",
              "    <tr>\n",
              "      <th>69580</th>\n",
              "      <td>ccNH_y1-c58tX74o4V4mlw</td>\n",
              "      <td>37</td>\n",
              "    </tr>\n",
              "    <tr>\n",
              "      <th>69581</th>\n",
              "      <td>bNSBYd-wASjWZ3hZWb0sGQ</td>\n",
              "      <td>38</td>\n",
              "    </tr>\n",
              "    <tr>\n",
              "      <th>69582</th>\n",
              "      <td>lvi4u_XVzvL06EAj0hUmfw</td>\n",
              "      <td>38</td>\n",
              "    </tr>\n",
              "    <tr>\n",
              "      <th>69583</th>\n",
              "      <td>SvA2IQ9SyI1Dh7dtwNNs3A</td>\n",
              "      <td>38</td>\n",
              "    </tr>\n",
              "    <tr>\n",
              "      <th>69584</th>\n",
              "      <td>K2MrnWrEEg9FzHrm9lve8A</td>\n",
              "      <td>38</td>\n",
              "    </tr>\n",
              "  </tbody>\n",
              "</table>\n",
              "</div>\n",
              "      <button class=\"colab-df-convert\" onclick=\"convertToInteractive('df-b60b5bb7-dc20-4339-9466-0f20cddf2031')\"\n",
              "              title=\"Convert this dataframe to an interactive table.\"\n",
              "              style=\"display:none;\">\n",
              "\n",
              "  <svg xmlns=\"http://www.w3.org/2000/svg\" height=\"24px\"viewBox=\"0 0 24 24\"\n",
              "       width=\"24px\">\n",
              "    <path d=\"M0 0h24v24H0V0z\" fill=\"none\"/>\n",
              "    <path d=\"M18.56 5.44l.94 2.06.94-2.06 2.06-.94-2.06-.94-.94-2.06-.94 2.06-2.06.94zm-11 1L8.5 8.5l.94-2.06 2.06-.94-2.06-.94L8.5 2.5l-.94 2.06-2.06.94zm10 10l.94 2.06.94-2.06 2.06-.94-2.06-.94-.94-2.06-.94 2.06-2.06.94z\"/><path d=\"M17.41 7.96l-1.37-1.37c-.4-.4-.92-.59-1.43-.59-.52 0-1.04.2-1.43.59L10.3 9.45l-7.72 7.72c-.78.78-.78 2.05 0 2.83L4 21.41c.39.39.9.59 1.41.59.51 0 1.02-.2 1.41-.59l7.78-7.78 2.81-2.81c.8-.78.8-2.07 0-2.86zM5.41 20L4 18.59l7.72-7.72 1.47 1.35L5.41 20z\"/>\n",
              "  </svg>\n",
              "      </button>\n",
              "\n",
              "\n",
              "\n",
              "    <div id=\"df-ad7ee946-326e-4738-9ec6-70a799395a28\">\n",
              "      <button class=\"colab-df-quickchart\" onclick=\"quickchart('df-ad7ee946-326e-4738-9ec6-70a799395a28')\"\n",
              "              title=\"Suggest charts.\"\n",
              "              style=\"display:none;\">\n",
              "\n",
              "<svg xmlns=\"http://www.w3.org/2000/svg\" height=\"24px\"viewBox=\"0 0 24 24\"\n",
              "     width=\"24px\">\n",
              "    <g>\n",
              "        <path d=\"M19 3H5c-1.1 0-2 .9-2 2v14c0 1.1.9 2 2 2h14c1.1 0 2-.9 2-2V5c0-1.1-.9-2-2-2zM9 17H7v-7h2v7zm4 0h-2V7h2v10zm4 0h-2v-4h2v4z\"/>\n",
              "    </g>\n",
              "</svg>\n",
              "      </button>\n",
              "    </div>\n",
              "\n",
              "<style>\n",
              "  .colab-df-quickchart {\n",
              "    background-color: #E8F0FE;\n",
              "    border: none;\n",
              "    border-radius: 50%;\n",
              "    cursor: pointer;\n",
              "    display: none;\n",
              "    fill: #1967D2;\n",
              "    height: 32px;\n",
              "    padding: 0 0 0 0;\n",
              "    width: 32px;\n",
              "  }\n",
              "\n",
              "  .colab-df-quickchart:hover {\n",
              "    background-color: #E2EBFA;\n",
              "    box-shadow: 0px 1px 2px rgba(60, 64, 67, 0.3), 0px 1px 3px 1px rgba(60, 64, 67, 0.15);\n",
              "    fill: #174EA6;\n",
              "  }\n",
              "\n",
              "  [theme=dark] .colab-df-quickchart {\n",
              "    background-color: #3B4455;\n",
              "    fill: #D2E3FC;\n",
              "  }\n",
              "\n",
              "  [theme=dark] .colab-df-quickchart:hover {\n",
              "    background-color: #434B5C;\n",
              "    box-shadow: 0px 1px 3px 1px rgba(0, 0, 0, 0.15);\n",
              "    filter: drop-shadow(0px 1px 2px rgba(0, 0, 0, 0.3));\n",
              "    fill: #FFFFFF;\n",
              "  }\n",
              "</style>\n",
              "\n",
              "    <script>\n",
              "      async function quickchart(key) {\n",
              "        const containerElement = document.querySelector('#' + key);\n",
              "        const charts = await google.colab.kernel.invokeFunction(\n",
              "            'suggestCharts', [key], {});\n",
              "      }\n",
              "    </script>\n",
              "\n",
              "      <script>\n",
              "\n",
              "function displayQuickchartButton(domScope) {\n",
              "  let quickchartButtonEl =\n",
              "    domScope.querySelector('#df-ad7ee946-326e-4738-9ec6-70a799395a28 button.colab-df-quickchart');\n",
              "  quickchartButtonEl.style.display =\n",
              "    google.colab.kernel.accessAllowed ? 'block' : 'none';\n",
              "}\n",
              "\n",
              "        displayQuickchartButton(document);\n",
              "      </script>\n",
              "      <style>\n",
              "    .colab-df-container {\n",
              "      display:flex;\n",
              "      flex-wrap:wrap;\n",
              "      gap: 12px;\n",
              "    }\n",
              "\n",
              "    .colab-df-convert {\n",
              "      background-color: #E8F0FE;\n",
              "      border: none;\n",
              "      border-radius: 50%;\n",
              "      cursor: pointer;\n",
              "      display: none;\n",
              "      fill: #1967D2;\n",
              "      height: 32px;\n",
              "      padding: 0 0 0 0;\n",
              "      width: 32px;\n",
              "    }\n",
              "\n",
              "    .colab-df-convert:hover {\n",
              "      background-color: #E2EBFA;\n",
              "      box-shadow: 0px 1px 2px rgba(60, 64, 67, 0.3), 0px 1px 3px 1px rgba(60, 64, 67, 0.15);\n",
              "      fill: #174EA6;\n",
              "    }\n",
              "\n",
              "    [theme=dark] .colab-df-convert {\n",
              "      background-color: #3B4455;\n",
              "      fill: #D2E3FC;\n",
              "    }\n",
              "\n",
              "    [theme=dark] .colab-df-convert:hover {\n",
              "      background-color: #434B5C;\n",
              "      box-shadow: 0px 1px 3px 1px rgba(0, 0, 0, 0.15);\n",
              "      filter: drop-shadow(0px 1px 2px rgba(0, 0, 0, 0.3));\n",
              "      fill: #FFFFFF;\n",
              "    }\n",
              "  </style>\n",
              "\n",
              "      <script>\n",
              "        const buttonEl =\n",
              "          document.querySelector('#df-b60b5bb7-dc20-4339-9466-0f20cddf2031 button.colab-df-convert');\n",
              "        buttonEl.style.display =\n",
              "          google.colab.kernel.accessAllowed ? 'block' : 'none';\n",
              "\n",
              "        async function convertToInteractive(key) {\n",
              "          const element = document.querySelector('#df-b60b5bb7-dc20-4339-9466-0f20cddf2031');\n",
              "          const dataTable =\n",
              "            await google.colab.kernel.invokeFunction('convertToInteractive',\n",
              "                                                     [key], {});\n",
              "          if (!dataTable) return;\n",
              "\n",
              "          const docLinkHtml = 'Like what you see? Visit the ' +\n",
              "            '<a target=\"_blank\" href=https://colab.research.google.com/notebooks/data_table.ipynb>data table notebook</a>'\n",
              "            + ' to learn more about interactive tables.';\n",
              "          element.innerHTML = '';\n",
              "          dataTable['output_type'] = 'display_data';\n",
              "          await google.colab.output.renderOutput(dataTable, element);\n",
              "          const docLink = document.createElement('div');\n",
              "          docLink.innerHTML = docLinkHtml;\n",
              "          element.appendChild(docLink);\n",
              "        }\n",
              "      </script>\n",
              "    </div>\n",
              "  </div>\n"
            ]
          },
          "metadata": {},
          "execution_count": 111
        }
      ]
    },
    {
      "cell_type": "markdown",
      "metadata": {
        "id": "xrMwNxFC-SRk"
      },
      "source": [
        "**Carga en tabla detalles de Atributo por Negocio**"
      ]
    },
    {
      "cell_type": "code",
      "execution_count": null,
      "metadata": {
        "id": "ZkfItAs--SRl"
      },
      "outputs": [],
      "source": [
        "df_detalleatributo.to_csv(\"Business_Atributos_Yelp.csv\")"
      ]
    },
    {
      "cell_type": "markdown",
      "metadata": {
        "id": "lsyXOWQY-SSO"
      },
      "source": [
        "### **tip.json**\n",
        "---"
      ]
    },
    {
      "cell_type": "markdown",
      "metadata": {
        "id": "KigE5Dae-SSO"
      },
      "source": [
        "**Abrimos el archivo json**"
      ]
    },
    {
      "cell_type": "code",
      "execution_count": null,
      "metadata": {
        "id": "Vb80hfQJ-SSQ"
      },
      "outputs": [],
      "source": [
        "json_objects=[]\n",
        "\n",
        "with open('../tip.json', 'r',encoding='utf-8') as f:\n",
        "    for line in f:\n",
        "        json_objects.append(json.loads(line))\n",
        "\n",
        "\n",
        "df_tip = pd.DataFrame(json_objects)"
      ]
    },
    {
      "cell_type": "code",
      "source": [
        "df_tip=pd.read_json(r'/content/drive/MyDrive/P_F_H/tip.json',lines=True)\n",
        "df_tip.head(6)\n",
        "# archivo a entrecruzar por id de usuario"
      ],
      "metadata": {
        "colab": {
          "base_uri": "https://localhost:8080/",
          "height": 403
        },
        "id": "b7DpOw1swd1m",
        "outputId": "f46e66f3-521f-4bf6-94be-6664d2851280"
      },
      "execution_count": null,
      "outputs": [
        {
          "output_type": "execute_result",
          "data": {
            "text/plain": [
              "                  user_id             business_id  \\\n",
              "0  AGNUgVwnZUey3gcPCJ76iw  3uLgwr0qeCNMjKenHJwPGQ   \n",
              "1  NBN4MgHP9D3cw--SnauTkA  QoezRbYQncpRqyrLH6Iqjg   \n",
              "2  -copOvldyKh1qr-vzkDEvw  MYoRNLb5chwjQe3c_k37Gg   \n",
              "3  FjMQVZjSqY8syIO-53KFKw  hV-bABTK-glh5wj31ps_Jw   \n",
              "4  ld0AperBXk1h6UbqmM80zw  _uN0OudeJ3Zl_tf6nxg5ww   \n",
              "5  trf3Qcz8qvCDKXiTgjUcEg  7Rm9Ba50bw23KTA8RedZYg   \n",
              "\n",
              "                                                text                date  \\\n",
              "0                     Avengers time with the ladies. 2012-05-18 02:17:21   \n",
              "1  They have lots of good deserts and tasty cuban... 2013-02-05 18:35:10   \n",
              "2             It's open even when you think it isn't 2013-08-18 00:56:08   \n",
              "3                          Very decent fried chicken 2017-06-27 23:05:38   \n",
              "4             Appetizers.. platter special for lunch 2012-10-06 19:43:09   \n",
              "5  Chili Cup + Single Cheeseburger with onion, pi... 2012-03-13 04:00:52   \n",
              "\n",
              "   compliment_count  \n",
              "0                 0  \n",
              "1                 0  \n",
              "2                 0  \n",
              "3                 0  \n",
              "4                 0  \n",
              "5                 0  "
            ],
            "text/html": [
              "\n",
              "\n",
              "  <div id=\"df-a57d4aac-2de9-4d3f-b238-0d357d300d78\">\n",
              "    <div class=\"colab-df-container\">\n",
              "      <div>\n",
              "<style scoped>\n",
              "    .dataframe tbody tr th:only-of-type {\n",
              "        vertical-align: middle;\n",
              "    }\n",
              "\n",
              "    .dataframe tbody tr th {\n",
              "        vertical-align: top;\n",
              "    }\n",
              "\n",
              "    .dataframe thead th {\n",
              "        text-align: right;\n",
              "    }\n",
              "</style>\n",
              "<table border=\"1\" class=\"dataframe\">\n",
              "  <thead>\n",
              "    <tr style=\"text-align: right;\">\n",
              "      <th></th>\n",
              "      <th>user_id</th>\n",
              "      <th>business_id</th>\n",
              "      <th>text</th>\n",
              "      <th>date</th>\n",
              "      <th>compliment_count</th>\n",
              "    </tr>\n",
              "  </thead>\n",
              "  <tbody>\n",
              "    <tr>\n",
              "      <th>0</th>\n",
              "      <td>AGNUgVwnZUey3gcPCJ76iw</td>\n",
              "      <td>3uLgwr0qeCNMjKenHJwPGQ</td>\n",
              "      <td>Avengers time with the ladies.</td>\n",
              "      <td>2012-05-18 02:17:21</td>\n",
              "      <td>0</td>\n",
              "    </tr>\n",
              "    <tr>\n",
              "      <th>1</th>\n",
              "      <td>NBN4MgHP9D3cw--SnauTkA</td>\n",
              "      <td>QoezRbYQncpRqyrLH6Iqjg</td>\n",
              "      <td>They have lots of good deserts and tasty cuban...</td>\n",
              "      <td>2013-02-05 18:35:10</td>\n",
              "      <td>0</td>\n",
              "    </tr>\n",
              "    <tr>\n",
              "      <th>2</th>\n",
              "      <td>-copOvldyKh1qr-vzkDEvw</td>\n",
              "      <td>MYoRNLb5chwjQe3c_k37Gg</td>\n",
              "      <td>It's open even when you think it isn't</td>\n",
              "      <td>2013-08-18 00:56:08</td>\n",
              "      <td>0</td>\n",
              "    </tr>\n",
              "    <tr>\n",
              "      <th>3</th>\n",
              "      <td>FjMQVZjSqY8syIO-53KFKw</td>\n",
              "      <td>hV-bABTK-glh5wj31ps_Jw</td>\n",
              "      <td>Very decent fried chicken</td>\n",
              "      <td>2017-06-27 23:05:38</td>\n",
              "      <td>0</td>\n",
              "    </tr>\n",
              "    <tr>\n",
              "      <th>4</th>\n",
              "      <td>ld0AperBXk1h6UbqmM80zw</td>\n",
              "      <td>_uN0OudeJ3Zl_tf6nxg5ww</td>\n",
              "      <td>Appetizers.. platter special for lunch</td>\n",
              "      <td>2012-10-06 19:43:09</td>\n",
              "      <td>0</td>\n",
              "    </tr>\n",
              "    <tr>\n",
              "      <th>5</th>\n",
              "      <td>trf3Qcz8qvCDKXiTgjUcEg</td>\n",
              "      <td>7Rm9Ba50bw23KTA8RedZYg</td>\n",
              "      <td>Chili Cup + Single Cheeseburger with onion, pi...</td>\n",
              "      <td>2012-03-13 04:00:52</td>\n",
              "      <td>0</td>\n",
              "    </tr>\n",
              "  </tbody>\n",
              "</table>\n",
              "</div>\n",
              "      <button class=\"colab-df-convert\" onclick=\"convertToInteractive('df-a57d4aac-2de9-4d3f-b238-0d357d300d78')\"\n",
              "              title=\"Convert this dataframe to an interactive table.\"\n",
              "              style=\"display:none;\">\n",
              "\n",
              "  <svg xmlns=\"http://www.w3.org/2000/svg\" height=\"24px\"viewBox=\"0 0 24 24\"\n",
              "       width=\"24px\">\n",
              "    <path d=\"M0 0h24v24H0V0z\" fill=\"none\"/>\n",
              "    <path d=\"M18.56 5.44l.94 2.06.94-2.06 2.06-.94-2.06-.94-.94-2.06-.94 2.06-2.06.94zm-11 1L8.5 8.5l.94-2.06 2.06-.94-2.06-.94L8.5 2.5l-.94 2.06-2.06.94zm10 10l.94 2.06.94-2.06 2.06-.94-2.06-.94-.94-2.06-.94 2.06-2.06.94z\"/><path d=\"M17.41 7.96l-1.37-1.37c-.4-.4-.92-.59-1.43-.59-.52 0-1.04.2-1.43.59L10.3 9.45l-7.72 7.72c-.78.78-.78 2.05 0 2.83L4 21.41c.39.39.9.59 1.41.59.51 0 1.02-.2 1.41-.59l7.78-7.78 2.81-2.81c.8-.78.8-2.07 0-2.86zM5.41 20L4 18.59l7.72-7.72 1.47 1.35L5.41 20z\"/>\n",
              "  </svg>\n",
              "      </button>\n",
              "\n",
              "\n",
              "\n",
              "    <div id=\"df-bac131b7-d3c6-41af-9bc7-300c4820ffed\">\n",
              "      <button class=\"colab-df-quickchart\" onclick=\"quickchart('df-bac131b7-d3c6-41af-9bc7-300c4820ffed')\"\n",
              "              title=\"Suggest charts.\"\n",
              "              style=\"display:none;\">\n",
              "\n",
              "<svg xmlns=\"http://www.w3.org/2000/svg\" height=\"24px\"viewBox=\"0 0 24 24\"\n",
              "     width=\"24px\">\n",
              "    <g>\n",
              "        <path d=\"M19 3H5c-1.1 0-2 .9-2 2v14c0 1.1.9 2 2 2h14c1.1 0 2-.9 2-2V5c0-1.1-.9-2-2-2zM9 17H7v-7h2v7zm4 0h-2V7h2v10zm4 0h-2v-4h2v4z\"/>\n",
              "    </g>\n",
              "</svg>\n",
              "      </button>\n",
              "    </div>\n",
              "\n",
              "<style>\n",
              "  .colab-df-quickchart {\n",
              "    background-color: #E8F0FE;\n",
              "    border: none;\n",
              "    border-radius: 50%;\n",
              "    cursor: pointer;\n",
              "    display: none;\n",
              "    fill: #1967D2;\n",
              "    height: 32px;\n",
              "    padding: 0 0 0 0;\n",
              "    width: 32px;\n",
              "  }\n",
              "\n",
              "  .colab-df-quickchart:hover {\n",
              "    background-color: #E2EBFA;\n",
              "    box-shadow: 0px 1px 2px rgba(60, 64, 67, 0.3), 0px 1px 3px 1px rgba(60, 64, 67, 0.15);\n",
              "    fill: #174EA6;\n",
              "  }\n",
              "\n",
              "  [theme=dark] .colab-df-quickchart {\n",
              "    background-color: #3B4455;\n",
              "    fill: #D2E3FC;\n",
              "  }\n",
              "\n",
              "  [theme=dark] .colab-df-quickchart:hover {\n",
              "    background-color: #434B5C;\n",
              "    box-shadow: 0px 1px 3px 1px rgba(0, 0, 0, 0.15);\n",
              "    filter: drop-shadow(0px 1px 2px rgba(0, 0, 0, 0.3));\n",
              "    fill: #FFFFFF;\n",
              "  }\n",
              "</style>\n",
              "\n",
              "    <script>\n",
              "      async function quickchart(key) {\n",
              "        const containerElement = document.querySelector('#' + key);\n",
              "        const charts = await google.colab.kernel.invokeFunction(\n",
              "            'suggestCharts', [key], {});\n",
              "      }\n",
              "    </script>\n",
              "\n",
              "      <script>\n",
              "\n",
              "function displayQuickchartButton(domScope) {\n",
              "  let quickchartButtonEl =\n",
              "    domScope.querySelector('#df-bac131b7-d3c6-41af-9bc7-300c4820ffed button.colab-df-quickchart');\n",
              "  quickchartButtonEl.style.display =\n",
              "    google.colab.kernel.accessAllowed ? 'block' : 'none';\n",
              "}\n",
              "\n",
              "        displayQuickchartButton(document);\n",
              "      </script>\n",
              "      <style>\n",
              "    .colab-df-container {\n",
              "      display:flex;\n",
              "      flex-wrap:wrap;\n",
              "      gap: 12px;\n",
              "    }\n",
              "\n",
              "    .colab-df-convert {\n",
              "      background-color: #E8F0FE;\n",
              "      border: none;\n",
              "      border-radius: 50%;\n",
              "      cursor: pointer;\n",
              "      display: none;\n",
              "      fill: #1967D2;\n",
              "      height: 32px;\n",
              "      padding: 0 0 0 0;\n",
              "      width: 32px;\n",
              "    }\n",
              "\n",
              "    .colab-df-convert:hover {\n",
              "      background-color: #E2EBFA;\n",
              "      box-shadow: 0px 1px 2px rgba(60, 64, 67, 0.3), 0px 1px 3px 1px rgba(60, 64, 67, 0.15);\n",
              "      fill: #174EA6;\n",
              "    }\n",
              "\n",
              "    [theme=dark] .colab-df-convert {\n",
              "      background-color: #3B4455;\n",
              "      fill: #D2E3FC;\n",
              "    }\n",
              "\n",
              "    [theme=dark] .colab-df-convert:hover {\n",
              "      background-color: #434B5C;\n",
              "      box-shadow: 0px 1px 3px 1px rgba(0, 0, 0, 0.15);\n",
              "      filter: drop-shadow(0px 1px 2px rgba(0, 0, 0, 0.3));\n",
              "      fill: #FFFFFF;\n",
              "    }\n",
              "  </style>\n",
              "\n",
              "      <script>\n",
              "        const buttonEl =\n",
              "          document.querySelector('#df-a57d4aac-2de9-4d3f-b238-0d357d300d78 button.colab-df-convert');\n",
              "        buttonEl.style.display =\n",
              "          google.colab.kernel.accessAllowed ? 'block' : 'none';\n",
              "\n",
              "        async function convertToInteractive(key) {\n",
              "          const element = document.querySelector('#df-a57d4aac-2de9-4d3f-b238-0d357d300d78');\n",
              "          const dataTable =\n",
              "            await google.colab.kernel.invokeFunction('convertToInteractive',\n",
              "                                                     [key], {});\n",
              "          if (!dataTable) return;\n",
              "\n",
              "          const docLinkHtml = 'Like what you see? Visit the ' +\n",
              "            '<a target=\"_blank\" href=https://colab.research.google.com/notebooks/data_table.ipynb>data table notebook</a>'\n",
              "            + ' to learn more about interactive tables.';\n",
              "          element.innerHTML = '';\n",
              "          dataTable['output_type'] = 'display_data';\n",
              "          await google.colab.output.renderOutput(dataTable, element);\n",
              "          const docLink = document.createElement('div');\n",
              "          docLink.innerHTML = docLinkHtml;\n",
              "          element.appendChild(docLink);\n",
              "        }\n",
              "      </script>\n",
              "    </div>\n",
              "  </div>\n"
            ]
          },
          "metadata": {},
          "execution_count": 116
        }
      ]
    },
    {
      "cell_type": "code",
      "source": [
        "df_tip.info()"
      ],
      "metadata": {
        "colab": {
          "base_uri": "https://localhost:8080/"
        },
        "id": "iXfjuVeOwzI2",
        "outputId": "3118e7eb-30e0-4f3f-e1b4-be9468a081d9"
      },
      "execution_count": null,
      "outputs": [
        {
          "output_type": "stream",
          "name": "stdout",
          "text": [
            "<class 'pandas.core.frame.DataFrame'>\n",
            "RangeIndex: 908915 entries, 0 to 908914\n",
            "Data columns (total 5 columns):\n",
            " #   Column            Non-Null Count   Dtype         \n",
            "---  ------            --------------   -----         \n",
            " 0   user_id           908915 non-null  object        \n",
            " 1   business_id       908915 non-null  object        \n",
            " 2   text              908915 non-null  object        \n",
            " 3   date              908915 non-null  datetime64[ns]\n",
            " 4   compliment_count  908915 non-null  int64         \n",
            "dtypes: datetime64[ns](1), int64(1), object(3)\n",
            "memory usage: 34.7+ MB\n"
          ]
        }
      ]
    },
    {
      "cell_type": "markdown",
      "metadata": {
        "id": "QWiiWYui-SSR"
      },
      "source": [
        " **Obtenemos un DataFrame que contenga solo las filas correspondientes a los negocios presentes en BusinessYelp**"
      ]
    },
    {
      "cell_type": "code",
      "execution_count": null,
      "metadata": {
        "id": "Ia-wN-K_-SSS"
      },
      "outputs": [],
      "source": [
        "df_tip=df_tip[df_tip['business_id'].isin(df_NYork.business_id.unique().tolist())]"
      ]
    },
    {
      "cell_type": "code",
      "execution_count": null,
      "metadata": {
        "id": "dfUu2xQ1-SSU",
        "outputId": "2723baf8-99a2-4953-bad7-db111e88545f",
        "colab": {
          "base_uri": "https://localhost:8080/",
          "height": 745
        }
      },
      "outputs": [
        {
          "output_type": "execute_result",
          "data": {
            "text/plain": [
              "                       user_id             business_id  \\\n",
              "9       4ay-fdVks5WMerYL_htkGQ  pICJRcyqW1cF96Q3XhLSbw   \n",
              "38      _YBX0Fy9pI0ktOQ9RtFhAg  nzqx3NJ1Yf-1bugLNikSCg   \n",
              "42      VECuzTUvA3FvaqSUrdXIMg  TghRoAMx43V-9l7mH-SENg   \n",
              "51      g-jD73ukXg5c3IKpv_sTyw  HgPTy_OGoaxllb2EXkC1sQ   \n",
              "64      cogPv5baWhsR-_Dcw3-Taw  -Xld662dL8WxrwP--bclIQ   \n",
              "...                        ...                     ...   \n",
              "908797  vUZz4qse2KQS9g8ux2ZIug  R_eXVjWKjlrf_HjJpmFmdg   \n",
              "908814  P8Q5y_pDMkH72bQ_mW0buA  LnTZm3Lvt_aPWzpd61eq6g   \n",
              "908873  zCXrIBe0LhylkQW_1VA0SA  GXFMD0Z4jEVZBCsbPf4CTQ   \n",
              "908879  UDaA2IhjcCe3IAmPGz8w1g  GXFMD0Z4jEVZBCsbPf4CTQ   \n",
              "908891  rhKiDyFzPW7pgfX_H1df8A  Ht66H1iGx0llc7ne81tjBw   \n",
              "\n",
              "                                                     text                date  \\\n",
              "9       Starbucks substitute in boring downtown Tampa.... 2012-06-09 22:57:04   \n",
              "38      Hours are incorrect on Yelp. They close at 3PM... 2016-07-30 20:44:04   \n",
              "42      Best Mahi fish tacos blackened I have ever had... 2016-04-18 23:24:33   \n",
              "51      Good peruvian place! For $10 a place, its wort... 2013-05-23 16:34:31   \n",
              "64                         The yum yum roll is delicious! 2011-05-01 01:48:56   \n",
              "...                                                   ...                 ...   \n",
              "908797  The carnitas were dry and bland... the chips a... 2021-09-18 21:02:17   \n",
              "908814  Very disappointing service. Very slow and staf... 2014-07-27 11:27:36   \n",
              "908873                                          Excellent 2018-03-12 22:31:00   \n",
              "908879         Great food. Well worth the 90 minute wait. 2019-04-06 05:23:27   \n",
              "908891               Nasty. Cold coffee and took too long 2021-01-18 14:42:29   \n",
              "\n",
              "        compliment_count  \n",
              "9                      0  \n",
              "38                     0  \n",
              "42                     0  \n",
              "51                     0  \n",
              "64                     0  \n",
              "...                  ...  \n",
              "908797                 0  \n",
              "908814                 0  \n",
              "908873                 0  \n",
              "908879                 0  \n",
              "908891                 0  \n",
              "\n",
              "[52302 rows x 5 columns]"
            ],
            "text/html": [
              "\n",
              "\n",
              "  <div id=\"df-66391f36-299e-498c-be30-30cb65a7f2c3\">\n",
              "    <div class=\"colab-df-container\">\n",
              "      <div>\n",
              "<style scoped>\n",
              "    .dataframe tbody tr th:only-of-type {\n",
              "        vertical-align: middle;\n",
              "    }\n",
              "\n",
              "    .dataframe tbody tr th {\n",
              "        vertical-align: top;\n",
              "    }\n",
              "\n",
              "    .dataframe thead th {\n",
              "        text-align: right;\n",
              "    }\n",
              "</style>\n",
              "<table border=\"1\" class=\"dataframe\">\n",
              "  <thead>\n",
              "    <tr style=\"text-align: right;\">\n",
              "      <th></th>\n",
              "      <th>user_id</th>\n",
              "      <th>business_id</th>\n",
              "      <th>text</th>\n",
              "      <th>date</th>\n",
              "      <th>compliment_count</th>\n",
              "    </tr>\n",
              "  </thead>\n",
              "  <tbody>\n",
              "    <tr>\n",
              "      <th>9</th>\n",
              "      <td>4ay-fdVks5WMerYL_htkGQ</td>\n",
              "      <td>pICJRcyqW1cF96Q3XhLSbw</td>\n",
              "      <td>Starbucks substitute in boring downtown Tampa....</td>\n",
              "      <td>2012-06-09 22:57:04</td>\n",
              "      <td>0</td>\n",
              "    </tr>\n",
              "    <tr>\n",
              "      <th>38</th>\n",
              "      <td>_YBX0Fy9pI0ktOQ9RtFhAg</td>\n",
              "      <td>nzqx3NJ1Yf-1bugLNikSCg</td>\n",
              "      <td>Hours are incorrect on Yelp. They close at 3PM...</td>\n",
              "      <td>2016-07-30 20:44:04</td>\n",
              "      <td>0</td>\n",
              "    </tr>\n",
              "    <tr>\n",
              "      <th>42</th>\n",
              "      <td>VECuzTUvA3FvaqSUrdXIMg</td>\n",
              "      <td>TghRoAMx43V-9l7mH-SENg</td>\n",
              "      <td>Best Mahi fish tacos blackened I have ever had...</td>\n",
              "      <td>2016-04-18 23:24:33</td>\n",
              "      <td>0</td>\n",
              "    </tr>\n",
              "    <tr>\n",
              "      <th>51</th>\n",
              "      <td>g-jD73ukXg5c3IKpv_sTyw</td>\n",
              "      <td>HgPTy_OGoaxllb2EXkC1sQ</td>\n",
              "      <td>Good peruvian place! For $10 a place, its wort...</td>\n",
              "      <td>2013-05-23 16:34:31</td>\n",
              "      <td>0</td>\n",
              "    </tr>\n",
              "    <tr>\n",
              "      <th>64</th>\n",
              "      <td>cogPv5baWhsR-_Dcw3-Taw</td>\n",
              "      <td>-Xld662dL8WxrwP--bclIQ</td>\n",
              "      <td>The yum yum roll is delicious!</td>\n",
              "      <td>2011-05-01 01:48:56</td>\n",
              "      <td>0</td>\n",
              "    </tr>\n",
              "    <tr>\n",
              "      <th>...</th>\n",
              "      <td>...</td>\n",
              "      <td>...</td>\n",
              "      <td>...</td>\n",
              "      <td>...</td>\n",
              "      <td>...</td>\n",
              "    </tr>\n",
              "    <tr>\n",
              "      <th>908797</th>\n",
              "      <td>vUZz4qse2KQS9g8ux2ZIug</td>\n",
              "      <td>R_eXVjWKjlrf_HjJpmFmdg</td>\n",
              "      <td>The carnitas were dry and bland... the chips a...</td>\n",
              "      <td>2021-09-18 21:02:17</td>\n",
              "      <td>0</td>\n",
              "    </tr>\n",
              "    <tr>\n",
              "      <th>908814</th>\n",
              "      <td>P8Q5y_pDMkH72bQ_mW0buA</td>\n",
              "      <td>LnTZm3Lvt_aPWzpd61eq6g</td>\n",
              "      <td>Very disappointing service. Very slow and staf...</td>\n",
              "      <td>2014-07-27 11:27:36</td>\n",
              "      <td>0</td>\n",
              "    </tr>\n",
              "    <tr>\n",
              "      <th>908873</th>\n",
              "      <td>zCXrIBe0LhylkQW_1VA0SA</td>\n",
              "      <td>GXFMD0Z4jEVZBCsbPf4CTQ</td>\n",
              "      <td>Excellent</td>\n",
              "      <td>2018-03-12 22:31:00</td>\n",
              "      <td>0</td>\n",
              "    </tr>\n",
              "    <tr>\n",
              "      <th>908879</th>\n",
              "      <td>UDaA2IhjcCe3IAmPGz8w1g</td>\n",
              "      <td>GXFMD0Z4jEVZBCsbPf4CTQ</td>\n",
              "      <td>Great food. Well worth the 90 minute wait.</td>\n",
              "      <td>2019-04-06 05:23:27</td>\n",
              "      <td>0</td>\n",
              "    </tr>\n",
              "    <tr>\n",
              "      <th>908891</th>\n",
              "      <td>rhKiDyFzPW7pgfX_H1df8A</td>\n",
              "      <td>Ht66H1iGx0llc7ne81tjBw</td>\n",
              "      <td>Nasty. Cold coffee and took too long</td>\n",
              "      <td>2021-01-18 14:42:29</td>\n",
              "      <td>0</td>\n",
              "    </tr>\n",
              "  </tbody>\n",
              "</table>\n",
              "<p>52302 rows × 5 columns</p>\n",
              "</div>\n",
              "      <button class=\"colab-df-convert\" onclick=\"convertToInteractive('df-66391f36-299e-498c-be30-30cb65a7f2c3')\"\n",
              "              title=\"Convert this dataframe to an interactive table.\"\n",
              "              style=\"display:none;\">\n",
              "\n",
              "  <svg xmlns=\"http://www.w3.org/2000/svg\" height=\"24px\"viewBox=\"0 0 24 24\"\n",
              "       width=\"24px\">\n",
              "    <path d=\"M0 0h24v24H0V0z\" fill=\"none\"/>\n",
              "    <path d=\"M18.56 5.44l.94 2.06.94-2.06 2.06-.94-2.06-.94-.94-2.06-.94 2.06-2.06.94zm-11 1L8.5 8.5l.94-2.06 2.06-.94-2.06-.94L8.5 2.5l-.94 2.06-2.06.94zm10 10l.94 2.06.94-2.06 2.06-.94-2.06-.94-.94-2.06-.94 2.06-2.06.94z\"/><path d=\"M17.41 7.96l-1.37-1.37c-.4-.4-.92-.59-1.43-.59-.52 0-1.04.2-1.43.59L10.3 9.45l-7.72 7.72c-.78.78-.78 2.05 0 2.83L4 21.41c.39.39.9.59 1.41.59.51 0 1.02-.2 1.41-.59l7.78-7.78 2.81-2.81c.8-.78.8-2.07 0-2.86zM5.41 20L4 18.59l7.72-7.72 1.47 1.35L5.41 20z\"/>\n",
              "  </svg>\n",
              "      </button>\n",
              "\n",
              "\n",
              "\n",
              "    <div id=\"df-fc6a248f-65b1-4703-8611-f35c75f85f78\">\n",
              "      <button class=\"colab-df-quickchart\" onclick=\"quickchart('df-fc6a248f-65b1-4703-8611-f35c75f85f78')\"\n",
              "              title=\"Suggest charts.\"\n",
              "              style=\"display:none;\">\n",
              "\n",
              "<svg xmlns=\"http://www.w3.org/2000/svg\" height=\"24px\"viewBox=\"0 0 24 24\"\n",
              "     width=\"24px\">\n",
              "    <g>\n",
              "        <path d=\"M19 3H5c-1.1 0-2 .9-2 2v14c0 1.1.9 2 2 2h14c1.1 0 2-.9 2-2V5c0-1.1-.9-2-2-2zM9 17H7v-7h2v7zm4 0h-2V7h2v10zm4 0h-2v-4h2v4z\"/>\n",
              "    </g>\n",
              "</svg>\n",
              "      </button>\n",
              "    </div>\n",
              "\n",
              "<style>\n",
              "  .colab-df-quickchart {\n",
              "    background-color: #E8F0FE;\n",
              "    border: none;\n",
              "    border-radius: 50%;\n",
              "    cursor: pointer;\n",
              "    display: none;\n",
              "    fill: #1967D2;\n",
              "    height: 32px;\n",
              "    padding: 0 0 0 0;\n",
              "    width: 32px;\n",
              "  }\n",
              "\n",
              "  .colab-df-quickchart:hover {\n",
              "    background-color: #E2EBFA;\n",
              "    box-shadow: 0px 1px 2px rgba(60, 64, 67, 0.3), 0px 1px 3px 1px rgba(60, 64, 67, 0.15);\n",
              "    fill: #174EA6;\n",
              "  }\n",
              "\n",
              "  [theme=dark] .colab-df-quickchart {\n",
              "    background-color: #3B4455;\n",
              "    fill: #D2E3FC;\n",
              "  }\n",
              "\n",
              "  [theme=dark] .colab-df-quickchart:hover {\n",
              "    background-color: #434B5C;\n",
              "    box-shadow: 0px 1px 3px 1px rgba(0, 0, 0, 0.15);\n",
              "    filter: drop-shadow(0px 1px 2px rgba(0, 0, 0, 0.3));\n",
              "    fill: #FFFFFF;\n",
              "  }\n",
              "</style>\n",
              "\n",
              "    <script>\n",
              "      async function quickchart(key) {\n",
              "        const containerElement = document.querySelector('#' + key);\n",
              "        const charts = await google.colab.kernel.invokeFunction(\n",
              "            'suggestCharts', [key], {});\n",
              "      }\n",
              "    </script>\n",
              "\n",
              "      <script>\n",
              "\n",
              "function displayQuickchartButton(domScope) {\n",
              "  let quickchartButtonEl =\n",
              "    domScope.querySelector('#df-fc6a248f-65b1-4703-8611-f35c75f85f78 button.colab-df-quickchart');\n",
              "  quickchartButtonEl.style.display =\n",
              "    google.colab.kernel.accessAllowed ? 'block' : 'none';\n",
              "}\n",
              "\n",
              "        displayQuickchartButton(document);\n",
              "      </script>\n",
              "      <style>\n",
              "    .colab-df-container {\n",
              "      display:flex;\n",
              "      flex-wrap:wrap;\n",
              "      gap: 12px;\n",
              "    }\n",
              "\n",
              "    .colab-df-convert {\n",
              "      background-color: #E8F0FE;\n",
              "      border: none;\n",
              "      border-radius: 50%;\n",
              "      cursor: pointer;\n",
              "      display: none;\n",
              "      fill: #1967D2;\n",
              "      height: 32px;\n",
              "      padding: 0 0 0 0;\n",
              "      width: 32px;\n",
              "    }\n",
              "\n",
              "    .colab-df-convert:hover {\n",
              "      background-color: #E2EBFA;\n",
              "      box-shadow: 0px 1px 2px rgba(60, 64, 67, 0.3), 0px 1px 3px 1px rgba(60, 64, 67, 0.15);\n",
              "      fill: #174EA6;\n",
              "    }\n",
              "\n",
              "    [theme=dark] .colab-df-convert {\n",
              "      background-color: #3B4455;\n",
              "      fill: #D2E3FC;\n",
              "    }\n",
              "\n",
              "    [theme=dark] .colab-df-convert:hover {\n",
              "      background-color: #434B5C;\n",
              "      box-shadow: 0px 1px 3px 1px rgba(0, 0, 0, 0.15);\n",
              "      filter: drop-shadow(0px 1px 2px rgba(0, 0, 0, 0.3));\n",
              "      fill: #FFFFFF;\n",
              "    }\n",
              "  </style>\n",
              "\n",
              "      <script>\n",
              "        const buttonEl =\n",
              "          document.querySelector('#df-66391f36-299e-498c-be30-30cb65a7f2c3 button.colab-df-convert');\n",
              "        buttonEl.style.display =\n",
              "          google.colab.kernel.accessAllowed ? 'block' : 'none';\n",
              "\n",
              "        async function convertToInteractive(key) {\n",
              "          const element = document.querySelector('#df-66391f36-299e-498c-be30-30cb65a7f2c3');\n",
              "          const dataTable =\n",
              "            await google.colab.kernel.invokeFunction('convertToInteractive',\n",
              "                                                     [key], {});\n",
              "          if (!dataTable) return;\n",
              "\n",
              "          const docLinkHtml = 'Like what you see? Visit the ' +\n",
              "            '<a target=\"_blank\" href=https://colab.research.google.com/notebooks/data_table.ipynb>data table notebook</a>'\n",
              "            + ' to learn more about interactive tables.';\n",
              "          element.innerHTML = '';\n",
              "          dataTable['output_type'] = 'display_data';\n",
              "          await google.colab.output.renderOutput(dataTable, element);\n",
              "          const docLink = document.createElement('div');\n",
              "          docLink.innerHTML = docLinkHtml;\n",
              "          element.appendChild(docLink);\n",
              "        }\n",
              "      </script>\n",
              "    </div>\n",
              "  </div>\n"
            ]
          },
          "metadata": {},
          "execution_count": 119
        }
      ],
      "source": [
        "df_tip"
      ]
    },
    {
      "cell_type": "markdown",
      "metadata": {
        "id": "wVvg7whS-SSZ"
      },
      "source": [
        "**Hacemos una unión df_tip con df_NYork**"
      ]
    },
    {
      "cell_type": "code",
      "execution_count": null,
      "metadata": {
        "id": "mHdwESTn-SSa"
      },
      "outputs": [],
      "source": [
        "df_tip=df_NYork.merge(df_tip,left_on='business_id',right_on='business_id',how='right')[['user_id', 'business_id', 'text', 'date', 'compliment_count']]"
      ]
    },
    {
      "cell_type": "markdown",
      "metadata": {
        "id": "bzOc1xkh-SSb"
      },
      "source": [
        "**Hacemos una unión df_tip con UsuarioYelp**"
      ]
    },
    {
      "cell_type": "code",
      "execution_count": null,
      "metadata": {
        "id": "wwEZe10j-SSd"
      },
      "outputs": [],
      "source": [
        "df_tip=dfusuario.merge(df_tip,left_on='yelp_id',right_on='user_id',how='right')[['id_user', 'business_id', 'text', 'date', 'compliment_count']]"
      ]
    },
    {
      "cell_type": "markdown",
      "metadata": {
        "id": "EEtDfydN-SSf"
      },
      "source": [
        "**Cargamos dato resultante en tabla tip de Yelp**"
      ]
    },
    {
      "cell_type": "code",
      "execution_count": null,
      "metadata": {
        "id": "pq7QeUeV-SSg"
      },
      "outputs": [],
      "source": [
        "df_tip.to_csv('tipsYelp.csv',index=False)"
      ]
    },
    {
      "cell_type": "markdown",
      "metadata": {
        "id": "IGjrtwUF-SSh"
      },
      "source": [
        "### **review.json**"
      ]
    },
    {
      "cell_type": "markdown",
      "metadata": {
        "id": "yDr6EDAa-SSi"
      },
      "source": [
        "**Leemos el archivo review.json de Yelp**"
      ]
    },
    {
      "cell_type": "code",
      "execution_count": null,
      "metadata": {
        "id": "yHLI6fLr-SSj"
      },
      "outputs": [],
      "source": [
        "jsonarr=[]\n",
        "with open(\"/content/drive/MyDrive/P_F_H/review.json\", 'r',encoding='utf-8') as f:\n",
        "    for line in f:\n",
        "        jsonarr.append(json.loads(line))\n",
        "\n",
        "\n",
        "df_review = pd.DataFrame(jsonarr)"
      ]
    },
    {
      "cell_type": "code",
      "source": [
        "df = pd.read_json(\"/content/drive/MyDrive/P_F_H/review.json\", orient ='index')\n",
        "print(df)"
      ],
      "metadata": {
        "id": "wvBOtGjAjXC2"
      },
      "execution_count": null,
      "outputs": []
    },
    {
      "cell_type": "markdown",
      "metadata": {
        "id": "P7QHTmLD-SS9"
      },
      "source": [
        "# **ETL de Archivos de Google Maps**\n",
        "---"
      ]
    },
    {
      "cell_type": "markdown",
      "metadata": {
        "id": "xZlDFA---SS_"
      },
      "source": [
        "## **Review Estados**\n",
        "---"
      ]
    },
    {
      "cell_type": "markdown",
      "source": [
        "### **Estado New York**\n",
        "---"
      ],
      "metadata": {
        "id": "MvwzeB0S404G"
      }
    }
  ],
  "metadata": {
    "kernelspec": {
      "display_name": "Python 3",
      "language": "python",
      "name": "python3"
    },
    "language_info": {
      "codemirror_mode": {
        "name": "ipython",
        "version": 3
      },
      "file_extension": ".py",
      "mimetype": "text/x-python",
      "name": "python",
      "nbconvert_exporter": "python",
      "pygments_lexer": "ipython3",
      "version": "3.9.13"
    },
    "orig_nbformat": 4,
    "colab": {
      "provenance": []
    }
  },
  "nbformat": 4,
  "nbformat_minor": 0
}