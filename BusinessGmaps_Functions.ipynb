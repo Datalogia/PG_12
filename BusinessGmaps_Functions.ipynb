{
  "cells": [
    {
      "cell_type": "code",
      "execution_count": 5,
      "metadata": {
        "id": "hOPDCeIxsz5u"
      },
      "outputs": [],
      "source": [
        "\n",
        "import seaborn as sns\n",
        "import missingno as msno\n",
        "from datetime import datetime\n",
        "import statsmodels.api as sm\n",
        "import os\n",
        "import pandas as pd\n",
        "import json\n",
        "import numpy as np\n",
        "import pickle\n",
        "import ast\n",
        "pd.set_option('display.max_columns', None)"
      ]
    },
    {
      "cell_type": "code",
      "execution_count": 6,
      "metadata": {
        "colab": {
          "base_uri": "https://localhost:8080/"
        },
        "id": "BgfxTpVbk-6i",
        "outputId": "e568582b-23ac-4722-e9ef-69279dd45c33"
      },
      "outputs": [
        {
          "output_type": "stream",
          "name": "stdout",
          "text": [
            "<class 'pandas.core.frame.DataFrame'>\n",
            "RangeIndex: 22052 entries, 0 to 22051\n",
            "Data columns (total 16 columns):\n",
            " #   Column          Non-Null Count  Dtype         \n",
            "---  ------          --------------  -----         \n",
            " 0   name            22052 non-null  object        \n",
            " 1   address         22052 non-null  object        \n",
            " 2   gmap_id         22052 non-null  object        \n",
            " 3   description     22052 non-null  object        \n",
            " 4   latitude        22052 non-null  float64       \n",
            " 5   longitude       22052 non-null  float64       \n",
            " 6   category        22052 non-null  object        \n",
            " 7   avg_rating      22052 non-null  float64       \n",
            " 8   num_of_reviews  22052 non-null  int64         \n",
            " 9   MISC            22052 non-null  object        \n",
            " 10  user_id         22052 non-null  object        \n",
            " 11  time            22052 non-null  datetime64[ns]\n",
            " 12  rating          22052 non-null  int64         \n",
            " 13  text            10192 non-null  object        \n",
            " 14  hour            22052 non-null  object        \n",
            " 15  date            22052 non-null  object        \n",
            "dtypes: datetime64[ns](1), float64(3), int64(2), object(10)\n",
            "memory usage: 2.7+ MB\n"
          ]
        }
      ],
      "source": [
        "\n",
        "# archivo a entrecruzar por id de usuario\n",
        "df_y1=pd.read_parquet('/content/drive/MyDrive/P_F_H/google_concat-3 (1).parquet')\n",
        "df_y1.info()"
      ]
    },
    {
      "cell_type": "code",
      "source": [
        "df_y1.columns"
      ],
      "metadata": {
        "colab": {
          "base_uri": "https://localhost:8080/"
        },
        "id": "-3Tw-ixJF2XD",
        "outputId": "13969275-2d24-4c47-f796-f95c7353869f"
      },
      "execution_count": 4,
      "outputs": [
        {
          "output_type": "execute_result",
          "data": {
            "text/plain": [
              "Index(['name', 'address', 'gmap_id', 'description', 'latitude', 'longitude',\n",
              "       'category', 'avg_rating', 'num_of_reviews', 'MISC', 'user_id', 'time',\n",
              "       'rating', 'text', 'hour', 'date'],\n",
              "      dtype='object')"
            ]
          },
          "metadata": {},
          "execution_count": 4
        }
      ]
    },
    {
      "cell_type": "code",
      "execution_count": 7,
      "metadata": {
        "colab": {
          "base_uri": "https://localhost:8080/"
        },
        "id": "gLAnkix3vCOQ",
        "outputId": "4c8e3abc-015d-492e-9f15-88732a8e9510"
      },
      "outputs": [
        {
          "output_type": "execute_result",
          "data": {
            "text/plain": [
              "22052"
            ]
          },
          "metadata": {},
          "execution_count": 7
        }
      ],
      "source": [
        "df_y1['avg_rating'].count()"
      ]
    },
    {
      "cell_type": "code",
      "source": [
        "len(df_y1.address.unique())"
      ],
      "metadata": {
        "colab": {
          "base_uri": "https://localhost:8080/"
        },
        "id": "w2_4_3KE1Jmo",
        "outputId": "16ccd9a9-dd33-4183-815c-5e54cd9aa78d"
      },
      "execution_count": 21,
      "outputs": [
        {
          "output_type": "execute_result",
          "data": {
            "text/plain": [
              "36"
            ]
          },
          "metadata": {},
          "execution_count": 21
        }
      ]
    },
    {
      "cell_type": "code",
      "source": [
        "df_y1['longitude']"
      ],
      "metadata": {
        "colab": {
          "base_uri": "https://localhost:8080/"
        },
        "id": "JkQ49ax3KNDA",
        "outputId": "44d67ad3-efb3-4073-ff9e-ea73fd334a2b"
      },
      "execution_count": 31,
      "outputs": [
        {
          "output_type": "execute_result",
          "data": {
            "text/plain": [
              "0       -73.955392\n",
              "1       -73.955392\n",
              "2       -73.955392\n",
              "3       -73.955392\n",
              "4       -73.955392\n",
              "           ...    \n",
              "22047   -73.999704\n",
              "22048   -73.999704\n",
              "22049   -73.999704\n",
              "22050   -73.999704\n",
              "22051   -73.999704\n",
              "Name: longitude, Length: 22052, dtype: float64"
            ]
          },
          "metadata": {},
          "execution_count": 31
        }
      ]
    },
    {
      "cell_type": "code",
      "source": [
        "df_y1.address.unique()"
      ],
      "metadata": {
        "colab": {
          "base_uri": "https://localhost:8080/"
        },
        "id": "Fd3soK2j14Vy",
        "outputId": "924de4a5-caf7-4270-e338-2ce8d972cfa4"
      },
      "execution_count": 27,
      "outputs": [
        {
          "output_type": "execute_result",
          "data": {
            "text/plain": [
              "array([\"McDonald's, 1000 Palisades Center Dr, West Nyack, NY 10994\",\n",
              "       \"McDonald's, 341 5th Ave, New York, NY 10016\",\n",
              "       \"McDonald's, 90-15 Queens Blvd, Queens, NY 11373\",\n",
              "       \"McDonald's, 3 Main St, Delhi, NY 13753\",\n",
              "       \"McDonald's, 650 Rte 9W, Highland, NY 12528\",\n",
              "       \"McDonald's, 9505 57th Ave, Queens, NY 11373\",\n",
              "       \"McDonald's, 132 Delaware Ave, Delmar, NY 12054, United States\",\n",
              "       \"McDonald's, 428 Knickerbocker Ave, Brooklyn, NY 11237, United States\",\n",
              "       \"McDonald's, 4259 Broadway, New York, NY 10033, United States\",\n",
              "       \"McDonald's, 52 Fulton St, New York, NY 10038, United States\",\n",
              "       \"McDonald's, 3120 Niagara Falls Blvd, Amherst, NY 14228, United States\",\n",
              "       \"McDonald's, 3267 Richmond Ave, Staten Island, NY 10312\",\n",
              "       \"McDonald's, 2660 Brickyard Rd, Warners, NY 13164\",\n",
              "       \"McDonald's, 2870 3rd Ave., Bronx, NY 10451, United States\",\n",
              "       \"McDonald's, 2410 Coney Island Ave, Brooklyn, NY 11223, United States\",\n",
              "       \"McDonald's, 265 NY-59, Nanuet, NY 10954, United States\",\n",
              "       \"McDonald's, 1403 NY-300, Newburgh, NY 12550, United States\",\n",
              "       \"McDonald's, 501 NY-17M, Monroe, NY 10950\",\n",
              "       \"McDonald's, 481 NY-211 E, Middletown, NY 10940, United States\",\n",
              "       \"McDonald's, 376 Feura Bush Rd, Glenmont, NY 12077, United States\",\n",
              "       \"McDonald's, 216-07 Linden Blvd, Queens, NY 11411, United States\",\n",
              "       \"McDonald's, 160 Broadway, New York, NY 10038, United States\",\n",
              "       \"McDonald's, 1380 Broadway, Brooklyn, NY 11221, United States\",\n",
              "       \"McDonald's, 819 Granville Payne Ave, Brooklyn, NY 11207, United States\",\n",
              "       \"McDonald's, 57 Empire Blvd, Brooklyn, NY 11225, United States\",\n",
              "       \"McDonald's, 701 Utica Ave, Brooklyn, NY 11203, United States\",\n",
              "       \"McDonald's, 121 Merrick Rd, Lynbrook, NY 11563, United States\",\n",
              "       \"McDonald's, 166-05 Rockaway Blvd, Queens, NY 11434, United States\",\n",
              "       \"McDonald's, 192 Corinth Rd, Queensbury, NY 12804, United States\",\n",
              "       \"McDonald's, 101 E 170th St, Bronx, NY 10456, United States\",\n",
              "       \"McDonald's, 1188 6th Ave, New York, NY 10036, United States\",\n",
              "       \"McDonald's, 1200 Nepperhan Ave, Yonkers, NY 10703, United States\",\n",
              "       \"McDonald's, 107 7th N St, Liverpool, NY 13088\",\n",
              "       \"McDonald's, 982 Southern Blvd, Bronx, NY 10459\",\n",
              "       \"McDonald's, 735 9th Ave, New York, NY 10019\",\n",
              "       \"McDonald's, 427 10th Ave, New York, NY 10001\"], dtype=object)"
            ]
          },
          "metadata": {},
          "execution_count": 27
        }
      ]
    },
    {
      "cell_type": "code",
      "execution_count": 24,
      "metadata": {
        "colab": {
          "base_uri": "https://localhost:8080/"
        },
        "id": "ldRrmIjGtWn9",
        "outputId": "8b88f895-8586-426e-d268-b79ba6b82e84"
      },
      "outputs": [
        {
          "output_type": "stream",
          "name": "stdout",
          "text": [
            "<class 'pandas.core.frame.DataFrame'>\n",
            "RangeIndex: 22052 entries, 0 to 22051\n",
            "Data columns (total 4 columns):\n",
            " #   Column     Non-Null Count  Dtype  \n",
            "---  ------     --------------  -----  \n",
            " 0   name       22052 non-null  object \n",
            " 1   address    22052 non-null  object \n",
            " 2   latitude   22052 non-null  float64\n",
            " 3   longitude  22052 non-null  float64\n",
            "dtypes: float64(2), object(2)\n",
            "memory usage: 689.2+ KB\n"
          ]
        }
      ],
      "source": [
        "df_y1[['name','address','latitude','longitude']].info()"
      ]
    },
    {
      "cell_type": "code",
      "source": [
        "df_y1.to_csv(\"Lista_McDonald's_map.csv\", index=False)"
      ],
      "metadata": {
        "id": "o-1ign6zqLF4"
      },
      "execution_count": 13,
      "outputs": []
    },
    {
      "cell_type": "code",
      "source": [
        "df_y1.to_excel(\"Lista_McDonald's_map.xlsx\", index=False)"
      ],
      "metadata": {
        "id": "VS5ai9_trgTP"
      },
      "execution_count": 15,
      "outputs": []
    },
    {
      "cell_type": "markdown",
      "source": [
        "**Funciones usadas en Api**\n",
        "---"
      ],
      "metadata": {
        "id": "0c5JMRY6RSYZ"
      }
    },
    {
      "cell_type": "code",
      "source": [
        "# Devuelve la distancia desde el punto origen elegido, hasta los puntos\n",
        "# o coordenadas de los locales en el dataset estudiado\n",
        "from numpy import sin, cos, arccos, pi, round\n",
        "\n",
        "def rad2deg(radians):\n",
        "    degrees = radians * 180 / pi\n",
        "    return degrees\n",
        "\n",
        "def deg2rad(degrees):\n",
        "    radians = degrees * pi / 180\n",
        "    return radians\n",
        "\n",
        "def getDistanceBetweenPointsNew(latitude1, longitude1, latitude2, longitude2, unit = 'miles'):\n",
        "\n",
        "    theta = longitude1 - longitude2\n",
        "\n",
        "    distance = 60 * 1.1515 * rad2deg(\n",
        "        arccos(\n",
        "            (sin(deg2rad(latitude1)) * sin(deg2rad(latitude2))) +\n",
        "            (cos(deg2rad(latitude1)) * cos(deg2rad(latitude2)) * cos(deg2rad(theta)))\n",
        "        )\n",
        "    )\n",
        "\n",
        "    if unit == 'miles':\n",
        "        return round(distance, 2)\n",
        "    if unit == 'kilometers':\n",
        "        return round(distance * 1.609344, 2)"
      ],
      "metadata": {
        "id": "IgFzmlPuWxzD"
      },
      "execution_count": null,
      "outputs": []
    },
    {
      "cell_type": "markdown",
      "source": [
        "Elijo la ubicacion del estadio Madison square Garden de nueva York"
      ],
      "metadata": {
        "id": "_DGaVs0VGnAJ"
      }
    },
    {
      "cell_type": "code",
      "source": [
        "#print('Ingrese franquicia Objetivo')\n",
        "fran=\"McDonald's\"\n",
        "df_sub=df_metdata[df_metdata['name']==\"McDonald's\"]\n",
        "#print('Ingreso ubicacion objetivo:')\n",
        "pos=\"4 Pennsylvania Plaza, New York, NY 10001, Estados Unidos\"\n",
        "# coordenadas de pos= 40.7505857487512, -73.9934547975895\n",
        "# df_sub.longitude ## a modo ejemplo"
      ],
      "metadata": {
        "id": "YcXZsJXvXD20"
      },
      "execution_count": null,
      "outputs": []
    },
    {
      "cell_type": "code",
      "source": [
        "latitude1=40.7505857487512\n",
        "longitude1=-73.9934547975895\n",
        "df_sub['distancia']=''\n",
        "for i in df_sub.index:\n",
        "  latitude2=df_sub.latitude[i]\n",
        "  #print(latitude2)\n",
        "  longitude2=df_sub.longitude[i]\n",
        "  #print(longitude2)\n",
        "  d=getDistanceBetweenPointsNew(latitude1, longitude1, latitude2, longitude2, unit = 'miles')\n",
        "  #print(d)\n",
        "  df_sub.distancia[i]=d\n",
        "\n",
        "df_sub.sort_values('distancia', inplace=True)\n",
        "df_sub.url\n",
        "#df_sub.url[140017]"
      ],
      "metadata": {
        "colab": {
          "base_uri": "https://localhost:8080/"
        },
        "id": "xqcBuP_zW3Lq",
        "outputId": "d0d5a84f-ba49-438c-9438-a2a7ed7194b8"
      },
      "execution_count": null,
      "outputs": [
        {
          "output_type": "stream",
          "name": "stderr",
          "text": [
            "<ipython-input-73-62232d6d4175>:3: SettingWithCopyWarning: \n",
            "A value is trying to be set on a copy of a slice from a DataFrame.\n",
            "Try using .loc[row_indexer,col_indexer] = value instead\n",
            "\n",
            "See the caveats in the documentation: https://pandas.pydata.org/pandas-docs/stable/user_guide/indexing.html#returning-a-view-versus-a-copy\n",
            "  df_sub['distancia']=''\n",
            "<ipython-input-73-62232d6d4175>:11: SettingWithCopyWarning: \n",
            "A value is trying to be set on a copy of a slice from a DataFrame\n",
            "\n",
            "See the caveats in the documentation: https://pandas.pydata.org/pandas-docs/stable/user_guide/indexing.html#returning-a-view-versus-a-copy\n",
            "  df_sub.distancia[i]=d\n",
            "<ipython-input-73-62232d6d4175>:13: SettingWithCopyWarning: \n",
            "A value is trying to be set on a copy of a slice from a DataFrame\n",
            "\n",
            "See the caveats in the documentation: https://pandas.pydata.org/pandas-docs/stable/user_guide/indexing.html#returning-a-view-versus-a-copy\n",
            "  df_sub.sort_values('distancia', inplace=True)\n"
          ]
        },
        {
          "output_type": "execute_result",
          "data": {
            "text/plain": [
              "6690      https://www.google.com/maps/place//data=!4m2!3...\n",
              "33263     https://www.google.com/maps/place//data=!4m2!3...\n",
              "6679      https://www.google.com/maps/place//data=!4m2!3...\n",
              "33252     https://www.google.com/maps/place//data=!4m2!3...\n",
              "69334     https://www.google.com/maps/place//data=!4m2!3...\n",
              "197519    https://www.google.com/maps/place//data=!4m2!3...\n",
              "128968    https://www.google.com/maps/place//data=!4m2!3...\n",
              "64600     https://www.google.com/maps/place//data=!4m2!3...\n",
              "137130    https://www.google.com/maps/place//data=!4m2!3...\n",
              "246932    https://www.google.com/maps/place//data=!4m2!3...\n",
              "151027    https://www.google.com/maps/place//data=!4m2!3...\n",
              "173549    https://www.google.com/maps/place//data=!4m2!3...\n",
              "140636    https://www.google.com/maps/place//data=!4m2!3...\n",
              "172225    https://www.google.com/maps/place//data=!4m2!3...\n",
              "249021    https://www.google.com/maps/place//data=!4m2!3...\n",
              "238150    https://www.google.com/maps/place//data=!4m2!3...\n",
              "34137     https://www.google.com/maps/place//data=!4m2!3...\n",
              "7564      https://www.google.com/maps/place//data=!4m2!3...\n",
              "105835    https://www.google.com/maps/place//data=!4m2!3...\n",
              "156473    https://www.google.com/maps/place//data=!4m2!3...\n",
              "42831     https://www.google.com/maps/place//data=!4m2!3...\n",
              "16258     https://www.google.com/maps/place//data=!4m2!3...\n",
              "108416    https://www.google.com/maps/place//data=!4m2!3...\n",
              "263786    https://www.google.com/maps/place//data=!4m2!3...\n",
              "190704    https://www.google.com/maps/place//data=!4m2!3...\n",
              "31585     https://www.google.com/maps/place//data=!4m2!3...\n",
              "5012      https://www.google.com/maps/place//data=!4m2!3...\n",
              "236496    https://www.google.com/maps/place//data=!4m2!3...\n",
              "140017    https://www.google.com/maps/place//data=!4m2!3...\n",
              "Name: url, dtype: object"
            ]
          },
          "metadata": {},
          "execution_count": 73
        }
      ]
    }
  ],
  "metadata": {
    "colab": {
      "provenance": []
    },
    "kernelspec": {
      "display_name": "Python 3",
      "name": "python3"
    },
    "language_info": {
      "name": "python"
    }
  },
  "nbformat": 4,
  "nbformat_minor": 0
}